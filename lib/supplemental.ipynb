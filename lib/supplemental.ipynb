{
 "cells": [
  {
   "cell_type": "code",
   "execution_count": 1,
   "metadata": {
    "collapsed": false
   },
   "outputs": [],
   "source": [
    "import sys\n",
    "% matplotlib inline\n",
    "sys.path.append('/Users/annasintsova/git_repos/spatial_dynamics_of_gene_expression_in_response_to_T6SS_attack/lib')\n",
    "from settings import *"
   ]
  },
  {
   "cell_type": "code",
   "execution_count": 2,
   "metadata": {
    "collapsed": true
   },
   "outputs": [],
   "source": [
    "df = pd.read_csv(sequencing_stats_file, index_col = 0)\n",
    "df.index = [\"S\"+d.split(\"_\")[0] for d in df.index]\n",
    "df[\"% Mapped\"] =round(df[\"% Mapped\"]*100,1)"
   ]
  },
  {
   "cell_type": "code",
   "execution_count": 3,
   "metadata": {
    "collapsed": false
   },
   "outputs": [
    {
     "data": {
      "text/html": [
       "<div>\n",
       "<style>\n",
       "    .dataframe thead tr:only-child th {\n",
       "        text-align: right;\n",
       "    }\n",
       "\n",
       "    .dataframe thead th {\n",
       "        text-align: left;\n",
       "    }\n",
       "\n",
       "    .dataframe tbody tr th {\n",
       "        vertical-align: top;\n",
       "    }\n",
       "</style>\n",
       "<table border=\"1\" class=\"dataframe\">\n",
       "  <thead>\n",
       "    <tr style=\"text-align: right;\">\n",
       "      <th></th>\n",
       "      <th>lane.ID</th>\n",
       "      <th>group.ID</th>\n",
       "      <th>time.point</th>\n",
       "      <th>strain.ID</th>\n",
       "      <th>position</th>\n",
       "      <th>RIN</th>\n",
       "    </tr>\n",
       "    <tr>\n",
       "      <th>unique.ID</th>\n",
       "      <th></th>\n",
       "      <th></th>\n",
       "      <th></th>\n",
       "      <th></th>\n",
       "      <th></th>\n",
       "      <th></th>\n",
       "    </tr>\n",
       "  </thead>\n",
       "  <tbody>\n",
       "    <tr>\n",
       "      <th>S63630</th>\n",
       "      <td>L1</td>\n",
       "      <td>Merge | 0 min</td>\n",
       "      <td>0''</td>\n",
       "      <td>HI</td>\n",
       "      <td>L-HI</td>\n",
       "      <td>NaN</td>\n",
       "    </tr>\n",
       "    <tr>\n",
       "      <th>S63631</th>\n",
       "      <td>L1</td>\n",
       "      <td>Merge | 0 min</td>\n",
       "      <td>0''</td>\n",
       "      <td>HI</td>\n",
       "      <td>L-HI</td>\n",
       "      <td>NaN</td>\n",
       "    </tr>\n",
       "    <tr>\n",
       "      <th>S63632</th>\n",
       "      <td>L1</td>\n",
       "      <td>Merge | 0 min</td>\n",
       "      <td>0''</td>\n",
       "      <td>HI</td>\n",
       "      <td>L-HI</td>\n",
       "      <td>NaN</td>\n",
       "    </tr>\n",
       "    <tr>\n",
       "      <th>S63633</th>\n",
       "      <td>L1</td>\n",
       "      <td>Merge | 4 hrs</td>\n",
       "      <td>4'</td>\n",
       "      <td>HI</td>\n",
       "      <td>L-HI</td>\n",
       "      <td>NaN</td>\n",
       "    </tr>\n",
       "    <tr>\n",
       "      <th>S63634</th>\n",
       "      <td>L1</td>\n",
       "      <td>Merge | 4 hrs</td>\n",
       "      <td>4'</td>\n",
       "      <td>HI</td>\n",
       "      <td>L-HI</td>\n",
       "      <td>NaN</td>\n",
       "    </tr>\n",
       "  </tbody>\n",
       "</table>\n",
       "</div>"
      ],
      "text/plain": [
       "          lane.ID       group.ID time.point strain.ID position  RIN\n",
       "unique.ID                                                          \n",
       "S63630         L1  Merge | 0 min        0''        HI     L-HI  NaN\n",
       "S63631         L1  Merge | 0 min        0''        HI     L-HI  NaN\n",
       "S63632         L1  Merge | 0 min        0''        HI     L-HI  NaN\n",
       "S63633         L1  Merge | 4 hrs         4'        HI     L-HI  NaN\n",
       "S63634         L1  Merge | 4 hrs         4'        HI     L-HI  NaN"
      ]
     },
     "execution_count": 3,
     "metadata": {},
     "output_type": "execute_result"
    }
   ],
   "source": [
    "sd = pd.read_csv(study_design_file, index_col=0)\n",
    "sd[\"group.ID\"] = sd[\"group.ID\"].apply(lambda x: samples[x])\n",
    "sd.head()"
   ]
  },
  {
   "cell_type": "code",
   "execution_count": 4,
   "metadata": {
    "collapsed": false
   },
   "outputs": [],
   "source": [
    "final_stat = sd[[\"group.ID\"]].merge(df, right_index=True, left_index=True)"
   ]
  },
  {
   "cell_type": "code",
   "execution_count": 6,
   "metadata": {
    "collapsed": false
   },
   "outputs": [
    {
     "data": {
      "text/html": [
       "<div>\n",
       "<style>\n",
       "    .dataframe thead tr:only-child th {\n",
       "        text-align: right;\n",
       "    }\n",
       "\n",
       "    .dataframe thead th {\n",
       "        text-align: left;\n",
       "    }\n",
       "\n",
       "    .dataframe tbody tr th {\n",
       "        vertical-align: top;\n",
       "    }\n",
       "</style>\n",
       "<table border=\"1\" class=\"dataframe\">\n",
       "  <thead>\n",
       "    <tr style=\"text-align: right;\">\n",
       "      <th></th>\n",
       "      <th>Sample</th>\n",
       "      <th>Total</th>\n",
       "      <th>Mapped</th>\n",
       "      <th>% Mapped</th>\n",
       "    </tr>\n",
       "  </thead>\n",
       "  <tbody>\n",
       "    <tr>\n",
       "      <th>S63630</th>\n",
       "      <td>Merge | 0 min</td>\n",
       "      <td>32859410</td>\n",
       "      <td>32121042</td>\n",
       "      <td>97.8</td>\n",
       "    </tr>\n",
       "    <tr>\n",
       "      <th>S63631</th>\n",
       "      <td>Merge | 0 min</td>\n",
       "      <td>29945225</td>\n",
       "      <td>29451361</td>\n",
       "      <td>98.4</td>\n",
       "    </tr>\n",
       "    <tr>\n",
       "      <th>S63632</th>\n",
       "      <td>Merge | 0 min</td>\n",
       "      <td>29061864</td>\n",
       "      <td>28781175</td>\n",
       "      <td>99.0</td>\n",
       "    </tr>\n",
       "    <tr>\n",
       "      <th>S63633</th>\n",
       "      <td>Merge | 4 hrs</td>\n",
       "      <td>28067896</td>\n",
       "      <td>27208082</td>\n",
       "      <td>96.9</td>\n",
       "    </tr>\n",
       "    <tr>\n",
       "      <th>S63634</th>\n",
       "      <td>Merge | 4 hrs</td>\n",
       "      <td>24047530</td>\n",
       "      <td>22646537</td>\n",
       "      <td>94.2</td>\n",
       "    </tr>\n",
       "  </tbody>\n",
       "</table>\n",
       "</div>"
      ],
      "text/plain": [
       "               Sample     Total    Mapped  % Mapped\n",
       "S63630  Merge | 0 min  32859410  32121042      97.8\n",
       "S63631  Merge | 0 min  29945225  29451361      98.4\n",
       "S63632  Merge | 0 min  29061864  28781175      99.0\n",
       "S63633  Merge | 4 hrs  28067896  27208082      96.9\n",
       "S63634  Merge | 4 hrs  24047530  22646537      94.2"
      ]
     },
     "execution_count": 6,
     "metadata": {},
     "output_type": "execute_result"
    }
   ],
   "source": [
    "final_stat = final_stat.rename(columns={\"group.ID\":\"Sample\"})\n",
    "final_stat.head()"
   ]
  },
  {
   "cell_type": "code",
   "execution_count": 15,
   "metadata": {
    "collapsed": false
   },
   "outputs": [],
   "source": [
    "final_stat.to_csv(os.path.join(data_folder, \"Alignment_Stats.csv\"))"
   ]
  }
 ],
 "metadata": {
  "kernelspec": {
   "display_name": "Python 3",
   "language": "python",
   "name": "python3"
  },
  "language_info": {
   "codemirror_mode": {
    "name": "ipython",
    "version": 3
   },
   "file_extension": ".py",
   "mimetype": "text/x-python",
   "name": "python",
   "nbconvert_exporter": "python",
   "pygments_lexer": "ipython3",
   "version": "3.6.0"
  }
 },
 "nbformat": 4,
 "nbformat_minor": 2
}
