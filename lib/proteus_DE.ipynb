{
 "cells": [
  {
   "cell_type": "code",
   "execution_count": 58,
   "metadata": {
    "collapsed": false
   },
   "outputs": [],
   "source": [
    "# Differential expression analysis\n",
    "\n",
    "library(DESeq2)\n",
    "library (pheatmap)\n",
    "library(RColorBrewer)\n",
    "library (ggplot2)\n",
    "library(dplyr)"
   ]
  },
  {
   "cell_type": "code",
   "execution_count": 59,
   "metadata": {
    "collapsed": true
   },
   "outputs": [],
   "source": [
    "root=\"/Users/annasintsova/git_repos/spatial_dynamics_of_gene_expression_in_response_to_T6SS_attack/\"\n",
    "DATA=paste0(root, \"tables/\")\n",
    "FIG=paste0(root, \"figures/\")"
   ]
  },
  {
   "cell_type": "markdown",
   "metadata": {},
   "source": [
    "### Analyzing Differential Gene Expression between 0 and  30 min on the Dienes Line"
   ]
  },
  {
   "cell_type": "code",
   "execution_count": 61,
   "metadata": {
    "collapsed": false
   },
   "outputs": [],
   "source": [
    "counts_file = paste(\"/Users/annasintsova/git_repos/spatial_dynamics_of_gene_expression_in_response_to_T6SS_attack\",\n",
    "                     \"/data/counts/stranded/2018-04-23_counts.csv\", sep = \"\")\n",
    "counts <- read.table(counts_file, row.names =1, sep = \",\", header = TRUE)\n",
    "experiment_info <- read.csv(paste0(root, \"data/ref/study_design.csv\"),\n",
    "                                header = TRUE, row.names =1)\n",
    "s_names <- c()\n",
    "for (c in colnames(counts)){\n",
    "    x <- gsub(\"X\", \"S\", unlist(strsplit(c, \"_\"))[[1]])\n",
    "    s_names <-c(s_names,x)\n",
    "}\n",
    "colnames(counts) <- s_names\n",
    "exp_info_sample_names <- tibble::rownames_to_column(experiment_info, var = \"rownames\")"
   ]
  },
  {
   "cell_type": "code",
   "execution_count": 54,
   "metadata": {
    "collapsed": true
   },
   "outputs": [],
   "source": [
    "# Function to analyze differential gene expression based on TIME POINT\n",
    "\n",
    "TimeAnalysisDE <- function (counts, exp_info, filename){\n",
    "dds <- DESeqDataSetFromMatrix(countData = as.matrix(counts), colData = exp_info,\n",
    "                                    design = ~time.point)\n",
    "dds <- DESeq(dds)\n",
    "res <- results(dds)\n",
    "\n",
    "resSig <- subset(res, (padj < 0.1)& (log2FoldChange > 1 | log2FoldChange < -1))\n",
    "write.csv(resSig[order(resSig$log2FoldChange, decreasing = TRUE),], paste0(DATA, filename),\n",
    "            row.names = TRUE, quote = FALSE)\n",
    "\n",
    "output <-  list(\"results\" = resSig[order(resSig$log2FoldChange, decreasing = TRUE),], \"dds\"= dds)\n",
    "return (output)\n",
    "}"
   ]
  },
  {
   "cell_type": "code",
   "execution_count": 84,
   "metadata": {
    "collapsed": false
   },
   "outputs": [
    {
     "data": {
      "text/html": [
       "'2018-06-27-dienes-line-test'"
      ],
      "text/latex": [
       "'2018-06-27-dienes-line-test'"
      ],
      "text/markdown": [
       "'2018-06-27-dienes-line-test'"
      ],
      "text/plain": [
       "[1] \"2018-06-27-dienes-line-test\""
      ]
     },
     "metadata": {},
     "output_type": "display_data"
    }
   ],
   "source": [
    "unlist(strsplit(\"2018-06-27-dienes-line-test.csv\", \"\\\\.\"))[1]"
   ]
  },
  {
   "cell_type": "code",
   "execution_count": 85,
   "metadata": {
    "collapsed": false
   },
   "outputs": [],
   "source": [
    "TimeAnalysis_subset <- function(exp_info_sample_names, counts, experiment_info, lane, pos, file_out){\n",
    "    samples <- filter(exp_info_sample_names, lane.ID != lane & position == pos)[,1]\n",
    "    counts <- counts[,samples]\n",
    "    info <- experiment_info[samples,]\n",
    "    analysis <- TimeAnalysisDE(counts, info, file_out)\n",
    "    dds <- analysis$dds\n",
    "    dds <- estimateSizeFactors(dds)\n",
    "    norm_counts <- counts(dds, normalized=TRUE)\n",
    "    write.csv(norm_counts, paste0(DATA, unlist(strsplit(file_out, \"\\\\.\"))[1], \"_counts.csv\"))\n",
    "    return(analysis)\n",
    "}"
   ]
  },
  {
   "cell_type": "code",
   "execution_count": 86,
   "metadata": {
    "collapsed": false
   },
   "outputs": [
    {
     "name": "stderr",
     "output_type": "stream",
     "text": [
      "factor levels were dropped which had no samples\n",
      "estimating size factors\n",
      "estimating dispersions\n",
      "gene-wise dispersion estimates\n",
      "mean-dispersion relationship\n",
      "final dispersion estimates\n",
      "fitting model and testing\n"
     ]
    },
    {
     "data": {
      "text/plain": [
       "log2 fold change (MAP): time.point 30'' vs 0'' \n",
       "Wald test p-value: time.point 30'' vs 0'' \n",
       "DataFrame with 36 rows and 6 columns\n",
       "                         baseMean log2FoldChange     lfcSE      stat\n",
       "                        <numeric>      <numeric> <numeric> <numeric>\n",
       "PMI1426                 2603.3788       2.536457 0.2963109  8.560121\n",
       "PMI1425                 1440.3558       2.219405 0.3207280  6.919898\n",
       "PMI2396                 2135.7921       2.217305 0.3405866  6.510251\n",
       "PMI2397                  485.5849       1.802089 0.3317039  5.432823\n",
       "PMI1427                 2649.0044       1.598964 0.3061397  5.222987\n",
       "...                           ...            ...       ...       ...\n",
       "PMI0648                1809.69278      -1.071900 0.2003107 -5.351189\n",
       "PMI3401                 187.37700      -1.079391 0.2975396 -3.627722\n",
       "PMI0729                 619.92438      -1.084232 0.3113269 -3.482616\n",
       "PMI0861               12880.30164      -1.134173 0.2627818 -4.316025\n",
       "fig|529507.6.peg.3417    40.27845      -1.375656 0.2900474 -4.742865\n",
       "                            pvalue         padj\n",
       "                         <numeric>    <numeric>\n",
       "PMI1426               1.127492e-17 3.902250e-14\n",
       "PMI1425               4.519701e-12 7.821342e-09\n",
       "PMI2396               7.502518e-11 8.655405e-08\n",
       "PMI2397               5.546949e-08 4.799498e-05\n",
       "PMI1427               1.760594e-07 8.704882e-05\n",
       "...                            ...          ...\n",
       "PMI0648               8.737818e-08 5.040265e-05\n",
       "PMI3401               2.859330e-04 3.298714e-02\n",
       "PMI0729               4.965405e-04 4.644666e-02\n",
       "PMI0861               1.588643e-05 3.665528e-03\n",
       "fig|529507.6.peg.3417 2.107163e-06 8.103211e-04"
      ]
     },
     "metadata": {},
     "output_type": "display_data"
    }
   ],
   "source": [
    "dines_line_results <- TimeAnalysis_subset(exp_info_sample_names, counts, \n",
    "                                          experiment_info, \"L1\", \"L-9C\", \"2018-06-27-dienes-line-test.csv\")\n",
    "dines_line_results$results"
   ]
  },
  {
   "cell_type": "code",
   "execution_count": 56,
   "metadata": {
    "collapsed": false
   },
   "outputs": [
    {
     "data": {
      "text/html": [
       "<table>\n",
       "<thead><tr><th></th><th scope=col>lane.ID</th><th scope=col>group.ID</th><th scope=col>time.point</th><th scope=col>strain.ID</th><th scope=col>position</th><th scope=col>RIN</th></tr></thead>\n",
       "<tbody>\n",
       "\t<tr><th scope=row>S76079</th><td>L2    </td><td>Case9 </td><td>0''   </td><td>Mix   </td><td>L-9C  </td><td>7.4   </td></tr>\n",
       "\t<tr><th scope=row>S76080</th><td>L2    </td><td>Case9 </td><td>0''   </td><td>Mix   </td><td>L-9C  </td><td>7.3   </td></tr>\n",
       "\t<tr><th scope=row>S76081</th><td>L2    </td><td>Case9 </td><td>0''   </td><td>Mix   </td><td>L-9C  </td><td>6.8   </td></tr>\n",
       "\t<tr><th scope=row>S76082</th><td>L2    </td><td>Case10</td><td>30''  </td><td>Mix   </td><td>L-9C  </td><td>6.2   </td></tr>\n",
       "\t<tr><th scope=row>S76083</th><td>L2    </td><td>Case10</td><td>30''  </td><td>Mix   </td><td>L-9C  </td><td>6.1   </td></tr>\n",
       "\t<tr><th scope=row>S76084</th><td>L2    </td><td>Case10</td><td>30''  </td><td>Mix   </td><td>L-9C  </td><td>5.5   </td></tr>\n",
       "</tbody>\n",
       "</table>\n"
      ],
      "text/latex": [
       "\\begin{tabular}{r|llllll}\n",
       "  & lane.ID & group.ID & time.point & strain.ID & position & RIN\\\\\n",
       "\\hline\n",
       "\tS76079 & L2     & Case9  & 0''    & Mix    & L-9C   & 7.4   \\\\\n",
       "\tS76080 & L2     & Case9  & 0''    & Mix    & L-9C   & 7.3   \\\\\n",
       "\tS76081 & L2     & Case9  & 0''    & Mix    & L-9C   & 6.8   \\\\\n",
       "\tS76082 & L2     & Case10 & 30''   & Mix    & L-9C   & 6.2   \\\\\n",
       "\tS76083 & L2     & Case10 & 30''   & Mix    & L-9C   & 6.1   \\\\\n",
       "\tS76084 & L2     & Case10 & 30''   & Mix    & L-9C   & 5.5   \\\\\n",
       "\\end{tabular}\n"
      ],
      "text/markdown": [
       "\n",
       "| <!--/--> | lane.ID | group.ID | time.point | strain.ID | position | RIN | \n",
       "|---|---|---|---|---|---|\n",
       "| S76079 | L2     | Case9  | 0''    | Mix    | L-9C   | 7.4    | \n",
       "| S76080 | L2     | Case9  | 0''    | Mix    | L-9C   | 7.3    | \n",
       "| S76081 | L2     | Case9  | 0''    | Mix    | L-9C   | 6.8    | \n",
       "| S76082 | L2     | Case10 | 30''   | Mix    | L-9C   | 6.2    | \n",
       "| S76083 | L2     | Case10 | 30''   | Mix    | L-9C   | 6.1    | \n",
       "| S76084 | L2     | Case10 | 30''   | Mix    | L-9C   | 5.5    | \n",
       "\n",
       "\n"
      ],
      "text/plain": [
       "       lane.ID group.ID time.point strain.ID position RIN\n",
       "S76079 L2      Case9    0''        Mix       L-9C     7.4\n",
       "S76080 L2      Case9    0''        Mix       L-9C     7.3\n",
       "S76081 L2      Case9    0''        Mix       L-9C     6.8\n",
       "S76082 L2      Case10   30''       Mix       L-9C     6.2\n",
       "S76083 L2      Case10   30''       Mix       L-9C     6.1\n",
       "S76084 L2      Case10   30''       Mix       L-9C     5.5"
      ]
     },
     "metadata": {},
     "output_type": "display_data"
    }
   ],
   "source": [
    "Dienes_line_samples <- filter(exp_info_sample_names, lane.ID != \"L1\" & position == \"L-9C\")[,1]\n",
    "D_counts <- counts[,Dienes_line_samples]\n",
    "D_exp_info <- experiment_info[Dienes_line_samples,]\n",
    "D_exp_info"
   ]
  },
  {
   "cell_type": "code",
   "execution_count": 57,
   "metadata": {
    "collapsed": false
   },
   "outputs": [
    {
     "name": "stderr",
     "output_type": "stream",
     "text": [
      "factor levels were dropped which had no samples\n",
      "estimating size factors\n",
      "estimating dispersions\n",
      "gene-wise dispersion estimates\n",
      "mean-dispersion relationship\n",
      "final dispersion estimates\n",
      "fitting model and testing\n"
     ]
    }
   ],
   "source": [
    "Dienes_time <- TimeAnalysisDE(D_counts, D_exp_info, \"2018-06-27-Dienes-line-time-no-quotes.csv\")"
   ]
  },
  {
   "cell_type": "code",
   "execution_count": 19,
   "metadata": {
    "collapsed": false
   },
   "outputs": [
    {
     "data": {
      "text/plain": [
       "log2 fold change (MAP): time.point 30'' vs 0'' \n",
       "Wald test p-value: time.point 30'' vs 0'' \n",
       "DataFrame with 36 rows and 6 columns\n",
       "                         baseMean log2FoldChange     lfcSE      stat\n",
       "                        <numeric>      <numeric> <numeric> <numeric>\n",
       "PMI1426                 2603.3788       2.536457 0.2963109  8.560121\n",
       "PMI1425                 1440.3558       2.219405 0.3207280  6.919898\n",
       "PMI2396                 2135.7921       2.217305 0.3405866  6.510251\n",
       "PMI2397                  485.5849       1.802089 0.3317039  5.432823\n",
       "PMI1427                 2649.0044       1.598964 0.3061397  5.222987\n",
       "...                           ...            ...       ...       ...\n",
       "PMI0648                1809.69278      -1.071900 0.2003107 -5.351189\n",
       "PMI3401                 187.37700      -1.079391 0.2975396 -3.627722\n",
       "PMI0729                 619.92438      -1.084232 0.3113269 -3.482616\n",
       "PMI0861               12880.30164      -1.134173 0.2627818 -4.316025\n",
       "fig|529507.6.peg.3417    40.27845      -1.375656 0.2900474 -4.742865\n",
       "                            pvalue         padj\n",
       "                         <numeric>    <numeric>\n",
       "PMI1426               1.127492e-17 3.902250e-14\n",
       "PMI1425               4.519701e-12 7.821342e-09\n",
       "PMI2396               7.502518e-11 8.655405e-08\n",
       "PMI2397               5.546949e-08 4.799498e-05\n",
       "PMI1427               1.760594e-07 8.704882e-05\n",
       "...                            ...          ...\n",
       "PMI0648               8.737818e-08 5.040265e-05\n",
       "PMI3401               2.859330e-04 3.298714e-02\n",
       "PMI0729               4.965405e-04 4.644666e-02\n",
       "PMI0861               1.588643e-05 3.665528e-03\n",
       "fig|529507.6.peg.3417 2.107163e-06 8.103211e-04"
      ]
     },
     "metadata": {},
     "output_type": "display_data"
    }
   ],
   "source": [
    "Dienes_time$results"
   ]
  },
  {
   "cell_type": "markdown",
   "metadata": {},
   "source": [
    "### Analyzing Differential Gene Expression Behind the Merge at 0 and 30 min"
   ]
  },
  {
   "cell_type": "code",
   "execution_count": 20,
   "metadata": {
    "collapsed": false
   },
   "outputs": [
    {
     "data": {
      "text/html": [
       "<table>\n",
       "<thead><tr><th></th><th scope=col>S76073</th><th scope=col>S76074</th><th scope=col>S76075</th><th scope=col>S76088</th><th scope=col>S76089</th><th scope=col>S76090</th></tr></thead>\n",
       "<tbody>\n",
       "\t<tr><th scope=row>PMI0001</th><td> 5071</td><td> 5627</td><td> 4484</td><td> 3439</td><td> 5636</td><td> 6074</td></tr>\n",
       "\t<tr><th scope=row>PMI0002</th><td> 1547</td><td> 1875</td><td> 1452</td><td> 1331</td><td> 1935</td><td> 2153</td></tr>\n",
       "\t<tr><th scope=row>PMI0003</th><td> 6233</td><td> 5985</td><td> 5254</td><td> 5338</td><td> 7894</td><td> 8399</td></tr>\n",
       "\t<tr><th scope=row>PMI0004</th><td>  278</td><td>  299</td><td>  237</td><td>  377</td><td>  345</td><td>  381</td></tr>\n",
       "\t<tr><th scope=row>PMI0005</th><td> 1462</td><td>  989</td><td>  884</td><td>  628</td><td> 1044</td><td>  926</td></tr>\n",
       "\t<tr><th scope=row>PMI0006</th><td>18064</td><td>16638</td><td>15093</td><td>13738</td><td>20981</td><td>20335</td></tr>\n",
       "\t<tr><th scope=row>PMI0007</th><td> 2792</td><td> 3919</td><td> 3356</td><td> 2730</td><td> 2342</td><td> 2906</td></tr>\n",
       "\t<tr><th scope=row>PMI0008</th><td>  870</td><td> 1033</td><td>  931</td><td> 1279</td><td> 1216</td><td> 1308</td></tr>\n",
       "\t<tr><th scope=row>PMI0009</th><td>20533</td><td>24041</td><td>18494</td><td>23161</td><td>23117</td><td>19901</td></tr>\n",
       "\t<tr><th scope=row>PMI0010</th><td> 2381</td><td> 3621</td><td> 2653</td><td> 4067</td><td> 3135</td><td> 2886</td></tr>\n",
       "\t<tr><th scope=row>PMI0011</th><td> 1565</td><td> 1761</td><td> 1991</td><td> 2288</td><td> 1578</td><td> 2149</td></tr>\n",
       "\t<tr><th scope=row>PMI0012</th><td>  739</td><td>  843</td><td>  703</td><td> 1298</td><td> 1454</td><td> 1414</td></tr>\n",
       "\t<tr><th scope=row>PMI0013</th><td>  300</td><td>  370</td><td>  326</td><td> 1040</td><td>  838</td><td>  809</td></tr>\n",
       "\t<tr><th scope=row>PMI0014</th><td> 2320</td><td> 3013</td><td> 2253</td><td> 3345</td><td> 3291</td><td> 3271</td></tr>\n",
       "\t<tr><th scope=row>PMI0015</th><td> 9133</td><td>13102</td><td>11948</td><td>13117</td><td>15078</td><td>17190</td></tr>\n",
       "\t<tr><th scope=row>PMI0016</th><td> 1465</td><td> 2117</td><td> 1553</td><td> 2265</td><td> 2078</td><td> 2413</td></tr>\n",
       "\t<tr><th scope=row>PMI0017</th><td>  671</td><td>  983</td><td>  771</td><td> 1021</td><td>  995</td><td> 1157</td></tr>\n",
       "\t<tr><th scope=row>PMI0018</th><td>  589</td><td> 1022</td><td>  921</td><td> 1275</td><td> 1366</td><td> 1417</td></tr>\n",
       "\t<tr><th scope=row>PMI0019</th><td>  675</td><td>  659</td><td>  630</td><td>  393</td><td>  483</td><td>  572</td></tr>\n",
       "\t<tr><th scope=row>PMI0020</th><td>  980</td><td>  819</td><td>  851</td><td>  629</td><td> 1114</td><td>  917</td></tr>\n",
       "\t<tr><th scope=row>PMI0021</th><td> 4202</td><td> 3026</td><td> 3359</td><td> 2063</td><td> 3938</td><td> 3507</td></tr>\n",
       "\t<tr><th scope=row>PMI0023</th><td>  401</td><td>  495</td><td>  384</td><td>  503</td><td>  485</td><td>  544</td></tr>\n",
       "\t<tr><th scope=row>PMI0024</th><td> 2929</td><td> 2109</td><td> 1732</td><td>  735</td><td> 1263</td><td> 1233</td></tr>\n",
       "\t<tr><th scope=row>PMI0025</th><td> 2621</td><td> 2297</td><td> 1959</td><td> 1068</td><td> 1921</td><td> 1941</td></tr>\n",
       "\t<tr><th scope=row>PMI0026</th><td>  489</td><td>  385</td><td>  351</td><td>  209</td><td>  417</td><td>  442</td></tr>\n",
       "\t<tr><th scope=row>PMI0027</th><td>  260</td><td>  243</td><td>  205</td><td>  292</td><td>  232</td><td>  323</td></tr>\n",
       "\t<tr><th scope=row>PMI0028</th><td> 1148</td><td> 1127</td><td>  965</td><td>  396</td><td>  892</td><td>  983</td></tr>\n",
       "\t<tr><th scope=row>PMI0029</th><td> 1705</td><td> 2466</td><td> 2389</td><td> 4608</td><td> 3905</td><td> 4266</td></tr>\n",
       "\t<tr><th scope=row>PMI0030</th><td>  117</td><td>  160</td><td>  135</td><td>  314</td><td>  231</td><td>  232</td></tr>\n",
       "\t<tr><th scope=row>PMI0031</th><td>   10</td><td>   10</td><td>   18</td><td>    8</td><td>    7</td><td>    7</td></tr>\n",
       "\t<tr><th scope=row>⋮</th><td>⋮</td><td>⋮</td><td>⋮</td><td>⋮</td><td>⋮</td><td>⋮</td></tr>\n",
       "\t<tr><th scope=row>fig|529507.6.peg.487</th><td>27 </td><td>30 </td><td>26 </td><td> 8 </td><td>  9</td><td> 20</td></tr>\n",
       "\t<tr><th scope=row>fig|529507.6.peg.514</th><td>13 </td><td>31 </td><td>26 </td><td>18 </td><td> 16</td><td> 14</td></tr>\n",
       "\t<tr><th scope=row>fig|529507.6.peg.515</th><td> 2 </td><td> 1 </td><td> 2 </td><td> 1 </td><td>  0</td><td>  2</td></tr>\n",
       "\t<tr><th scope=row>fig|529507.6.peg.580</th><td> 1 </td><td> 6 </td><td> 2 </td><td> 3 </td><td>  0</td><td>  1</td></tr>\n",
       "\t<tr><th scope=row>fig|529507.6.peg.59</th><td>12 </td><td>18 </td><td>11 </td><td>18 </td><td> 13</td><td> 10</td></tr>\n",
       "\t<tr><th scope=row>fig|529507.6.peg.60</th><td>33 </td><td>48 </td><td>38 </td><td>33 </td><td> 45</td><td> 39</td></tr>\n",
       "\t<tr><th scope=row>fig|529507.6.peg.637</th><td>28 </td><td>36 </td><td>28 </td><td>27 </td><td> 26</td><td> 25</td></tr>\n",
       "\t<tr><th scope=row>fig|529507.6.peg.686</th><td> 0 </td><td> 2 </td><td> 0 </td><td> 1 </td><td>  1</td><td>  1</td></tr>\n",
       "\t<tr><th scope=row>fig|529507.6.peg.744</th><td>29 </td><td>46 </td><td>34 </td><td>28 </td><td> 26</td><td> 42</td></tr>\n",
       "\t<tr><th scope=row>fig|529507.6.peg.759</th><td>51 </td><td>78 </td><td>45 </td><td>56 </td><td> 53</td><td> 48</td></tr>\n",
       "\t<tr><th scope=row>fig|529507.6.peg.760</th><td>55 </td><td>64 </td><td>35 </td><td>50 </td><td> 67</td><td> 58</td></tr>\n",
       "\t<tr><th scope=row>fig|529507.6.peg.776</th><td> 1 </td><td> 1 </td><td> 0 </td><td> 0 </td><td>  0</td><td>  0</td></tr>\n",
       "\t<tr><th scope=row>fig|529507.6.peg.791</th><td>94 </td><td>51 </td><td>64 </td><td>97 </td><td>117</td><td>108</td></tr>\n",
       "\t<tr><th scope=row>fig|529507.6.peg.794</th><td> 0 </td><td> 0 </td><td> 0 </td><td> 0 </td><td>  0</td><td>  1</td></tr>\n",
       "\t<tr><th scope=row>fig|529507.6.peg.795</th><td> 5 </td><td> 1 </td><td> 0 </td><td> 0 </td><td>  0</td><td>  1</td></tr>\n",
       "\t<tr><th scope=row>fig|529507.6.peg.798</th><td>28 </td><td>23 </td><td>19 </td><td>12 </td><td> 11</td><td> 12</td></tr>\n",
       "\t<tr><th scope=row>fig|529507.6.peg.799</th><td> 6 </td><td>10 </td><td> 7 </td><td> 9 </td><td>  7</td><td>  3</td></tr>\n",
       "\t<tr><th scope=row>fig|529507.6.peg.804</th><td>14 </td><td>26 </td><td>13 </td><td> 7 </td><td> 13</td><td> 14</td></tr>\n",
       "\t<tr><th scope=row>fig|529507.6.peg.895</th><td> 0 </td><td> 0 </td><td> 0 </td><td> 0 </td><td>  0</td><td>  0</td></tr>\n",
       "\t<tr><th scope=row>fig|529507.6.peg.917</th><td>12 </td><td> 8 </td><td> 5 </td><td>10 </td><td> 10</td><td>  6</td></tr>\n",
       "\t<tr><th scope=row>fig|529507.6.peg.919</th><td> 0 </td><td> 0 </td><td> 0 </td><td> 0 </td><td>  0</td><td>  0</td></tr>\n",
       "\t<tr><th scope=row>fig|529507.6.peg.920</th><td> 4 </td><td> 8 </td><td> 6 </td><td> 2 </td><td>  4</td><td>  4</td></tr>\n",
       "\t<tr><th scope=row>fig|529507.6.peg.924</th><td> 6 </td><td> 2 </td><td> 7 </td><td> 3 </td><td>  3</td><td>  6</td></tr>\n",
       "\t<tr><th scope=row>fig|529507.6.peg.937</th><td>29 </td><td>30 </td><td>27 </td><td>19 </td><td> 34</td><td> 23</td></tr>\n",
       "\t<tr><th scope=row>fig|529507.6.peg.938</th><td> 0 </td><td> 0 </td><td> 1 </td><td> 0 </td><td>  1</td><td>  0</td></tr>\n",
       "\t<tr><th scope=row>fig|529507.6.peg.940</th><td> 1 </td><td> 0 </td><td> 0 </td><td> 0 </td><td>  0</td><td>  0</td></tr>\n",
       "\t<tr><th scope=row>fig|529507.6.peg.954</th><td>27 </td><td>18 </td><td> 7 </td><td>12 </td><td> 14</td><td> 11</td></tr>\n",
       "\t<tr><th scope=row>fig|529507.6.peg.964</th><td>16 </td><td>22 </td><td>19 </td><td>13 </td><td> 17</td><td> 10</td></tr>\n",
       "\t<tr><th scope=row>fig|529507.6.peg.97</th><td>12 </td><td>19 </td><td>19 </td><td>35 </td><td> 25</td><td> 35</td></tr>\n",
       "\t<tr><th scope=row>fig|529507.6.peg.983</th><td> 3 </td><td> 2 </td><td> 3 </td><td>10 </td><td>  4</td><td>  3</td></tr>\n",
       "</tbody>\n",
       "</table>\n"
      ],
      "text/latex": [
       "\\begin{tabular}{r|llllll}\n",
       "  & S76073 & S76074 & S76075 & S76088 & S76089 & S76090\\\\\n",
       "\\hline\n",
       "\tPMI0001 &  5071 &  5627 &  4484 &  3439 &  5636 &  6074\\\\\n",
       "\tPMI0002 &  1547 &  1875 &  1452 &  1331 &  1935 &  2153\\\\\n",
       "\tPMI0003 &  6233 &  5985 &  5254 &  5338 &  7894 &  8399\\\\\n",
       "\tPMI0004 &   278 &   299 &   237 &   377 &   345 &   381\\\\\n",
       "\tPMI0005 &  1462 &   989 &   884 &   628 &  1044 &   926\\\\\n",
       "\tPMI0006 & 18064 & 16638 & 15093 & 13738 & 20981 & 20335\\\\\n",
       "\tPMI0007 &  2792 &  3919 &  3356 &  2730 &  2342 &  2906\\\\\n",
       "\tPMI0008 &   870 &  1033 &   931 &  1279 &  1216 &  1308\\\\\n",
       "\tPMI0009 & 20533 & 24041 & 18494 & 23161 & 23117 & 19901\\\\\n",
       "\tPMI0010 &  2381 &  3621 &  2653 &  4067 &  3135 &  2886\\\\\n",
       "\tPMI0011 &  1565 &  1761 &  1991 &  2288 &  1578 &  2149\\\\\n",
       "\tPMI0012 &   739 &   843 &   703 &  1298 &  1454 &  1414\\\\\n",
       "\tPMI0013 &   300 &   370 &   326 &  1040 &   838 &   809\\\\\n",
       "\tPMI0014 &  2320 &  3013 &  2253 &  3345 &  3291 &  3271\\\\\n",
       "\tPMI0015 &  9133 & 13102 & 11948 & 13117 & 15078 & 17190\\\\\n",
       "\tPMI0016 &  1465 &  2117 &  1553 &  2265 &  2078 &  2413\\\\\n",
       "\tPMI0017 &   671 &   983 &   771 &  1021 &   995 &  1157\\\\\n",
       "\tPMI0018 &   589 &  1022 &   921 &  1275 &  1366 &  1417\\\\\n",
       "\tPMI0019 &   675 &   659 &   630 &   393 &   483 &   572\\\\\n",
       "\tPMI0020 &   980 &   819 &   851 &   629 &  1114 &   917\\\\\n",
       "\tPMI0021 &  4202 &  3026 &  3359 &  2063 &  3938 &  3507\\\\\n",
       "\tPMI0023 &   401 &   495 &   384 &   503 &   485 &   544\\\\\n",
       "\tPMI0024 &  2929 &  2109 &  1732 &   735 &  1263 &  1233\\\\\n",
       "\tPMI0025 &  2621 &  2297 &  1959 &  1068 &  1921 &  1941\\\\\n",
       "\tPMI0026 &   489 &   385 &   351 &   209 &   417 &   442\\\\\n",
       "\tPMI0027 &   260 &   243 &   205 &   292 &   232 &   323\\\\\n",
       "\tPMI0028 &  1148 &  1127 &   965 &   396 &   892 &   983\\\\\n",
       "\tPMI0029 &  1705 &  2466 &  2389 &  4608 &  3905 &  4266\\\\\n",
       "\tPMI0030 &   117 &   160 &   135 &   314 &   231 &   232\\\\\n",
       "\tPMI0031 &    10 &    10 &    18 &     8 &     7 &     7\\\\\n",
       "\t⋮ & ⋮ & ⋮ & ⋮ & ⋮ & ⋮ & ⋮\\\\\n",
       "\tfig\\textbar{}529507.6.peg.487 & 27  & 30  & 26  &  8  &   9 &  20\\\\\n",
       "\tfig\\textbar{}529507.6.peg.514 & 13  & 31  & 26  & 18  &  16 &  14\\\\\n",
       "\tfig\\textbar{}529507.6.peg.515 &  2  &  1  &  2  &  1  &   0 &   2\\\\\n",
       "\tfig\\textbar{}529507.6.peg.580 &  1  &  6  &  2  &  3  &   0 &   1\\\\\n",
       "\tfig\\textbar{}529507.6.peg.59 & 12  & 18  & 11  & 18  &  13 &  10\\\\\n",
       "\tfig\\textbar{}529507.6.peg.60 & 33  & 48  & 38  & 33  &  45 &  39\\\\\n",
       "\tfig\\textbar{}529507.6.peg.637 & 28  & 36  & 28  & 27  &  26 &  25\\\\\n",
       "\tfig\\textbar{}529507.6.peg.686 &  0  &  2  &  0  &  1  &   1 &   1\\\\\n",
       "\tfig\\textbar{}529507.6.peg.744 & 29  & 46  & 34  & 28  &  26 &  42\\\\\n",
       "\tfig\\textbar{}529507.6.peg.759 & 51  & 78  & 45  & 56  &  53 &  48\\\\\n",
       "\tfig\\textbar{}529507.6.peg.760 & 55  & 64  & 35  & 50  &  67 &  58\\\\\n",
       "\tfig\\textbar{}529507.6.peg.776 &  1  &  1  &  0  &  0  &   0 &   0\\\\\n",
       "\tfig\\textbar{}529507.6.peg.791 & 94  & 51  & 64  & 97  & 117 & 108\\\\\n",
       "\tfig\\textbar{}529507.6.peg.794 &  0  &  0  &  0  &  0  &   0 &   1\\\\\n",
       "\tfig\\textbar{}529507.6.peg.795 &  5  &  1  &  0  &  0  &   0 &   1\\\\\n",
       "\tfig\\textbar{}529507.6.peg.798 & 28  & 23  & 19  & 12  &  11 &  12\\\\\n",
       "\tfig\\textbar{}529507.6.peg.799 &  6  & 10  &  7  &  9  &   7 &   3\\\\\n",
       "\tfig\\textbar{}529507.6.peg.804 & 14  & 26  & 13  &  7  &  13 &  14\\\\\n",
       "\tfig\\textbar{}529507.6.peg.895 &  0  &  0  &  0  &  0  &   0 &   0\\\\\n",
       "\tfig\\textbar{}529507.6.peg.917 & 12  &  8  &  5  & 10  &  10 &   6\\\\\n",
       "\tfig\\textbar{}529507.6.peg.919 &  0  &  0  &  0  &  0  &   0 &   0\\\\\n",
       "\tfig\\textbar{}529507.6.peg.920 &  4  &  8  &  6  &  2  &   4 &   4\\\\\n",
       "\tfig\\textbar{}529507.6.peg.924 &  6  &  2  &  7  &  3  &   3 &   6\\\\\n",
       "\tfig\\textbar{}529507.6.peg.937 & 29  & 30  & 27  & 19  &  34 &  23\\\\\n",
       "\tfig\\textbar{}529507.6.peg.938 &  0  &  0  &  1  &  0  &   1 &   0\\\\\n",
       "\tfig\\textbar{}529507.6.peg.940 &  1  &  0  &  0  &  0  &   0 &   0\\\\\n",
       "\tfig\\textbar{}529507.6.peg.954 & 27  & 18  &  7  & 12  &  14 &  11\\\\\n",
       "\tfig\\textbar{}529507.6.peg.964 & 16  & 22  & 19  & 13  &  17 &  10\\\\\n",
       "\tfig\\textbar{}529507.6.peg.97 & 12  & 19  & 19  & 35  &  25 &  35\\\\\n",
       "\tfig\\textbar{}529507.6.peg.983 &  3  &  2  &  3  & 10  &   4 &   3\\\\\n",
       "\\end{tabular}\n"
      ],
      "text/markdown": [
       "\n",
       "| <!--/--> | S76073 | S76074 | S76075 | S76088 | S76089 | S76090 | \n",
       "|---|---|---|---|---|---|---|---|---|---|---|---|---|---|---|---|---|---|---|---|---|---|---|---|---|---|---|---|---|---|---|---|---|---|---|---|---|---|---|---|---|---|---|---|---|---|---|---|---|---|---|---|---|---|---|---|---|---|---|---|---|\n",
       "| PMI0001 |  5071 |  5627 |  4484 |  3439 |  5636 |  6074 | \n",
       "| PMI0002 |  1547 |  1875 |  1452 |  1331 |  1935 |  2153 | \n",
       "| PMI0003 |  6233 |  5985 |  5254 |  5338 |  7894 |  8399 | \n",
       "| PMI0004 |   278 |   299 |   237 |   377 |   345 |   381 | \n",
       "| PMI0005 |  1462 |   989 |   884 |   628 |  1044 |   926 | \n",
       "| PMI0006 | 18064 | 16638 | 15093 | 13738 | 20981 | 20335 | \n",
       "| PMI0007 |  2792 |  3919 |  3356 |  2730 |  2342 |  2906 | \n",
       "| PMI0008 |   870 |  1033 |   931 |  1279 |  1216 |  1308 | \n",
       "| PMI0009 | 20533 | 24041 | 18494 | 23161 | 23117 | 19901 | \n",
       "| PMI0010 |  2381 |  3621 |  2653 |  4067 |  3135 |  2886 | \n",
       "| PMI0011 |  1565 |  1761 |  1991 |  2288 |  1578 |  2149 | \n",
       "| PMI0012 |   739 |   843 |   703 |  1298 |  1454 |  1414 | \n",
       "| PMI0013 |   300 |   370 |   326 |  1040 |   838 |   809 | \n",
       "| PMI0014 |  2320 |  3013 |  2253 |  3345 |  3291 |  3271 | \n",
       "| PMI0015 |  9133 | 13102 | 11948 | 13117 | 15078 | 17190 | \n",
       "| PMI0016 |  1465 |  2117 |  1553 |  2265 |  2078 |  2413 | \n",
       "| PMI0017 |   671 |   983 |   771 |  1021 |   995 |  1157 | \n",
       "| PMI0018 |   589 |  1022 |   921 |  1275 |  1366 |  1417 | \n",
       "| PMI0019 |   675 |   659 |   630 |   393 |   483 |   572 | \n",
       "| PMI0020 |   980 |   819 |   851 |   629 |  1114 |   917 | \n",
       "| PMI0021 |  4202 |  3026 |  3359 |  2063 |  3938 |  3507 | \n",
       "| PMI0023 |   401 |   495 |   384 |   503 |   485 |   544 | \n",
       "| PMI0024 |  2929 |  2109 |  1732 |   735 |  1263 |  1233 | \n",
       "| PMI0025 |  2621 |  2297 |  1959 |  1068 |  1921 |  1941 | \n",
       "| PMI0026 |   489 |   385 |   351 |   209 |   417 |   442 | \n",
       "| PMI0027 |   260 |   243 |   205 |   292 |   232 |   323 | \n",
       "| PMI0028 |  1148 |  1127 |   965 |   396 |   892 |   983 | \n",
       "| PMI0029 |  1705 |  2466 |  2389 |  4608 |  3905 |  4266 | \n",
       "| PMI0030 |   117 |   160 |   135 |   314 |   231 |   232 | \n",
       "| PMI0031 |    10 |    10 |    18 |     8 |     7 |     7 | \n",
       "| ⋮ | ⋮ | ⋮ | ⋮ | ⋮ | ⋮ | ⋮ | \n",
       "| fig|529507.6.peg.487 | 27  | 30  | 26  |  8  |   9 |  20 | \n",
       "| fig|529507.6.peg.514 | 13  | 31  | 26  | 18  |  16 |  14 | \n",
       "| fig|529507.6.peg.515 |  2  |  1  |  2  |  1  |   0 |   2 | \n",
       "| fig|529507.6.peg.580 |  1  |  6  |  2  |  3  |   0 |   1 | \n",
       "| fig|529507.6.peg.59 | 12  | 18  | 11  | 18  |  13 |  10 | \n",
       "| fig|529507.6.peg.60 | 33  | 48  | 38  | 33  |  45 |  39 | \n",
       "| fig|529507.6.peg.637 | 28  | 36  | 28  | 27  |  26 |  25 | \n",
       "| fig|529507.6.peg.686 |  0  |  2  |  0  |  1  |   1 |   1 | \n",
       "| fig|529507.6.peg.744 | 29  | 46  | 34  | 28  |  26 |  42 | \n",
       "| fig|529507.6.peg.759 | 51  | 78  | 45  | 56  |  53 |  48 | \n",
       "| fig|529507.6.peg.760 | 55  | 64  | 35  | 50  |  67 |  58 | \n",
       "| fig|529507.6.peg.776 |  1  |  1  |  0  |  0  |   0 |   0 | \n",
       "| fig|529507.6.peg.791 | 94  | 51  | 64  | 97  | 117 | 108 | \n",
       "| fig|529507.6.peg.794 |  0  |  0  |  0  |  0  |   0 |   1 | \n",
       "| fig|529507.6.peg.795 |  5  |  1  |  0  |  0  |   0 |   1 | \n",
       "| fig|529507.6.peg.798 | 28  | 23  | 19  | 12  |  11 |  12 | \n",
       "| fig|529507.6.peg.799 |  6  | 10  |  7  |  9  |   7 |   3 | \n",
       "| fig|529507.6.peg.804 | 14  | 26  | 13  |  7  |  13 |  14 | \n",
       "| fig|529507.6.peg.895 |  0  |  0  |  0  |  0  |   0 |   0 | \n",
       "| fig|529507.6.peg.917 | 12  |  8  |  5  | 10  |  10 |   6 | \n",
       "| fig|529507.6.peg.919 |  0  |  0  |  0  |  0  |   0 |   0 | \n",
       "| fig|529507.6.peg.920 |  4  |  8  |  6  |  2  |   4 |   4 | \n",
       "| fig|529507.6.peg.924 |  6  |  2  |  7  |  3  |   3 |   6 | \n",
       "| fig|529507.6.peg.937 | 29  | 30  | 27  | 19  |  34 |  23 | \n",
       "| fig|529507.6.peg.938 |  0  |  0  |  1  |  0  |   1 |   0 | \n",
       "| fig|529507.6.peg.940 |  1  |  0  |  0  |  0  |   0 |   0 | \n",
       "| fig|529507.6.peg.954 | 27  | 18  |  7  | 12  |  14 |  11 | \n",
       "| fig|529507.6.peg.964 | 16  | 22  | 19  | 13  |  17 |  10 | \n",
       "| fig|529507.6.peg.97 | 12  | 19  | 19  | 35  |  25 |  35 | \n",
       "| fig|529507.6.peg.983 |  3  |  2  |  3  | 10  |   4 |   3 | \n",
       "\n",
       "\n"
      ],
      "text/plain": [
       "                     S76073 S76074 S76075 S76088 S76089 S76090\n",
       "PMI0001               5071   5627   4484   3439   5636   6074 \n",
       "PMI0002               1547   1875   1452   1331   1935   2153 \n",
       "PMI0003               6233   5985   5254   5338   7894   8399 \n",
       "PMI0004                278    299    237    377    345    381 \n",
       "PMI0005               1462    989    884    628   1044    926 \n",
       "PMI0006              18064  16638  15093  13738  20981  20335 \n",
       "PMI0007               2792   3919   3356   2730   2342   2906 \n",
       "PMI0008                870   1033    931   1279   1216   1308 \n",
       "PMI0009              20533  24041  18494  23161  23117  19901 \n",
       "PMI0010               2381   3621   2653   4067   3135   2886 \n",
       "PMI0011               1565   1761   1991   2288   1578   2149 \n",
       "PMI0012                739    843    703   1298   1454   1414 \n",
       "PMI0013                300    370    326   1040    838    809 \n",
       "PMI0014               2320   3013   2253   3345   3291   3271 \n",
       "PMI0015               9133  13102  11948  13117  15078  17190 \n",
       "PMI0016               1465   2117   1553   2265   2078   2413 \n",
       "PMI0017                671    983    771   1021    995   1157 \n",
       "PMI0018                589   1022    921   1275   1366   1417 \n",
       "PMI0019                675    659    630    393    483    572 \n",
       "PMI0020                980    819    851    629   1114    917 \n",
       "PMI0021               4202   3026   3359   2063   3938   3507 \n",
       "PMI0023                401    495    384    503    485    544 \n",
       "PMI0024               2929   2109   1732    735   1263   1233 \n",
       "PMI0025               2621   2297   1959   1068   1921   1941 \n",
       "PMI0026                489    385    351    209    417    442 \n",
       "PMI0027                260    243    205    292    232    323 \n",
       "PMI0028               1148   1127    965    396    892    983 \n",
       "PMI0029               1705   2466   2389   4608   3905   4266 \n",
       "PMI0030                117    160    135    314    231    232 \n",
       "PMI0031                 10     10     18      8      7      7 \n",
       "⋮                    ⋮      ⋮      ⋮      ⋮      ⋮      ⋮     \n",
       "fig|529507.6.peg.487 27     30     26      8       9     20   \n",
       "fig|529507.6.peg.514 13     31     26     18      16     14   \n",
       "fig|529507.6.peg.515  2      1      2      1       0      2   \n",
       "fig|529507.6.peg.580  1      6      2      3       0      1   \n",
       "fig|529507.6.peg.59  12     18     11     18      13     10   \n",
       "fig|529507.6.peg.60  33     48     38     33      45     39   \n",
       "fig|529507.6.peg.637 28     36     28     27      26     25   \n",
       "fig|529507.6.peg.686  0      2      0      1       1      1   \n",
       "fig|529507.6.peg.744 29     46     34     28      26     42   \n",
       "fig|529507.6.peg.759 51     78     45     56      53     48   \n",
       "fig|529507.6.peg.760 55     64     35     50      67     58   \n",
       "fig|529507.6.peg.776  1      1      0      0       0      0   \n",
       "fig|529507.6.peg.791 94     51     64     97     117    108   \n",
       "fig|529507.6.peg.794  0      0      0      0       0      1   \n",
       "fig|529507.6.peg.795  5      1      0      0       0      1   \n",
       "fig|529507.6.peg.798 28     23     19     12      11     12   \n",
       "fig|529507.6.peg.799  6     10      7      9       7      3   \n",
       "fig|529507.6.peg.804 14     26     13      7      13     14   \n",
       "fig|529507.6.peg.895  0      0      0      0       0      0   \n",
       "fig|529507.6.peg.917 12      8      5     10      10      6   \n",
       "fig|529507.6.peg.919  0      0      0      0       0      0   \n",
       "fig|529507.6.peg.920  4      8      6      2       4      4   \n",
       "fig|529507.6.peg.924  6      2      7      3       3      6   \n",
       "fig|529507.6.peg.937 29     30     27     19      34     23   \n",
       "fig|529507.6.peg.938  0      0      1      0       1      0   \n",
       "fig|529507.6.peg.940  1      0      0      0       0      0   \n",
       "fig|529507.6.peg.954 27     18      7     12      14     11   \n",
       "fig|529507.6.peg.964 16     22     19     13      17     10   \n",
       "fig|529507.6.peg.97  12     19     19     35      25     35   \n",
       "fig|529507.6.peg.983  3      2      3     10       4      3   "
      ]
     },
     "metadata": {},
     "output_type": "display_data"
    }
   ],
   "source": [
    "WT_periphery_samples <- filter(exp_info_sample_names, lane.ID != \"L1\" & position == \"BH\")[,1]\n",
    "WT_periphery_counts <- counts[,WT_periphery_samples]\n",
    "WT_periphery_exp_info <- experiment_info[WT_periphery_samples,]\n",
    "WT_periphery_counts"
   ]
  },
  {
   "cell_type": "code",
   "execution_count": 21,
   "metadata": {
    "collapsed": false
   },
   "outputs": [
    {
     "name": "stderr",
     "output_type": "stream",
     "text": [
      "factor levels were dropped which had no samples\n",
      "estimating size factors\n",
      "estimating dispersions\n",
      "gene-wise dispersion estimates\n",
      "mean-dispersion relationship\n",
      "final dispersion estimates\n",
      "fitting model and testing\n"
     ]
    }
   ],
   "source": [
    "WT_periphery_time <- TimeAnalysisDE(WT_periphery_counts, WT_periphery_exp_info, \"2018-06-27-WT-periphery-line-time.csv\")"
   ]
  },
  {
   "cell_type": "code",
   "execution_count": 49,
   "metadata": {
    "collapsed": false
   },
   "outputs": [
    {
     "data": {
      "text/plain": [
       "log2 fold change (MAP): time.point 30'' vs 0'' \n",
       "Wald test p-value: time.point 30'' vs 0'' \n",
       "DataFrame with 380 rows and 6 columns\n",
       "                        baseMean log2FoldChange     lfcSE      stat\n",
       "                       <numeric>      <numeric> <numeric> <numeric>\n",
       "PMI0348                 788.2452       3.448874 0.3217504 10.719097\n",
       "PMI0781                 412.3377       3.304738 0.3562953  9.275278\n",
       "PMI3226                4790.0397       2.899292 0.3588041  8.080432\n",
       "PMI1956                 167.1570       2.421253 0.3667462  6.601985\n",
       "PMI1807                 883.3477       2.371982 0.2431928  9.753506\n",
       "...                          ...            ...       ...       ...\n",
       "PMI1343                588.78235      -1.883057 0.4193148 -4.490796\n",
       "PMI3376               3370.81078      -2.038360 0.2292795 -8.890286\n",
       "fig|529507.6.peg.1291   22.94104      -2.058813 0.4613959 -4.462141\n",
       "PMI3598                 45.51311      -2.283743 0.3572940 -6.391776\n",
       "PMI2149               1170.61275      -2.363668 0.3540151 -6.676744\n",
       "                            pvalue         padj\n",
       "                         <numeric>    <numeric>\n",
       "PMI0348               8.280791e-27 3.043191e-23\n",
       "PMI0781               1.771556e-20 1.302094e-17\n",
       "PMI3226               6.453794e-16 2.156154e-13\n",
       "PMI1956               4.056877e-11 3.549767e-09\n",
       "PMI1807               1.782060e-22 1.637267e-19\n",
       "...                            ...          ...\n",
       "PMI1343               7.095749e-06 8.606230e-05\n",
       "PMI3376               6.095199e-19 3.733309e-16\n",
       "fig|529507.6.peg.1291 8.114499e-06 9.713610e-05\n",
       "PMI3598               1.639701e-10 1.115908e-08\n",
       "PMI2149               2.443091e-11 2.493989e-09"
      ]
     },
     "metadata": {},
     "output_type": "display_data"
    }
   ],
   "source": [
    "# 380 DE genes\n",
    "WT_periphery_time$results\n",
    "# get normalized counts:\n",
    "dds <- WT_periphery_time$dds\n",
    "dds <- estimateSizeFactors(dds)\n",
    "norm_counts <- counts(dds, normalized=TRUE)"
   ]
  },
  {
   "cell_type": "code",
   "execution_count": 23,
   "metadata": {
    "collapsed": false
   },
   "outputs": [
    {
     "data": {
      "text/html": [
       "<table>\n",
       "<thead><tr><th></th><th scope=col>S76076</th><th scope=col>S76077</th><th scope=col>S76078</th><th scope=col>S76085</th><th scope=col>S76086</th><th scope=col>S76087</th></tr></thead>\n",
       "<tbody>\n",
       "\t<tr><th scope=row>PMI0001</th><td> 3397</td><td> 3732</td><td> 4374</td><td> 2375</td><td> 4001</td><td> 4212</td></tr>\n",
       "\t<tr><th scope=row>PMI0002</th><td> 1065</td><td> 1353</td><td> 1808</td><td> 1058</td><td> 1496</td><td> 1624</td></tr>\n",
       "\t<tr><th scope=row>PMI0003</th><td> 4504</td><td> 4394</td><td> 5639</td><td> 3552</td><td> 5134</td><td> 5832</td></tr>\n",
       "\t<tr><th scope=row>PMI0004</th><td>  207</td><td>  241</td><td>  326</td><td>  450</td><td>  279</td><td>  324</td></tr>\n",
       "\t<tr><th scope=row>PMI0005</th><td> 1524</td><td> 1209</td><td> 1019</td><td>  470</td><td>  570</td><td>  611</td></tr>\n",
       "\t<tr><th scope=row>PMI0006</th><td>22358</td><td>17849</td><td>15837</td><td>12023</td><td>14745</td><td>15306</td></tr>\n",
       "\t<tr><th scope=row>PMI0007</th><td> 2588</td><td> 3079</td><td> 3872</td><td> 2556</td><td> 2259</td><td> 2252</td></tr>\n",
       "\t<tr><th scope=row>PMI0008</th><td> 1024</td><td>  877</td><td> 1057</td><td> 1410</td><td> 1205</td><td>  957</td></tr>\n",
       "\t<tr><th scope=row>PMI0009</th><td>20130</td><td>29034</td><td>17750</td><td>24272</td><td>28713</td><td>24049</td></tr>\n",
       "\t<tr><th scope=row>PMI0010</th><td> 2350</td><td> 3681</td><td> 3218</td><td> 4407</td><td> 4159</td><td> 3484</td></tr>\n",
       "\t<tr><th scope=row>PMI0011</th><td> 1520</td><td> 1361</td><td> 1705</td><td> 3107</td><td> 1904</td><td> 1579</td></tr>\n",
       "\t<tr><th scope=row>PMI0012</th><td>  807</td><td>  769</td><td>  660</td><td> 1423</td><td> 1262</td><td> 1231</td></tr>\n",
       "\t<tr><th scope=row>PMI0013</th><td>  331</td><td>  458</td><td>  445</td><td> 1235</td><td>  829</td><td>  589</td></tr>\n",
       "\t<tr><th scope=row>PMI0014</th><td> 3419</td><td> 2695</td><td> 2217</td><td> 3040</td><td> 3457</td><td> 2775</td></tr>\n",
       "\t<tr><th scope=row>PMI0015</th><td>10707</td><td> 9268</td><td> 9263</td><td>11895</td><td>13447</td><td>11575</td></tr>\n",
       "\t<tr><th scope=row>PMI0016</th><td> 1940</td><td> 1756</td><td> 1825</td><td> 2192</td><td> 2434</td><td> 2175</td></tr>\n",
       "\t<tr><th scope=row>PMI0017</th><td>  904</td><td>  826</td><td>  932</td><td>  963</td><td>  962</td><td>  939</td></tr>\n",
       "\t<tr><th scope=row>PMI0018</th><td>  998</td><td>  843</td><td> 1004</td><td> 1192</td><td> 1191</td><td>  869</td></tr>\n",
       "\t<tr><th scope=row>PMI0019</th><td>  547</td><td>  558</td><td>  850</td><td>  294</td><td>  375</td><td>  464</td></tr>\n",
       "\t<tr><th scope=row>PMI0020</th><td>  513</td><td>  904</td><td>  911</td><td>  419</td><td>  777</td><td>  589</td></tr>\n",
       "\t<tr><th scope=row>PMI0021</th><td> 2210</td><td> 3354</td><td> 2925</td><td> 1375</td><td> 2700</td><td> 2192</td></tr>\n",
       "\t<tr><th scope=row>PMI0023</th><td>  467</td><td>  440</td><td>  457</td><td>  634</td><td>  495</td><td>  536</td></tr>\n",
       "\t<tr><th scope=row>PMI0024</th><td> 2683</td><td> 2920</td><td> 2472</td><td>  405</td><td>  596</td><td>  827</td></tr>\n",
       "\t<tr><th scope=row>PMI0025</th><td> 2763</td><td> 2214</td><td> 1962</td><td>  617</td><td>  790</td><td>  969</td></tr>\n",
       "\t<tr><th scope=row>PMI0026</th><td>  570</td><td>  505</td><td>  461</td><td>  178</td><td>  227</td><td>  253</td></tr>\n",
       "\t<tr><th scope=row>PMI0027</th><td>  296</td><td>  225</td><td>  202</td><td>  269</td><td>  256</td><td>  213</td></tr>\n",
       "\t<tr><th scope=row>PMI0028</th><td> 1414</td><td> 1277</td><td> 1465</td><td>  252</td><td>  506</td><td>  618</td></tr>\n",
       "\t<tr><th scope=row>PMI0029</th><td> 1520</td><td> 1793</td><td> 2225</td><td> 5640</td><td> 3592</td><td> 2285</td></tr>\n",
       "\t<tr><th scope=row>PMI0030</th><td>  111</td><td>  160</td><td>  243</td><td>  432</td><td>  259</td><td>  207</td></tr>\n",
       "\t<tr><th scope=row>PMI0031</th><td>    6</td><td>    2</td><td>   16</td><td>   18</td><td>    8</td><td>    8</td></tr>\n",
       "\t<tr><th scope=row>⋮</th><td>⋮</td><td>⋮</td><td>⋮</td><td>⋮</td><td>⋮</td><td>⋮</td></tr>\n",
       "\t<tr><th scope=row>fig|529507.6.peg.487</th><td>19 </td><td> 18</td><td>27 </td><td> 4 </td><td>12 </td><td>11 </td></tr>\n",
       "\t<tr><th scope=row>fig|529507.6.peg.514</th><td>10 </td><td> 14</td><td> 7 </td><td>22 </td><td> 9 </td><td>12 </td></tr>\n",
       "\t<tr><th scope=row>fig|529507.6.peg.515</th><td> 1 </td><td>  1</td><td> 5 </td><td> 3 </td><td> 0 </td><td> 2 </td></tr>\n",
       "\t<tr><th scope=row>fig|529507.6.peg.580</th><td> 2 </td><td>  1</td><td> 1 </td><td> 3 </td><td> 1 </td><td> 1 </td></tr>\n",
       "\t<tr><th scope=row>fig|529507.6.peg.59</th><td>11 </td><td>  9</td><td>15 </td><td>14 </td><td>16 </td><td> 8 </td></tr>\n",
       "\t<tr><th scope=row>fig|529507.6.peg.60</th><td>31 </td><td> 30</td><td>22 </td><td>37 </td><td>33 </td><td>30 </td></tr>\n",
       "\t<tr><th scope=row>fig|529507.6.peg.637</th><td>21 </td><td> 26</td><td>33 </td><td>22 </td><td>16 </td><td>19 </td></tr>\n",
       "\t<tr><th scope=row>fig|529507.6.peg.686</th><td> 4 </td><td>  2</td><td> 0 </td><td> 5 </td><td> 1 </td><td> 1 </td></tr>\n",
       "\t<tr><th scope=row>fig|529507.6.peg.744</th><td>25 </td><td> 26</td><td>49 </td><td>32 </td><td>30 </td><td>56 </td></tr>\n",
       "\t<tr><th scope=row>fig|529507.6.peg.759</th><td>47 </td><td> 41</td><td>33 </td><td>52 </td><td>36 </td><td>48 </td></tr>\n",
       "\t<tr><th scope=row>fig|529507.6.peg.760</th><td>55 </td><td> 68</td><td>33 </td><td>67 </td><td>40 </td><td>48 </td></tr>\n",
       "\t<tr><th scope=row>fig|529507.6.peg.776</th><td> 0 </td><td>  0</td><td> 0 </td><td> 0 </td><td> 0 </td><td> 0 </td></tr>\n",
       "\t<tr><th scope=row>fig|529507.6.peg.791</th><td>69 </td><td>111</td><td>60 </td><td>72 </td><td>67 </td><td>61 </td></tr>\n",
       "\t<tr><th scope=row>fig|529507.6.peg.794</th><td> 0 </td><td>  0</td><td> 3 </td><td> 0 </td><td> 0 </td><td> 0 </td></tr>\n",
       "\t<tr><th scope=row>fig|529507.6.peg.795</th><td> 0 </td><td>  0</td><td> 3 </td><td> 0 </td><td> 0 </td><td> 0 </td></tr>\n",
       "\t<tr><th scope=row>fig|529507.6.peg.798</th><td>33 </td><td> 14</td><td>10 </td><td> 7 </td><td>11 </td><td>11 </td></tr>\n",
       "\t<tr><th scope=row>fig|529507.6.peg.799</th><td>17 </td><td> 10</td><td>17 </td><td>13 </td><td> 7 </td><td> 5 </td></tr>\n",
       "\t<tr><th scope=row>fig|529507.6.peg.804</th><td>27 </td><td> 19</td><td>22 </td><td>18 </td><td>15 </td><td> 9 </td></tr>\n",
       "\t<tr><th scope=row>fig|529507.6.peg.895</th><td> 0 </td><td>  0</td><td> 0 </td><td> 0 </td><td> 0 </td><td> 0 </td></tr>\n",
       "\t<tr><th scope=row>fig|529507.6.peg.917</th><td> 7 </td><td>  7</td><td> 2 </td><td> 7 </td><td> 6 </td><td> 4 </td></tr>\n",
       "\t<tr><th scope=row>fig|529507.6.peg.919</th><td> 0 </td><td>  0</td><td> 0 </td><td> 0 </td><td> 0 </td><td> 0 </td></tr>\n",
       "\t<tr><th scope=row>fig|529507.6.peg.920</th><td> 5 </td><td>  4</td><td>13 </td><td> 4 </td><td> 6 </td><td> 7 </td></tr>\n",
       "\t<tr><th scope=row>fig|529507.6.peg.924</th><td> 5 </td><td>  7</td><td> 2 </td><td> 8 </td><td> 2 </td><td> 8 </td></tr>\n",
       "\t<tr><th scope=row>fig|529507.6.peg.937</th><td>34 </td><td> 37</td><td>48 </td><td>13 </td><td>18 </td><td>18 </td></tr>\n",
       "\t<tr><th scope=row>fig|529507.6.peg.938</th><td> 0 </td><td>  1</td><td> 0 </td><td> 1 </td><td> 0 </td><td> 0 </td></tr>\n",
       "\t<tr><th scope=row>fig|529507.6.peg.940</th><td> 0 </td><td>  1</td><td> 0 </td><td> 0 </td><td> 1 </td><td> 0 </td></tr>\n",
       "\t<tr><th scope=row>fig|529507.6.peg.954</th><td>30 </td><td> 24</td><td>17 </td><td> 9 </td><td>18 </td><td>12 </td></tr>\n",
       "\t<tr><th scope=row>fig|529507.6.peg.964</th><td>17 </td><td> 22</td><td>16 </td><td>13 </td><td>17 </td><td>11 </td></tr>\n",
       "\t<tr><th scope=row>fig|529507.6.peg.97</th><td>19 </td><td> 18</td><td>20 </td><td>46 </td><td>32 </td><td>34 </td></tr>\n",
       "\t<tr><th scope=row>fig|529507.6.peg.983</th><td> 3 </td><td>  1</td><td> 1 </td><td>17 </td><td> 3 </td><td> 5 </td></tr>\n",
       "</tbody>\n",
       "</table>\n"
      ],
      "text/latex": [
       "\\begin{tabular}{r|llllll}\n",
       "  & S76076 & S76077 & S76078 & S76085 & S76086 & S76087\\\\\n",
       "\\hline\n",
       "\tPMI0001 &  3397 &  3732 &  4374 &  2375 &  4001 &  4212\\\\\n",
       "\tPMI0002 &  1065 &  1353 &  1808 &  1058 &  1496 &  1624\\\\\n",
       "\tPMI0003 &  4504 &  4394 &  5639 &  3552 &  5134 &  5832\\\\\n",
       "\tPMI0004 &   207 &   241 &   326 &   450 &   279 &   324\\\\\n",
       "\tPMI0005 &  1524 &  1209 &  1019 &   470 &   570 &   611\\\\\n",
       "\tPMI0006 & 22358 & 17849 & 15837 & 12023 & 14745 & 15306\\\\\n",
       "\tPMI0007 &  2588 &  3079 &  3872 &  2556 &  2259 &  2252\\\\\n",
       "\tPMI0008 &  1024 &   877 &  1057 &  1410 &  1205 &   957\\\\\n",
       "\tPMI0009 & 20130 & 29034 & 17750 & 24272 & 28713 & 24049\\\\\n",
       "\tPMI0010 &  2350 &  3681 &  3218 &  4407 &  4159 &  3484\\\\\n",
       "\tPMI0011 &  1520 &  1361 &  1705 &  3107 &  1904 &  1579\\\\\n",
       "\tPMI0012 &   807 &   769 &   660 &  1423 &  1262 &  1231\\\\\n",
       "\tPMI0013 &   331 &   458 &   445 &  1235 &   829 &   589\\\\\n",
       "\tPMI0014 &  3419 &  2695 &  2217 &  3040 &  3457 &  2775\\\\\n",
       "\tPMI0015 & 10707 &  9268 &  9263 & 11895 & 13447 & 11575\\\\\n",
       "\tPMI0016 &  1940 &  1756 &  1825 &  2192 &  2434 &  2175\\\\\n",
       "\tPMI0017 &   904 &   826 &   932 &   963 &   962 &   939\\\\\n",
       "\tPMI0018 &   998 &   843 &  1004 &  1192 &  1191 &   869\\\\\n",
       "\tPMI0019 &   547 &   558 &   850 &   294 &   375 &   464\\\\\n",
       "\tPMI0020 &   513 &   904 &   911 &   419 &   777 &   589\\\\\n",
       "\tPMI0021 &  2210 &  3354 &  2925 &  1375 &  2700 &  2192\\\\\n",
       "\tPMI0023 &   467 &   440 &   457 &   634 &   495 &   536\\\\\n",
       "\tPMI0024 &  2683 &  2920 &  2472 &   405 &   596 &   827\\\\\n",
       "\tPMI0025 &  2763 &  2214 &  1962 &   617 &   790 &   969\\\\\n",
       "\tPMI0026 &   570 &   505 &   461 &   178 &   227 &   253\\\\\n",
       "\tPMI0027 &   296 &   225 &   202 &   269 &   256 &   213\\\\\n",
       "\tPMI0028 &  1414 &  1277 &  1465 &   252 &   506 &   618\\\\\n",
       "\tPMI0029 &  1520 &  1793 &  2225 &  5640 &  3592 &  2285\\\\\n",
       "\tPMI0030 &   111 &   160 &   243 &   432 &   259 &   207\\\\\n",
       "\tPMI0031 &     6 &     2 &    16 &    18 &     8 &     8\\\\\n",
       "\t⋮ & ⋮ & ⋮ & ⋮ & ⋮ & ⋮ & ⋮\\\\\n",
       "\tfig\\textbar{}529507.6.peg.487 & 19  &  18 & 27  &  4  & 12  & 11 \\\\\n",
       "\tfig\\textbar{}529507.6.peg.514 & 10  &  14 &  7  & 22  &  9  & 12 \\\\\n",
       "\tfig\\textbar{}529507.6.peg.515 &  1  &   1 &  5  &  3  &  0  &  2 \\\\\n",
       "\tfig\\textbar{}529507.6.peg.580 &  2  &   1 &  1  &  3  &  1  &  1 \\\\\n",
       "\tfig\\textbar{}529507.6.peg.59 & 11  &   9 & 15  & 14  & 16  &  8 \\\\\n",
       "\tfig\\textbar{}529507.6.peg.60 & 31  &  30 & 22  & 37  & 33  & 30 \\\\\n",
       "\tfig\\textbar{}529507.6.peg.637 & 21  &  26 & 33  & 22  & 16  & 19 \\\\\n",
       "\tfig\\textbar{}529507.6.peg.686 &  4  &   2 &  0  &  5  &  1  &  1 \\\\\n",
       "\tfig\\textbar{}529507.6.peg.744 & 25  &  26 & 49  & 32  & 30  & 56 \\\\\n",
       "\tfig\\textbar{}529507.6.peg.759 & 47  &  41 & 33  & 52  & 36  & 48 \\\\\n",
       "\tfig\\textbar{}529507.6.peg.760 & 55  &  68 & 33  & 67  & 40  & 48 \\\\\n",
       "\tfig\\textbar{}529507.6.peg.776 &  0  &   0 &  0  &  0  &  0  &  0 \\\\\n",
       "\tfig\\textbar{}529507.6.peg.791 & 69  & 111 & 60  & 72  & 67  & 61 \\\\\n",
       "\tfig\\textbar{}529507.6.peg.794 &  0  &   0 &  3  &  0  &  0  &  0 \\\\\n",
       "\tfig\\textbar{}529507.6.peg.795 &  0  &   0 &  3  &  0  &  0  &  0 \\\\\n",
       "\tfig\\textbar{}529507.6.peg.798 & 33  &  14 & 10  &  7  & 11  & 11 \\\\\n",
       "\tfig\\textbar{}529507.6.peg.799 & 17  &  10 & 17  & 13  &  7  &  5 \\\\\n",
       "\tfig\\textbar{}529507.6.peg.804 & 27  &  19 & 22  & 18  & 15  &  9 \\\\\n",
       "\tfig\\textbar{}529507.6.peg.895 &  0  &   0 &  0  &  0  &  0  &  0 \\\\\n",
       "\tfig\\textbar{}529507.6.peg.917 &  7  &   7 &  2  &  7  &  6  &  4 \\\\\n",
       "\tfig\\textbar{}529507.6.peg.919 &  0  &   0 &  0  &  0  &  0  &  0 \\\\\n",
       "\tfig\\textbar{}529507.6.peg.920 &  5  &   4 & 13  &  4  &  6  &  7 \\\\\n",
       "\tfig\\textbar{}529507.6.peg.924 &  5  &   7 &  2  &  8  &  2  &  8 \\\\\n",
       "\tfig\\textbar{}529507.6.peg.937 & 34  &  37 & 48  & 13  & 18  & 18 \\\\\n",
       "\tfig\\textbar{}529507.6.peg.938 &  0  &   1 &  0  &  1  &  0  &  0 \\\\\n",
       "\tfig\\textbar{}529507.6.peg.940 &  0  &   1 &  0  &  0  &  1  &  0 \\\\\n",
       "\tfig\\textbar{}529507.6.peg.954 & 30  &  24 & 17  &  9  & 18  & 12 \\\\\n",
       "\tfig\\textbar{}529507.6.peg.964 & 17  &  22 & 16  & 13  & 17  & 11 \\\\\n",
       "\tfig\\textbar{}529507.6.peg.97 & 19  &  18 & 20  & 46  & 32  & 34 \\\\\n",
       "\tfig\\textbar{}529507.6.peg.983 &  3  &   1 &  1  & 17  &  3  &  5 \\\\\n",
       "\\end{tabular}\n"
      ],
      "text/markdown": [
       "\n",
       "| <!--/--> | S76076 | S76077 | S76078 | S76085 | S76086 | S76087 | \n",
       "|---|---|---|---|---|---|---|---|---|---|---|---|---|---|---|---|---|---|---|---|---|---|---|---|---|---|---|---|---|---|---|---|---|---|---|---|---|---|---|---|---|---|---|---|---|---|---|---|---|---|---|---|---|---|---|---|---|---|---|---|---|\n",
       "| PMI0001 |  3397 |  3732 |  4374 |  2375 |  4001 |  4212 | \n",
       "| PMI0002 |  1065 |  1353 |  1808 |  1058 |  1496 |  1624 | \n",
       "| PMI0003 |  4504 |  4394 |  5639 |  3552 |  5134 |  5832 | \n",
       "| PMI0004 |   207 |   241 |   326 |   450 |   279 |   324 | \n",
       "| PMI0005 |  1524 |  1209 |  1019 |   470 |   570 |   611 | \n",
       "| PMI0006 | 22358 | 17849 | 15837 | 12023 | 14745 | 15306 | \n",
       "| PMI0007 |  2588 |  3079 |  3872 |  2556 |  2259 |  2252 | \n",
       "| PMI0008 |  1024 |   877 |  1057 |  1410 |  1205 |   957 | \n",
       "| PMI0009 | 20130 | 29034 | 17750 | 24272 | 28713 | 24049 | \n",
       "| PMI0010 |  2350 |  3681 |  3218 |  4407 |  4159 |  3484 | \n",
       "| PMI0011 |  1520 |  1361 |  1705 |  3107 |  1904 |  1579 | \n",
       "| PMI0012 |   807 |   769 |   660 |  1423 |  1262 |  1231 | \n",
       "| PMI0013 |   331 |   458 |   445 |  1235 |   829 |   589 | \n",
       "| PMI0014 |  3419 |  2695 |  2217 |  3040 |  3457 |  2775 | \n",
       "| PMI0015 | 10707 |  9268 |  9263 | 11895 | 13447 | 11575 | \n",
       "| PMI0016 |  1940 |  1756 |  1825 |  2192 |  2434 |  2175 | \n",
       "| PMI0017 |   904 |   826 |   932 |   963 |   962 |   939 | \n",
       "| PMI0018 |   998 |   843 |  1004 |  1192 |  1191 |   869 | \n",
       "| PMI0019 |   547 |   558 |   850 |   294 |   375 |   464 | \n",
       "| PMI0020 |   513 |   904 |   911 |   419 |   777 |   589 | \n",
       "| PMI0021 |  2210 |  3354 |  2925 |  1375 |  2700 |  2192 | \n",
       "| PMI0023 |   467 |   440 |   457 |   634 |   495 |   536 | \n",
       "| PMI0024 |  2683 |  2920 |  2472 |   405 |   596 |   827 | \n",
       "| PMI0025 |  2763 |  2214 |  1962 |   617 |   790 |   969 | \n",
       "| PMI0026 |   570 |   505 |   461 |   178 |   227 |   253 | \n",
       "| PMI0027 |   296 |   225 |   202 |   269 |   256 |   213 | \n",
       "| PMI0028 |  1414 |  1277 |  1465 |   252 |   506 |   618 | \n",
       "| PMI0029 |  1520 |  1793 |  2225 |  5640 |  3592 |  2285 | \n",
       "| PMI0030 |   111 |   160 |   243 |   432 |   259 |   207 | \n",
       "| PMI0031 |     6 |     2 |    16 |    18 |     8 |     8 | \n",
       "| ⋮ | ⋮ | ⋮ | ⋮ | ⋮ | ⋮ | ⋮ | \n",
       "| fig|529507.6.peg.487 | 19  |  18 | 27  |  4  | 12  | 11  | \n",
       "| fig|529507.6.peg.514 | 10  |  14 |  7  | 22  |  9  | 12  | \n",
       "| fig|529507.6.peg.515 |  1  |   1 |  5  |  3  |  0  |  2  | \n",
       "| fig|529507.6.peg.580 |  2  |   1 |  1  |  3  |  1  |  1  | \n",
       "| fig|529507.6.peg.59 | 11  |   9 | 15  | 14  | 16  |  8  | \n",
       "| fig|529507.6.peg.60 | 31  |  30 | 22  | 37  | 33  | 30  | \n",
       "| fig|529507.6.peg.637 | 21  |  26 | 33  | 22  | 16  | 19  | \n",
       "| fig|529507.6.peg.686 |  4  |   2 |  0  |  5  |  1  |  1  | \n",
       "| fig|529507.6.peg.744 | 25  |  26 | 49  | 32  | 30  | 56  | \n",
       "| fig|529507.6.peg.759 | 47  |  41 | 33  | 52  | 36  | 48  | \n",
       "| fig|529507.6.peg.760 | 55  |  68 | 33  | 67  | 40  | 48  | \n",
       "| fig|529507.6.peg.776 |  0  |   0 |  0  |  0  |  0  |  0  | \n",
       "| fig|529507.6.peg.791 | 69  | 111 | 60  | 72  | 67  | 61  | \n",
       "| fig|529507.6.peg.794 |  0  |   0 |  3  |  0  |  0  |  0  | \n",
       "| fig|529507.6.peg.795 |  0  |   0 |  3  |  0  |  0  |  0  | \n",
       "| fig|529507.6.peg.798 | 33  |  14 | 10  |  7  | 11  | 11  | \n",
       "| fig|529507.6.peg.799 | 17  |  10 | 17  | 13  |  7  |  5  | \n",
       "| fig|529507.6.peg.804 | 27  |  19 | 22  | 18  | 15  |  9  | \n",
       "| fig|529507.6.peg.895 |  0  |   0 |  0  |  0  |  0  |  0  | \n",
       "| fig|529507.6.peg.917 |  7  |   7 |  2  |  7  |  6  |  4  | \n",
       "| fig|529507.6.peg.919 |  0  |   0 |  0  |  0  |  0  |  0  | \n",
       "| fig|529507.6.peg.920 |  5  |   4 | 13  |  4  |  6  |  7  | \n",
       "| fig|529507.6.peg.924 |  5  |   7 |  2  |  8  |  2  |  8  | \n",
       "| fig|529507.6.peg.937 | 34  |  37 | 48  | 13  | 18  | 18  | \n",
       "| fig|529507.6.peg.938 |  0  |   1 |  0  |  1  |  0  |  0  | \n",
       "| fig|529507.6.peg.940 |  0  |   1 |  0  |  0  |  1  |  0  | \n",
       "| fig|529507.6.peg.954 | 30  |  24 | 17  |  9  | 18  | 12  | \n",
       "| fig|529507.6.peg.964 | 17  |  22 | 16  | 13  | 17  | 11  | \n",
       "| fig|529507.6.peg.97 | 19  |  18 | 20  | 46  | 32  | 34  | \n",
       "| fig|529507.6.peg.983 |  3  |   1 |  1  | 17  |  3  |  5  | \n",
       "\n",
       "\n"
      ],
      "text/plain": [
       "                     S76076 S76077 S76078 S76085 S76086 S76087\n",
       "PMI0001               3397   3732   4374   2375   4001   4212 \n",
       "PMI0002               1065   1353   1808   1058   1496   1624 \n",
       "PMI0003               4504   4394   5639   3552   5134   5832 \n",
       "PMI0004                207    241    326    450    279    324 \n",
       "PMI0005               1524   1209   1019    470    570    611 \n",
       "PMI0006              22358  17849  15837  12023  14745  15306 \n",
       "PMI0007               2588   3079   3872   2556   2259   2252 \n",
       "PMI0008               1024    877   1057   1410   1205    957 \n",
       "PMI0009              20130  29034  17750  24272  28713  24049 \n",
       "PMI0010               2350   3681   3218   4407   4159   3484 \n",
       "PMI0011               1520   1361   1705   3107   1904   1579 \n",
       "PMI0012                807    769    660   1423   1262   1231 \n",
       "PMI0013                331    458    445   1235    829    589 \n",
       "PMI0014               3419   2695   2217   3040   3457   2775 \n",
       "PMI0015              10707   9268   9263  11895  13447  11575 \n",
       "PMI0016               1940   1756   1825   2192   2434   2175 \n",
       "PMI0017                904    826    932    963    962    939 \n",
       "PMI0018                998    843   1004   1192   1191    869 \n",
       "PMI0019                547    558    850    294    375    464 \n",
       "PMI0020                513    904    911    419    777    589 \n",
       "PMI0021               2210   3354   2925   1375   2700   2192 \n",
       "PMI0023                467    440    457    634    495    536 \n",
       "PMI0024               2683   2920   2472    405    596    827 \n",
       "PMI0025               2763   2214   1962    617    790    969 \n",
       "PMI0026                570    505    461    178    227    253 \n",
       "PMI0027                296    225    202    269    256    213 \n",
       "PMI0028               1414   1277   1465    252    506    618 \n",
       "PMI0029               1520   1793   2225   5640   3592   2285 \n",
       "PMI0030                111    160    243    432    259    207 \n",
       "PMI0031                  6      2     16     18      8      8 \n",
       "⋮                    ⋮      ⋮      ⋮      ⋮      ⋮      ⋮     \n",
       "fig|529507.6.peg.487 19      18    27      4     12     11    \n",
       "fig|529507.6.peg.514 10      14     7     22      9     12    \n",
       "fig|529507.6.peg.515  1       1     5      3      0      2    \n",
       "fig|529507.6.peg.580  2       1     1      3      1      1    \n",
       "fig|529507.6.peg.59  11       9    15     14     16      8    \n",
       "fig|529507.6.peg.60  31      30    22     37     33     30    \n",
       "fig|529507.6.peg.637 21      26    33     22     16     19    \n",
       "fig|529507.6.peg.686  4       2     0      5      1      1    \n",
       "fig|529507.6.peg.744 25      26    49     32     30     56    \n",
       "fig|529507.6.peg.759 47      41    33     52     36     48    \n",
       "fig|529507.6.peg.760 55      68    33     67     40     48    \n",
       "fig|529507.6.peg.776  0       0     0      0      0      0    \n",
       "fig|529507.6.peg.791 69     111    60     72     67     61    \n",
       "fig|529507.6.peg.794  0       0     3      0      0      0    \n",
       "fig|529507.6.peg.795  0       0     3      0      0      0    \n",
       "fig|529507.6.peg.798 33      14    10      7     11     11    \n",
       "fig|529507.6.peg.799 17      10    17     13      7      5    \n",
       "fig|529507.6.peg.804 27      19    22     18     15      9    \n",
       "fig|529507.6.peg.895  0       0     0      0      0      0    \n",
       "fig|529507.6.peg.917  7       7     2      7      6      4    \n",
       "fig|529507.6.peg.919  0       0     0      0      0      0    \n",
       "fig|529507.6.peg.920  5       4    13      4      6      7    \n",
       "fig|529507.6.peg.924  5       7     2      8      2      8    \n",
       "fig|529507.6.peg.937 34      37    48     13     18     18    \n",
       "fig|529507.6.peg.938  0       1     0      1      0      0    \n",
       "fig|529507.6.peg.940  0       1     0      0      1      0    \n",
       "fig|529507.6.peg.954 30      24    17      9     18     12    \n",
       "fig|529507.6.peg.964 17      22    16     13     17     11    \n",
       "fig|529507.6.peg.97  19      18    20     46     32     34    \n",
       "fig|529507.6.peg.983  3       1     1     17      3      5    "
      ]
     },
     "metadata": {},
     "output_type": "display_data"
    }
   ],
   "source": [
    "MUT_periphery_samples <- filter(exp_info_sample_names, lane.ID != \"L1\" & position == \"B9\")[,1]\n",
    "MUT_periphery_counts <- counts[,MUT_periphery_samples]\n",
    "MUT_periphery_exp_info <- experiment_info[MUT_periphery_samples,]\n",
    "MUT_periphery_counts"
   ]
  },
  {
   "cell_type": "code",
   "execution_count": 24,
   "metadata": {
    "collapsed": false
   },
   "outputs": [
    {
     "name": "stderr",
     "output_type": "stream",
     "text": [
      "factor levels were dropped which had no samples\n",
      "estimating size factors\n",
      "estimating dispersions\n",
      "gene-wise dispersion estimates\n",
      "mean-dispersion relationship\n",
      "final dispersion estimates\n",
      "fitting model and testing\n"
     ]
    }
   ],
   "source": [
    "MUT_periphery_time <- TimeAnalysisDE(MUT_periphery_counts, MUT_periphery_exp_info, \"2018-06-27-MUT-periphery-line-time.csv\")"
   ]
  },
  {
   "cell_type": "code",
   "execution_count": 25,
   "metadata": {
    "collapsed": false
   },
   "outputs": [
    {
     "data": {
      "text/plain": [
       "log2 fold change (MAP): time.point 30'' vs 0'' \n",
       "Wald test p-value: time.point 30'' vs 0'' \n",
       "DataFrame with 728 rows and 6 columns\n",
       "          baseMean log2FoldChange     lfcSE      stat       pvalue         padj\n",
       "         <numeric>      <numeric> <numeric> <numeric>    <numeric>    <numeric>\n",
       "PMI1031  1118.3504       4.916655 0.3302088 14.889532 3.854608e-50 1.388815e-46\n",
       "PMI0781   550.5741       4.700586 0.3798781 12.373931 3.616777e-35 6.515624e-32\n",
       "PMI0348  1505.6800       4.600672 0.5028233  9.149680 5.710249e-20 2.571753e-17\n",
       "PMI2408   120.5018       3.746797 0.4964789  7.546740 4.462876e-14 5.955459e-12\n",
       "PMI1956   159.9439       3.744966 0.3915971  9.563313 1.140459e-21 8.218148e-19\n",
       "...            ...            ...       ...       ...          ...          ...\n",
       "PMI0913 3785.43253      -3.023720 0.7010666 -4.313029 1.610333e-05 1.534928e-04\n",
       "PMI3598   50.08999      -3.272011 0.4342601 -7.534681 4.895316e-14 6.299223e-12\n",
       "PMI0807 2977.62767      -3.285358 0.4683805 -7.014293 2.311142e-12 1.982630e-10\n",
       "PMI0972  567.51523      -3.489978 0.5474981 -6.374411 1.836674e-10 1.033990e-08\n",
       "PMI2149 1967.55590      -3.925734 0.3974602 -9.877049 5.235167e-23 6.287435e-20"
      ]
     },
     "metadata": {},
     "output_type": "display_data"
    }
   ],
   "source": [
    "# 728 DE genes\n",
    "MUT_periphery_time$results"
   ]
  },
  {
   "cell_type": "code",
   "execution_count": 28,
   "metadata": {
    "collapsed": false
   },
   "outputs": [
    {
     "data": {
      "text/html": [
       "<table>\n",
       "<thead><tr><th></th><th scope=col>lane.ID</th><th scope=col>group.ID</th><th scope=col>time.point</th><th scope=col>strain.ID</th><th scope=col>position</th><th scope=col>RIN</th></tr></thead>\n",
       "<tbody>\n",
       "\t<tr><th scope=row>S77462</th><td>L3    </td><td>Case13</td><td>0''   </td><td>HI    </td><td>B     </td><td>NA    </td></tr>\n",
       "\t<tr><th scope=row>S77463</th><td>L3    </td><td>Case13</td><td>0''   </td><td>HI    </td><td>B     </td><td>NA    </td></tr>\n",
       "\t<tr><th scope=row>S77464</th><td>L3    </td><td>Case13</td><td>0''   </td><td>HI    </td><td>B     </td><td>NA    </td></tr>\n",
       "\t<tr><th scope=row>S77465</th><td>L3    </td><td>Case14</td><td>30''  </td><td>HI    </td><td>B     </td><td>NA    </td></tr>\n",
       "\t<tr><th scope=row>S77466</th><td>L3    </td><td>Case14</td><td>30''  </td><td>HI    </td><td>B     </td><td>NA    </td></tr>\n",
       "\t<tr><th scope=row>S77467</th><td>L3    </td><td>Case14</td><td>30''  </td><td>HI    </td><td>B     </td><td>NA    </td></tr>\n",
       "</tbody>\n",
       "</table>\n"
      ],
      "text/latex": [
       "\\begin{tabular}{r|llllll}\n",
       "  & lane.ID & group.ID & time.point & strain.ID & position & RIN\\\\\n",
       "\\hline\n",
       "\tS77462 & L3     & Case13 & 0''    & HI     & B      & NA    \\\\\n",
       "\tS77463 & L3     & Case13 & 0''    & HI     & B      & NA    \\\\\n",
       "\tS77464 & L3     & Case13 & 0''    & HI     & B      & NA    \\\\\n",
       "\tS77465 & L3     & Case14 & 30''   & HI     & B      & NA    \\\\\n",
       "\tS77466 & L3     & Case14 & 30''   & HI     & B      & NA    \\\\\n",
       "\tS77467 & L3     & Case14 & 30''   & HI     & B      & NA    \\\\\n",
       "\\end{tabular}\n"
      ],
      "text/markdown": [
       "\n",
       "| <!--/--> | lane.ID | group.ID | time.point | strain.ID | position | RIN | \n",
       "|---|---|---|---|---|---|\n",
       "| S77462 | L3     | Case13 | 0''    | HI     | B      | NA     | \n",
       "| S77463 | L3     | Case13 | 0''    | HI     | B      | NA     | \n",
       "| S77464 | L3     | Case13 | 0''    | HI     | B      | NA     | \n",
       "| S77465 | L3     | Case14 | 30''   | HI     | B      | NA     | \n",
       "| S77466 | L3     | Case14 | 30''   | HI     | B      | NA     | \n",
       "| S77467 | L3     | Case14 | 30''   | HI     | B      | NA     | \n",
       "\n",
       "\n"
      ],
      "text/plain": [
       "       lane.ID group.ID time.point strain.ID position RIN\n",
       "S77462 L3      Case13   0''        HI        B        NA \n",
       "S77463 L3      Case13   0''        HI        B        NA \n",
       "S77464 L3      Case13   0''        HI        B        NA \n",
       "S77465 L3      Case14   30''       HI        B        NA \n",
       "S77466 L3      Case14   30''       HI        B        NA \n",
       "S77467 L3      Case14   30''       HI        B        NA "
      ]
     },
     "metadata": {},
     "output_type": "display_data"
    }
   ],
   "source": [
    "swarm_front_periphery_samples <- filter(exp_info_sample_names, lane.ID != \"L1\" & position == \"B\")[,1]\n",
    "swarm_front_periphery_counts <- counts[,swarm_front_periphery_samples]\n",
    "swarm_front_periphery_exp_info <- experiment_info[swarm_front_periphery_samples,]\n",
    "swarm_front_periphery_exp_info"
   ]
  },
  {
   "cell_type": "code",
   "execution_count": 29,
   "metadata": {
    "collapsed": false
   },
   "outputs": [
    {
     "name": "stderr",
     "output_type": "stream",
     "text": [
      "factor levels were dropped which had no samples\n",
      "estimating size factors\n",
      "estimating dispersions\n",
      "gene-wise dispersion estimates\n",
      "mean-dispersion relationship\n",
      "final dispersion estimates\n",
      "fitting model and testing\n"
     ]
    },
    {
     "data": {
      "text/plain": [
       "log2 fold change (MAP): time.point 30'' vs 0'' \n",
       "Wald test p-value: time.point 30'' vs 0'' \n",
       "DataFrame with 0 rows and 6 columns"
      ]
     },
     "metadata": {},
     "output_type": "display_data"
    }
   ],
   "source": [
    "# 0 DE genes\n",
    "swarm_front_periphery_time <- TimeAnalysisDE(swarm_front_periphery_counts, swarm_front_periphery_exp_info, \n",
    "                                             \"2018-06-27-swarm-front-periphery-line-time.csv\")\n",
    "swarm_front_periphery_time$results"
   ]
  },
  {
   "cell_type": "markdown",
   "metadata": {},
   "source": [
    "### Analysis of Differential Gene Expression at the Swarm Front between 0 and 30 min"
   ]
  },
  {
   "cell_type": "code",
   "execution_count": 30,
   "metadata": {
    "collapsed": false
   },
   "outputs": [
    {
     "data": {
      "text/html": [
       "<table>\n",
       "<thead><tr><th></th><th scope=col>lane.ID</th><th scope=col>group.ID</th><th scope=col>time.point</th><th scope=col>strain.ID</th><th scope=col>position</th><th scope=col>RIN</th></tr></thead>\n",
       "<tbody>\n",
       "\t<tr><th scope=row>S76067</th><td>L2   </td><td>Case5</td><td>30'' </td><td>HI   </td><td>L-HI </td><td>6.8  </td></tr>\n",
       "\t<tr><th scope=row>S76068</th><td>L2   </td><td>Case5</td><td>30'' </td><td>HI   </td><td>L-HI </td><td>6.1  </td></tr>\n",
       "\t<tr><th scope=row>S76069</th><td>L2   </td><td>Case5</td><td>30'' </td><td>HI   </td><td>L-HI </td><td>6.1  </td></tr>\n",
       "\t<tr><th scope=row>S76070</th><td>L2   </td><td>Case6</td><td>0''  </td><td>HI   </td><td>L-HI </td><td>6.4  </td></tr>\n",
       "\t<tr><th scope=row>S76071</th><td>L2   </td><td>Case6</td><td>0''  </td><td>HI   </td><td>L-HI </td><td>4.5  </td></tr>\n",
       "\t<tr><th scope=row>S76072</th><td>L2   </td><td>Case6</td><td>0''  </td><td>HI   </td><td>L-HI </td><td>6.1  </td></tr>\n",
       "</tbody>\n",
       "</table>\n"
      ],
      "text/latex": [
       "\\begin{tabular}{r|llllll}\n",
       "  & lane.ID & group.ID & time.point & strain.ID & position & RIN\\\\\n",
       "\\hline\n",
       "\tS76067 & L2    & Case5 & 30''  & HI    & L-HI  & 6.8  \\\\\n",
       "\tS76068 & L2    & Case5 & 30''  & HI    & L-HI  & 6.1  \\\\\n",
       "\tS76069 & L2    & Case5 & 30''  & HI    & L-HI  & 6.1  \\\\\n",
       "\tS76070 & L2    & Case6 & 0''   & HI    & L-HI  & 6.4  \\\\\n",
       "\tS76071 & L2    & Case6 & 0''   & HI    & L-HI  & 4.5  \\\\\n",
       "\tS76072 & L2    & Case6 & 0''   & HI    & L-HI  & 6.1  \\\\\n",
       "\\end{tabular}\n"
      ],
      "text/markdown": [
       "\n",
       "| <!--/--> | lane.ID | group.ID | time.point | strain.ID | position | RIN | \n",
       "|---|---|---|---|---|---|\n",
       "| S76067 | L2    | Case5 | 30''  | HI    | L-HI  | 6.8   | \n",
       "| S76068 | L2    | Case5 | 30''  | HI    | L-HI  | 6.1   | \n",
       "| S76069 | L2    | Case5 | 30''  | HI    | L-HI  | 6.1   | \n",
       "| S76070 | L2    | Case6 | 0''   | HI    | L-HI  | 6.4   | \n",
       "| S76071 | L2    | Case6 | 0''   | HI    | L-HI  | 4.5   | \n",
       "| S76072 | L2    | Case6 | 0''   | HI    | L-HI  | 6.1   | \n",
       "\n",
       "\n"
      ],
      "text/plain": [
       "       lane.ID group.ID time.point strain.ID position RIN\n",
       "S76067 L2      Case5    30''       HI        L-HI     6.8\n",
       "S76068 L2      Case5    30''       HI        L-HI     6.1\n",
       "S76069 L2      Case5    30''       HI        L-HI     6.1\n",
       "S76070 L2      Case6    0''        HI        L-HI     6.4\n",
       "S76071 L2      Case6    0''        HI        L-HI     4.5\n",
       "S76072 L2      Case6    0''        HI        L-HI     6.1"
      ]
     },
     "metadata": {},
     "output_type": "display_data"
    }
   ],
   "source": [
    "Swarm_line_samples <- filter(exp_info_sample_names, lane.ID != \"L1\" & position == \"L-HI\")[,1]\n",
    "Swarm_counts <- counts[,Swarm_line_samples]\n",
    "Swarm_exp_info <- experiment_info[Swarm_line_samples,]\n",
    "Swarm_exp_info"
   ]
  },
  {
   "cell_type": "code",
   "execution_count": 31,
   "metadata": {
    "collapsed": false
   },
   "outputs": [
    {
     "name": "stderr",
     "output_type": "stream",
     "text": [
      "factor levels were dropped which had no samples\n",
      "estimating size factors\n",
      "estimating dispersions\n",
      "gene-wise dispersion estimates\n",
      "mean-dispersion relationship\n",
      "final dispersion estimates\n",
      "fitting model and testing\n"
     ]
    }
   ],
   "source": [
    "Swarm_time <- TimeAnalysisDE(Swarm_counts, Swarm_exp_info, \"2018-06-27-Swarm-line-time.csv\")"
   ]
  },
  {
   "cell_type": "code",
   "execution_count": 32,
   "metadata": {
    "collapsed": false
   },
   "outputs": [
    {
     "data": {
      "text/plain": [
       "log2 fold change (MAP): time.point 30'' vs 0'' \n",
       "Wald test p-value: time.point 30'' vs 0'' \n",
       "DataFrame with 121 rows and 6 columns\n",
       "         baseMean log2FoldChange     lfcSE      stat       pvalue         padj\n",
       "        <numeric>      <numeric> <numeric> <numeric>    <numeric>    <numeric>\n",
       "PMI1031  1003.517       2.775656 0.2312591 12.002363 3.452952e-33 1.196448e-29\n",
       "PMI0437  5635.458       2.063356 0.2094392  9.851812 6.731923e-23 5.831528e-20\n",
       "PMI3038  1196.089       2.044178 0.2278525  8.971497 2.925126e-19 1.013556e-16\n",
       "PMI2847  4752.583       1.912011 0.1969639  9.707418 2.803483e-22 1.825954e-19\n",
       "PMI2254 10780.565       1.862599 0.1613418 11.544432 7.875990e-31 1.364515e-27\n",
       "...           ...            ...       ...       ...          ...          ...\n",
       "PMI1426 1939.4264      -1.631109 0.2685475 -6.073820 1.249028e-09 6.658279e-08\n",
       "PMI0176  219.7845      -1.854880 0.2793990 -6.638824 3.161964e-11 2.235960e-09\n",
       "PMI1425 1318.4807      -1.966218 0.2666194 -7.374625 1.648088e-13 1.730492e-11\n",
       "PMI1551  375.1962      -2.045847 0.2364141 -8.653656 4.987534e-18 1.152120e-15\n",
       "PMI0175  143.9836      -2.106429 0.2974217 -7.082297 1.417847e-12 1.364678e-10"
      ]
     },
     "metadata": {},
     "output_type": "display_data"
    }
   ],
   "source": [
    "Swarm_time$results"
   ]
  },
  {
   "cell_type": "markdown",
   "metadata": {
    "collapsed": true
   },
   "source": [
    "### Analysis of Differential Gene Expression at the Dienes Line/Swarm Front at 0 and 4 hours"
   ]
  },
  {
   "cell_type": "code",
   "execution_count": 34,
   "metadata": {
    "collapsed": false
   },
   "outputs": [
    {
     "data": {
      "text/html": [
       "<table>\n",
       "<thead><tr><th></th><th scope=col>S77464</th><th scope=col>S76068</th><th scope=col>S76082</th><th scope=col>S63632</th><th scope=col>S76076</th><th scope=col>S77466</th><th scope=col>S63638</th><th scope=col>S76088</th><th scope=col>S76074</th><th scope=col>S76080</th><th scope=col>⋯</th><th scope=col>S63639</th><th scope=col>S76089</th><th scope=col>S76087</th><th scope=col>S76073</th><th scope=col>S76079</th><th scope=col>S77463</th><th scope=col>S76067</th><th scope=col>S76071</th><th scope=col>S63635</th><th scope=col>S76085</th></tr></thead>\n",
       "<tbody>\n",
       "\t<tr><th scope=row>PMI0001</th><td> 42   </td><td> 51   </td><td> 90   </td><td> 9192 </td><td> 37   </td><td> 54   </td><td>  9655</td><td> 36   </td><td> 46   </td><td> 44   </td><td>⋯     </td><td> 9885 </td><td> 38   </td><td> 59   </td><td> 52   </td><td> 56   </td><td> 37   </td><td> 53   </td><td> 39   </td><td> 7130 </td><td> 24   </td></tr>\n",
       "\t<tr><th scope=row>PMI0002</th><td> 17   </td><td> 27   </td><td> 57   </td><td> 5492 </td><td> 20   </td><td> 28   </td><td>  5068</td><td> 26   </td><td> 31   </td><td> 31   </td><td>⋯     </td><td> 5505 </td><td> 29   </td><td> 24   </td><td> 30   </td><td> 34   </td><td> 19   </td><td> 31   </td><td> 33   </td><td> 4140 </td><td> 18   </td></tr>\n",
       "\t<tr><th scope=row>PMI0003</th><td> 96   </td><td> 50   </td><td>118   </td><td> 8543 </td><td> 80   </td><td>126   </td><td>  7497</td><td> 78   </td><td> 89   </td><td> 82   </td><td>⋯     </td><td> 7840 </td><td> 93   </td><td> 91   </td><td>104   </td><td> 83   </td><td>133   </td><td> 89   </td><td> 84   </td><td> 7381 </td><td> 55   </td></tr>\n",
       "\t<tr><th scope=row>PMI0004</th><td> 71   </td><td> 82   </td><td>105   </td><td>  247 </td><td>120   </td><td> 57   </td><td>   170</td><td> 78   </td><td>112   </td><td> 54   </td><td>⋯     </td><td>  206 </td><td> 65   </td><td> 66   </td><td> 73   </td><td> 70   </td><td> 40   </td><td> 69   </td><td>137   </td><td>  353 </td><td> 93   </td></tr>\n",
       "\t<tr><th scope=row>PMI0005</th><td> 12   </td><td> 25   </td><td> 26   </td><td> 1152 </td><td> 22   </td><td> 17   </td><td>   905</td><td>  7   </td><td> 17   </td><td> 12   </td><td>⋯     </td><td> 1920 </td><td> 18   </td><td> 23   </td><td> 22   </td><td> 12   </td><td>  6   </td><td> 19   </td><td> 24   </td><td> 1624 </td><td> 15   </td></tr>\n",
       "\t<tr><th scope=row>PMI0006</th><td>164   </td><td>223   </td><td>270   </td><td>27659 </td><td>204   </td><td>169   </td><td> 31052</td><td>138   </td><td>161   </td><td>189   </td><td>⋯     </td><td>28434 </td><td>156   </td><td>174   </td><td>192   </td><td>173   </td><td>115   </td><td>215   </td><td>177   </td><td>21339 </td><td>105   </td></tr>\n",
       "\t<tr><th scope=row>PMI0007</th><td> 14   </td><td> 21   </td><td> 13   </td><td> 7766 </td><td> 11   </td><td> 17   </td><td>  6672</td><td> 17   </td><td> 23   </td><td> 15   </td><td>⋯     </td><td> 6466 </td><td> 14   </td><td> 17   </td><td> 16   </td><td> 21   </td><td>  4   </td><td> 21   </td><td>  9   </td><td> 5976 </td><td> 14   </td></tr>\n",
       "\t<tr><th scope=row>PMI0008</th><td> 14   </td><td> 12   </td><td>  8   </td><td> 3069 </td><td>  7   </td><td>  6   </td><td>  2390</td><td>  7   </td><td>  7   </td><td> 10   </td><td>⋯     </td><td> 3385 </td><td>  7   </td><td>  7   </td><td>  1   </td><td> 10   </td><td>  9   </td><td>  8   </td><td>  8   </td><td> 3660 </td><td> 12   </td></tr>\n",
       "\t<tr><th scope=row>PMI0009</th><td> 48   </td><td>274   </td><td>463   </td><td>94391 </td><td>137   </td><td> 62   </td><td>115046</td><td>182   </td><td>153   </td><td>386   </td><td>⋯     </td><td>77298 </td><td>138   </td><td>217   </td><td>149   </td><td>329   </td><td> 98   </td><td>331   </td><td>148   </td><td>37922 </td><td>172   </td></tr>\n",
       "\t<tr><th scope=row>PMI0010</th><td> 10   </td><td> 37   </td><td> 98   </td><td>26743 </td><td> 19   </td><td> 14   </td><td> 27115</td><td> 29   </td><td> 29   </td><td> 82   </td><td>⋯     </td><td>21866 </td><td> 32   </td><td> 40   </td><td> 21   </td><td> 79   </td><td> 10   </td><td> 74   </td><td> 36   </td><td>13490 </td><td> 60   </td></tr>\n",
       "\t<tr><th scope=row>PMI0011</th><td> 33   </td><td> 18   </td><td> 33   </td><td> 2019 </td><td> 13   </td><td> 35   </td><td>  1911</td><td> 25   </td><td> 13   </td><td> 22   </td><td>⋯     </td><td> 2072 </td><td> 17   </td><td> 34   </td><td> 11   </td><td> 29   </td><td> 13   </td><td> 23   </td><td> 16   </td><td> 1315 </td><td> 33   </td></tr>\n",
       "\t<tr><th scope=row>PMI0012</th><td> 21   </td><td> 14   </td><td> 18   </td><td> 2321 </td><td> 15   </td><td> 12   </td><td>  2418</td><td> 18   </td><td> 20   </td><td> 26   </td><td>⋯     </td><td> 1702 </td><td> 19   </td><td>  9   </td><td> 15   </td><td> 33   </td><td>  9   </td><td> 13   </td><td> 19   </td><td> 1016 </td><td> 31   </td></tr>\n",
       "\t<tr><th scope=row>PMI0013</th><td> 14   </td><td>  6   </td><td> 16   </td><td>16332 </td><td>  8   </td><td>  3   </td><td> 16397</td><td>  9   </td><td> 10   </td><td> 15   </td><td>⋯     </td><td> 8982 </td><td> 11   </td><td>  6   </td><td> 12   </td><td> 21   </td><td> 10   </td><td> 10   </td><td>  9   </td><td> 5056 </td><td> 20   </td></tr>\n",
       "\t<tr><th scope=row>PMI0014</th><td>  9   </td><td> 16   </td><td> 32   </td><td> 6923 </td><td> 15   </td><td>  9   </td><td>  5985</td><td> 20   </td><td> 16   </td><td> 24   </td><td>⋯     </td><td> 4041 </td><td> 23   </td><td> 15   </td><td> 10   </td><td> 26   </td><td>  3   </td><td> 21   </td><td> 21   </td><td> 2917 </td><td> 15   </td></tr>\n",
       "\t<tr><th scope=row>PMI0015</th><td>240   </td><td>134   </td><td>262   </td><td>35676 </td><td>159   </td><td>216   </td><td> 36163</td><td>213   </td><td>169   </td><td>200   </td><td>⋯     </td><td>31944 </td><td>199   </td><td>220   </td><td>141   </td><td>252   </td><td>141   </td><td>199   </td><td>195   </td><td>23988 </td><td>154   </td></tr>\n",
       "\t<tr><th scope=row>PMI0016</th><td> 22   </td><td> 20   </td><td> 18   </td><td> 1615 </td><td> 13   </td><td> 15   </td><td>  1793</td><td> 11   </td><td> 29   </td><td> 29   </td><td>⋯     </td><td> 1208 </td><td> 14   </td><td> 27   </td><td>  8   </td><td> 37   </td><td>  6   </td><td> 15   </td><td> 12   </td><td>  744 </td><td> 22   </td></tr>\n",
       "\t<tr><th scope=row>PMI0017</th><td>  7   </td><td> 17   </td><td> 28   </td><td> 2547 </td><td> 17   </td><td> 10   </td><td>  2291</td><td> 16   </td><td> 18   </td><td> 18   </td><td>⋯     </td><td> 1831 </td><td> 11   </td><td> 13   </td><td> 12   </td><td> 17   </td><td>  5   </td><td> 18   </td><td> 19   </td><td> 1733 </td><td> 18   </td></tr>\n",
       "\t<tr><th scope=row>PMI0018</th><td>  9   </td><td>  7   </td><td> 27   </td><td> 4995 </td><td>  9   </td><td>  6   </td><td>  5273</td><td> 12   </td><td> 12   </td><td>  9   </td><td>⋯     </td><td> 5473 </td><td>  7   </td><td> 15   </td><td>  7   </td><td> 19   </td><td>  3   </td><td> 16   </td><td> 16   </td><td> 4297 </td><td>  9   </td></tr>\n",
       "\t<tr><th scope=row>PMI0019</th><td>  4   </td><td>  5   </td><td>  6   </td><td> 1331 </td><td>  4   </td><td>  6   </td><td>  1733</td><td>  4   </td><td>  7   </td><td>  4   </td><td>⋯     </td><td> 2182 </td><td>  3   </td><td>  4   </td><td>  7   </td><td>  3   </td><td>  4   </td><td> 15   </td><td>  4   </td><td> 2598 </td><td>  6   </td></tr>\n",
       "\t<tr><th scope=row>PMI0020</th><td> 12   </td><td> 33   </td><td> 30   </td><td>10318 </td><td> 26   </td><td> 24   </td><td>  1713</td><td> 30   </td><td> 19   </td><td> 23   </td><td>⋯     </td><td> 2853 </td><td> 18   </td><td> 20   </td><td> 28   </td><td> 16   </td><td>  8   </td><td> 38   </td><td> 35   </td><td> 2253 </td><td>  8   </td></tr>\n",
       "\t<tr><th scope=row>PMI0021</th><td> 33   </td><td> 41   </td><td> 65   </td><td>30918 </td><td> 46   </td><td> 68   </td><td>  5171</td><td> 40   </td><td> 51   </td><td> 38   </td><td>⋯     </td><td> 8744 </td><td> 51   </td><td> 45   </td><td> 52   </td><td> 57   </td><td> 61   </td><td> 45   </td><td> 48   </td><td> 6512 </td><td> 24   </td></tr>\n",
       "\t<tr><th scope=row>PMI0023</th><td>252   </td><td>417   </td><td>396   </td><td>  432 </td><td>508   </td><td>232   </td><td>   320</td><td>396   </td><td>492   </td><td>314   </td><td>⋯     </td><td>  262 </td><td>363   </td><td>346   </td><td>429   </td><td>341   </td><td>234   </td><td>386   </td><td>541   </td><td>  347 </td><td>420   </td></tr>\n",
       "\t<tr><th scope=row>PMI0024</th><td> 24   </td><td> 33   </td><td> 41   </td><td> 3113 </td><td> 42   </td><td> 19   </td><td>  2814</td><td> 16   </td><td> 33   </td><td> 20   </td><td>⋯     </td><td> 8093 </td><td> 25   </td><td> 26   </td><td> 49   </td><td> 17   </td><td> 25   </td><td> 34   </td><td> 29   </td><td> 7822 </td><td> 12   </td></tr>\n",
       "\t<tr><th scope=row>PMI0025</th><td> 43   </td><td> 45   </td><td> 37   </td><td> 3317 </td><td> 53   </td><td> 64   </td><td>  2769</td><td> 30   </td><td> 32   </td><td> 18   </td><td>⋯     </td><td> 6592 </td><td> 30   </td><td> 31   </td><td> 52   </td><td> 24   </td><td> 25   </td><td> 29   </td><td> 19   </td><td> 6451 </td><td> 19   </td></tr>\n",
       "\t<tr><th scope=row>PMI0026</th><td>  5   </td><td>  2   </td><td>  5   </td><td>  216 </td><td> 10   </td><td>  1   </td><td>   213</td><td>  3   </td><td>  4   </td><td>  3   </td><td>⋯     </td><td>  533 </td><td>  3   </td><td>  4   </td><td>  3   </td><td>  5   </td><td>  4   </td><td>  0   </td><td>  6   </td><td>  554 </td><td>  4   </td></tr>\n",
       "\t<tr><th scope=row>PMI0027</th><td> 12   </td><td> 26   </td><td> 15   </td><td>  275 </td><td>  5   </td><td> 12   </td><td>   197</td><td> 12   </td><td> 13   </td><td> 10   </td><td>⋯     </td><td>  227 </td><td>  8   </td><td> 19   </td><td> 11   </td><td> 12   </td><td> 14   </td><td> 16   </td><td> 16   </td><td>  209 </td><td> 20   </td></tr>\n",
       "\t<tr><th scope=row>PMI0028</th><td> 50   </td><td> 82   </td><td> 73   </td><td> 1245 </td><td> 63   </td><td> 52   </td><td>   973</td><td> 60   </td><td> 72   </td><td> 58   </td><td>⋯     </td><td> 1802 </td><td> 42   </td><td> 47   </td><td> 80   </td><td> 40   </td><td> 38   </td><td> 71   </td><td> 65   </td><td> 1504 </td><td> 49   </td></tr>\n",
       "\t<tr><th scope=row>PMI0029</th><td> 30   </td><td> 22   </td><td> 65   </td><td> 6484 </td><td> 14   </td><td> 26   </td><td>  5193</td><td> 43   </td><td> 20   </td><td> 35   </td><td>⋯     </td><td> 4853 </td><td> 30   </td><td> 20   </td><td> 12   </td><td> 46   </td><td> 12   </td><td> 39   </td><td> 65   </td><td> 4805 </td><td> 45   </td></tr>\n",
       "\t<tr><th scope=row>PMI0030</th><td> 13   </td><td>  8   </td><td> 15   </td><td> 3035 </td><td> 16   </td><td>  3   </td><td>  1867</td><td>  8   </td><td>  9   </td><td> 10   </td><td>⋯     </td><td> 1497 </td><td>  6   </td><td>  6   </td><td>  7   </td><td> 14   </td><td>  7   </td><td> 12   </td><td> 27   </td><td> 1457 </td><td> 20   </td></tr>\n",
       "\t<tr><th scope=row>PMI0031</th><td>  2   </td><td>  4   </td><td>  9   </td><td>   41 </td><td>  6   </td><td>  2   </td><td>    49</td><td>  2   </td><td>  6   </td><td>  2   </td><td>⋯     </td><td>   50 </td><td>  5   </td><td>  2   </td><td>  3   </td><td>  2   </td><td>  0   </td><td>  1   </td><td>  5   </td><td>   63 </td><td>  4   </td></tr>\n",
       "\t<tr><th scope=row>⋮</th><td>⋮</td><td>⋮</td><td>⋮</td><td>⋮</td><td>⋮</td><td>⋮</td><td>⋮</td><td>⋮</td><td>⋮</td><td>⋮</td><td>⋱</td><td>⋮</td><td>⋮</td><td>⋮</td><td>⋮</td><td>⋮</td><td>⋮</td><td>⋮</td><td>⋮</td><td>⋮</td><td>⋮</td></tr>\n",
       "\t<tr><th scope=row>fig|529507.6.peg.487</th><td>   0</td><td>   0</td><td>   1</td><td>101 </td><td>   1</td><td>  0 </td><td>86  </td><td>   0</td><td>   2</td><td>   0</td><td>⋯   </td><td>128 </td><td>   1</td><td>   1</td><td>  0 </td><td>   0</td><td>  1 </td><td>   0</td><td>   0</td><td>113 </td><td>   1</td></tr>\n",
       "\t<tr><th scope=row>fig|529507.6.peg.514</th><td>   4</td><td>   3</td><td>   5</td><td> 18 </td><td>   3</td><td>  2 </td><td>37  </td><td>   1</td><td>   1</td><td>   1</td><td>⋯   </td><td> 25 </td><td>   2</td><td>   2</td><td>  5 </td><td>   1</td><td>  0 </td><td>   6</td><td>   9</td><td> 17 </td><td>   1</td></tr>\n",
       "\t<tr><th scope=row>fig|529507.6.peg.515</th><td>   8</td><td>   5</td><td>   3</td><td> 32 </td><td>   8</td><td>  6 </td><td>35  </td><td>   2</td><td>   6</td><td>   7</td><td>⋯   </td><td> 38 </td><td>  11</td><td>  12</td><td>  4 </td><td>   4</td><td>  8 </td><td>   2</td><td>   7</td><td> 89 </td><td>   5</td></tr>\n",
       "\t<tr><th scope=row>fig|529507.6.peg.580</th><td>   0</td><td>   0</td><td>   0</td><td>  1 </td><td>   0</td><td>  0 </td><td> 2  </td><td>   0</td><td>   0</td><td>   0</td><td>⋯   </td><td>  4 </td><td>   0</td><td>   0</td><td>  0 </td><td>   0</td><td>  0 </td><td>   0</td><td>   3</td><td>  0 </td><td>   0</td></tr>\n",
       "\t<tr><th scope=row>fig|529507.6.peg.59</th><td>   7</td><td>   3</td><td>   1</td><td>  7 </td><td>   2</td><td>  8 </td><td> 8  </td><td>  10</td><td>   7</td><td>   5</td><td>⋯   </td><td>  0 </td><td>   1</td><td>   0</td><td>  6 </td><td>   6</td><td>  4 </td><td>   7</td><td>   7</td><td>  0 </td><td>   4</td></tr>\n",
       "\t<tr><th scope=row>fig|529507.6.peg.60</th><td>   5</td><td>   4</td><td>   6</td><td> 62 </td><td>  12</td><td>  4 </td><td>44  </td><td>   2</td><td>  15</td><td>   3</td><td>⋯   </td><td> 75 </td><td>   3</td><td>   4</td><td>  9 </td><td>   9</td><td>  3 </td><td>   3</td><td>  12</td><td>  6 </td><td>   6</td></tr>\n",
       "\t<tr><th scope=row>fig|529507.6.peg.637</th><td>   1</td><td>   1</td><td>   0</td><td> 31 </td><td>   1</td><td>  1 </td><td>43  </td><td>   0</td><td>   0</td><td>   0</td><td>⋯   </td><td> 84 </td><td>   0</td><td>   0</td><td>  0 </td><td>   0</td><td>  0 </td><td>   0</td><td>   0</td><td> 53 </td><td>   0</td></tr>\n",
       "\t<tr><th scope=row>fig|529507.6.peg.686</th><td>   4</td><td>  23</td><td>  25</td><td>  3 </td><td>  38</td><td>  9 </td><td> 1  </td><td>   9</td><td>   8</td><td>  14</td><td>⋯   </td><td>  0 </td><td>  13</td><td>   9</td><td> 19 </td><td>  12</td><td>  8 </td><td>  13</td><td>  27</td><td>  0 </td><td>  13</td></tr>\n",
       "\t<tr><th scope=row>fig|529507.6.peg.744</th><td>  15</td><td>  51</td><td>  46</td><td> 49 </td><td>  32</td><td> 33 </td><td>35  </td><td>  17</td><td>  28</td><td>  26</td><td>⋯   </td><td> 32 </td><td>  25</td><td>  31</td><td> 25 </td><td>  19</td><td> 15 </td><td>  64</td><td>  44</td><td> 16 </td><td>  38</td></tr>\n",
       "\t<tr><th scope=row>fig|529507.6.peg.759</th><td>   1</td><td>   0</td><td>   1</td><td> 52 </td><td>   0</td><td>  0 </td><td>62  </td><td>   1</td><td>   1</td><td>   0</td><td>⋯   </td><td> 70 </td><td>   0</td><td>   0</td><td>  0 </td><td>   0</td><td>  0 </td><td>   1</td><td>   2</td><td> 19 </td><td>   4</td></tr>\n",
       "\t<tr><th scope=row>fig|529507.6.peg.760</th><td>   0</td><td>   4</td><td>   1</td><td> 67 </td><td>   7</td><td>  2 </td><td>61  </td><td>   5</td><td>   5</td><td>   6</td><td>⋯   </td><td> 83 </td><td>   4</td><td>   4</td><td>  6 </td><td>   4</td><td>  2 </td><td>   1</td><td>   7</td><td> 83 </td><td>   6</td></tr>\n",
       "\t<tr><th scope=row>fig|529507.6.peg.776</th><td>   0</td><td>   3</td><td>   1</td><td>  0 </td><td>   0</td><td>  0 </td><td> 0  </td><td>   1</td><td>   1</td><td>   2</td><td>⋯   </td><td>  5 </td><td>   0</td><td>   1</td><td>  1 </td><td>   1</td><td>  0 </td><td>   1</td><td>   0</td><td>  0 </td><td>   1</td></tr>\n",
       "\t<tr><th scope=row>fig|529507.6.peg.791</th><td>   4</td><td>   9</td><td>   6</td><td>  1 </td><td>   5</td><td>  0 </td><td> 0  </td><td>   2</td><td>   3</td><td>   6</td><td>⋯   </td><td>  8 </td><td>   3</td><td>   4</td><td>  6 </td><td>   2</td><td>  2 </td><td>   2</td><td>   5</td><td> 30 </td><td>   3</td></tr>\n",
       "\t<tr><th scope=row>fig|529507.6.peg.794</th><td>  13</td><td>  17</td><td>  28</td><td>  0 </td><td>  12</td><td> 10 </td><td> 0  </td><td>   6</td><td>  21</td><td>   5</td><td>⋯   </td><td>  0 </td><td>  20</td><td>   7</td><td> 26 </td><td>  11</td><td> 14 </td><td>  28</td><td>  15</td><td>  0 </td><td>   9</td></tr>\n",
       "\t<tr><th scope=row>fig|529507.6.peg.795</th><td>   0</td><td>   1</td><td>   1</td><td> 18 </td><td>   3</td><td>  0 </td><td> 5  </td><td>   1</td><td>   1</td><td>   0</td><td>⋯   </td><td> 17 </td><td>   2</td><td>   1</td><td>  0 </td><td>   2</td><td>  1 </td><td>   0</td><td>   2</td><td> 35 </td><td>   0</td></tr>\n",
       "\t<tr><th scope=row>fig|529507.6.peg.798</th><td>   5</td><td>   4</td><td>   2</td><td> 19 </td><td>  12</td><td>  2 </td><td>41  </td><td>   5</td><td>   9</td><td>   5</td><td>⋯   </td><td>103 </td><td>   6</td><td>   3</td><td>  1 </td><td>   6</td><td>  2 </td><td>   5</td><td>   9</td><td> 91 </td><td>   3</td></tr>\n",
       "\t<tr><th scope=row>fig|529507.6.peg.799</th><td>   2</td><td>   2</td><td>   2</td><td> 34 </td><td>   2</td><td>  1 </td><td>33  </td><td>   1</td><td>   7</td><td>   2</td><td>⋯   </td><td> 47 </td><td>   3</td><td>   1</td><td>  4 </td><td>   3</td><td>  1 </td><td>   0</td><td>   1</td><td> 50 </td><td>   2</td></tr>\n",
       "\t<tr><th scope=row>fig|529507.6.peg.804</th><td>1187</td><td>1150</td><td>1531</td><td> 26 </td><td>1092</td><td>468 </td><td>16  </td><td>4326</td><td>1101</td><td>3035</td><td>⋯   </td><td> 20 </td><td>3016</td><td>2342</td><td>981 </td><td>4912</td><td>335 </td><td>1273</td><td>1262</td><td> 34 </td><td>5009</td></tr>\n",
       "\t<tr><th scope=row>fig|529507.6.peg.895</th><td>   0</td><td>   0</td><td>   0</td><td>  0 </td><td>   0</td><td>  0 </td><td> 0  </td><td>   0</td><td>   0</td><td>   0</td><td>⋯   </td><td>  0 </td><td>   0</td><td>   0</td><td>  0 </td><td>   0</td><td>  0 </td><td>   0</td><td>   0</td><td>  0 </td><td>   0</td></tr>\n",
       "\t<tr><th scope=row>fig|529507.6.peg.917</th><td>   0</td><td>   0</td><td>   1</td><td> 19 </td><td>   1</td><td>  0 </td><td>14  </td><td>   1</td><td>   0</td><td>   0</td><td>⋯   </td><td>  9 </td><td>   0</td><td>   1</td><td>  1 </td><td>   2</td><td>  1 </td><td>   0</td><td>   1</td><td> 23 </td><td>   2</td></tr>\n",
       "\t<tr><th scope=row>fig|529507.6.peg.919</th><td>   0</td><td>   0</td><td>   0</td><td>  0 </td><td>   0</td><td>  0 </td><td> 2  </td><td>   0</td><td>   1</td><td>   0</td><td>⋯   </td><td>  0 </td><td>   0</td><td>   0</td><td>  0 </td><td>   0</td><td>  0 </td><td>   0</td><td>   0</td><td>  8 </td><td>   0</td></tr>\n",
       "\t<tr><th scope=row>fig|529507.6.peg.920</th><td>   1</td><td>   0</td><td>   0</td><td>  0 </td><td>   0</td><td>  0 </td><td> 2  </td><td>   0</td><td>   0</td><td>   0</td><td>⋯   </td><td>  2 </td><td>   1</td><td>   0</td><td>  0 </td><td>   0</td><td>  0 </td><td>   0</td><td>   0</td><td>  0 </td><td>   0</td></tr>\n",
       "\t<tr><th scope=row>fig|529507.6.peg.924</th><td>   0</td><td>   1</td><td>   2</td><td>  0 </td><td>   0</td><td>  0 </td><td> 4  </td><td>   0</td><td>   0</td><td>   0</td><td>⋯   </td><td>  6 </td><td>   0</td><td>   0</td><td>  0 </td><td>   0</td><td>  0 </td><td>   0</td><td>   1</td><td>  0 </td><td>   0</td></tr>\n",
       "\t<tr><th scope=row>fig|529507.6.peg.937</th><td>   0</td><td>   2</td><td>   0</td><td> 14 </td><td>   0</td><td>  0 </td><td>11  </td><td>   0</td><td>   0</td><td>   2</td><td>⋯   </td><td> 42 </td><td>   2</td><td>   1</td><td>  2 </td><td>   1</td><td>  0 </td><td>   0</td><td>   1</td><td> 34 </td><td>   0</td></tr>\n",
       "\t<tr><th scope=row>fig|529507.6.peg.938</th><td>   0</td><td>   0</td><td>   1</td><td>  5 </td><td>   1</td><td>  0 </td><td> 3  </td><td>   0</td><td>   0</td><td>   0</td><td>⋯   </td><td>  2 </td><td>   1</td><td>   1</td><td>  0 </td><td>   0</td><td>  0 </td><td>   0</td><td>   0</td><td>  0 </td><td>   0</td></tr>\n",
       "\t<tr><th scope=row>fig|529507.6.peg.940</th><td>   1</td><td>   6</td><td>   2</td><td>  0 </td><td>   3</td><td>  1 </td><td> 1  </td><td>   3</td><td>   2</td><td>   4</td><td>⋯   </td><td>  0 </td><td>   2</td><td>   7</td><td>  1 </td><td>   6</td><td>  3 </td><td>   1</td><td>   3</td><td>  0 </td><td>   1</td></tr>\n",
       "\t<tr><th scope=row>fig|529507.6.peg.954</th><td>   0</td><td>   2</td><td>   3</td><td> 49 </td><td>   1</td><td>  1 </td><td>50  </td><td>   2</td><td>   2</td><td>   0</td><td>⋯   </td><td> 53 </td><td>   2</td><td>   4</td><td>  3 </td><td>   2</td><td>  0 </td><td>   1</td><td>   6</td><td>136 </td><td>   4</td></tr>\n",
       "\t<tr><th scope=row>fig|529507.6.peg.964</th><td>   6</td><td>  28</td><td>  20</td><td>  0 </td><td>  24</td><td> 18 </td><td> 3  </td><td>  14</td><td>  19</td><td>  13</td><td>⋯   </td><td>  2 </td><td>  14</td><td>  23</td><td> 30 </td><td>  10</td><td> 16 </td><td>  16</td><td>  51</td><td>  5 </td><td>  13</td></tr>\n",
       "\t<tr><th scope=row>fig|529507.6.peg.97</th><td>  27</td><td>  25</td><td>  45</td><td> 16 </td><td>  24</td><td> 15 </td><td> 6  </td><td>  94</td><td>  33</td><td>  40</td><td>⋯   </td><td>  6 </td><td>  52</td><td>  76</td><td> 17 </td><td>  86</td><td> 16 </td><td>  22</td><td>  62</td><td> 15 </td><td>  99</td></tr>\n",
       "\t<tr><th scope=row>fig|529507.6.peg.983</th><td>   1</td><td>   5</td><td>   2</td><td> 43 </td><td>   3</td><td>  4 </td><td>44  </td><td>   0</td><td>   0</td><td>   2</td><td>⋯   </td><td> 50 </td><td>   2</td><td>   2</td><td>  3 </td><td>   2</td><td>  3 </td><td>   3</td><td>   9</td><td> 35 </td><td>   5</td></tr>\n",
       "</tbody>\n",
       "</table>\n"
      ],
      "text/latex": [
       "\\begin{tabular}{r|llllllllllllllllllllllllllllllllllllllll}\n",
       "  & S77464 & S76068 & S76082 & S63632 & S76076 & S77466 & S63638 & S76088 & S76074 & S76080 & ⋯ & S63639 & S76089 & S76087 & S76073 & S76079 & S77463 & S76067 & S76071 & S63635 & S76085\\\\\n",
       "\\hline\n",
       "\tPMI0001 &  42    &  51    &  90    &  9192  &  37    &  54    &   9655 &  36    &  46    &  44    & ⋯      &  9885  &  38    &  59    &  52    &  56    &  37    &  53    &  39    &  7130  &  24   \\\\\n",
       "\tPMI0002 &  17    &  27    &  57    &  5492  &  20    &  28    &   5068 &  26    &  31    &  31    & ⋯      &  5505  &  29    &  24    &  30    &  34    &  19    &  31    &  33    &  4140  &  18   \\\\\n",
       "\tPMI0003 &  96    &  50    & 118    &  8543  &  80    & 126    &   7497 &  78    &  89    &  82    & ⋯      &  7840  &  93    &  91    & 104    &  83    & 133    &  89    &  84    &  7381  &  55   \\\\\n",
       "\tPMI0004 &  71    &  82    & 105    &   247  & 120    &  57    &    170 &  78    & 112    &  54    & ⋯      &   206  &  65    &  66    &  73    &  70    &  40    &  69    & 137    &   353  &  93   \\\\\n",
       "\tPMI0005 &  12    &  25    &  26    &  1152  &  22    &  17    &    905 &   7    &  17    &  12    & ⋯      &  1920  &  18    &  23    &  22    &  12    &   6    &  19    &  24    &  1624  &  15   \\\\\n",
       "\tPMI0006 & 164    & 223    & 270    & 27659  & 204    & 169    &  31052 & 138    & 161    & 189    & ⋯      & 28434  & 156    & 174    & 192    & 173    & 115    & 215    & 177    & 21339  & 105   \\\\\n",
       "\tPMI0007 &  14    &  21    &  13    &  7766  &  11    &  17    &   6672 &  17    &  23    &  15    & ⋯      &  6466  &  14    &  17    &  16    &  21    &   4    &  21    &   9    &  5976  &  14   \\\\\n",
       "\tPMI0008 &  14    &  12    &   8    &  3069  &   7    &   6    &   2390 &   7    &   7    &  10    & ⋯      &  3385  &   7    &   7    &   1    &  10    &   9    &   8    &   8    &  3660  &  12   \\\\\n",
       "\tPMI0009 &  48    & 274    & 463    & 94391  & 137    &  62    & 115046 & 182    & 153    & 386    & ⋯      & 77298  & 138    & 217    & 149    & 329    &  98    & 331    & 148    & 37922  & 172   \\\\\n",
       "\tPMI0010 &  10    &  37    &  98    & 26743  &  19    &  14    &  27115 &  29    &  29    &  82    & ⋯      & 21866  &  32    &  40    &  21    &  79    &  10    &  74    &  36    & 13490  &  60   \\\\\n",
       "\tPMI0011 &  33    &  18    &  33    &  2019  &  13    &  35    &   1911 &  25    &  13    &  22    & ⋯      &  2072  &  17    &  34    &  11    &  29    &  13    &  23    &  16    &  1315  &  33   \\\\\n",
       "\tPMI0012 &  21    &  14    &  18    &  2321  &  15    &  12    &   2418 &  18    &  20    &  26    & ⋯      &  1702  &  19    &   9    &  15    &  33    &   9    &  13    &  19    &  1016  &  31   \\\\\n",
       "\tPMI0013 &  14    &   6    &  16    & 16332  &   8    &   3    &  16397 &   9    &  10    &  15    & ⋯      &  8982  &  11    &   6    &  12    &  21    &  10    &  10    &   9    &  5056  &  20   \\\\\n",
       "\tPMI0014 &   9    &  16    &  32    &  6923  &  15    &   9    &   5985 &  20    &  16    &  24    & ⋯      &  4041  &  23    &  15    &  10    &  26    &   3    &  21    &  21    &  2917  &  15   \\\\\n",
       "\tPMI0015 & 240    & 134    & 262    & 35676  & 159    & 216    &  36163 & 213    & 169    & 200    & ⋯      & 31944  & 199    & 220    & 141    & 252    & 141    & 199    & 195    & 23988  & 154   \\\\\n",
       "\tPMI0016 &  22    &  20    &  18    &  1615  &  13    &  15    &   1793 &  11    &  29    &  29    & ⋯      &  1208  &  14    &  27    &   8    &  37    &   6    &  15    &  12    &   744  &  22   \\\\\n",
       "\tPMI0017 &   7    &  17    &  28    &  2547  &  17    &  10    &   2291 &  16    &  18    &  18    & ⋯      &  1831  &  11    &  13    &  12    &  17    &   5    &  18    &  19    &  1733  &  18   \\\\\n",
       "\tPMI0018 &   9    &   7    &  27    &  4995  &   9    &   6    &   5273 &  12    &  12    &   9    & ⋯      &  5473  &   7    &  15    &   7    &  19    &   3    &  16    &  16    &  4297  &   9   \\\\\n",
       "\tPMI0019 &   4    &   5    &   6    &  1331  &   4    &   6    &   1733 &   4    &   7    &   4    & ⋯      &  2182  &   3    &   4    &   7    &   3    &   4    &  15    &   4    &  2598  &   6   \\\\\n",
       "\tPMI0020 &  12    &  33    &  30    & 10318  &  26    &  24    &   1713 &  30    &  19    &  23    & ⋯      &  2853  &  18    &  20    &  28    &  16    &   8    &  38    &  35    &  2253  &   8   \\\\\n",
       "\tPMI0021 &  33    &  41    &  65    & 30918  &  46    &  68    &   5171 &  40    &  51    &  38    & ⋯      &  8744  &  51    &  45    &  52    &  57    &  61    &  45    &  48    &  6512  &  24   \\\\\n",
       "\tPMI0023 & 252    & 417    & 396    &   432  & 508    & 232    &    320 & 396    & 492    & 314    & ⋯      &   262  & 363    & 346    & 429    & 341    & 234    & 386    & 541    &   347  & 420   \\\\\n",
       "\tPMI0024 &  24    &  33    &  41    &  3113  &  42    &  19    &   2814 &  16    &  33    &  20    & ⋯      &  8093  &  25    &  26    &  49    &  17    &  25    &  34    &  29    &  7822  &  12   \\\\\n",
       "\tPMI0025 &  43    &  45    &  37    &  3317  &  53    &  64    &   2769 &  30    &  32    &  18    & ⋯      &  6592  &  30    &  31    &  52    &  24    &  25    &  29    &  19    &  6451  &  19   \\\\\n",
       "\tPMI0026 &   5    &   2    &   5    &   216  &  10    &   1    &    213 &   3    &   4    &   3    & ⋯      &   533  &   3    &   4    &   3    &   5    &   4    &   0    &   6    &   554  &   4   \\\\\n",
       "\tPMI0027 &  12    &  26    &  15    &   275  &   5    &  12    &    197 &  12    &  13    &  10    & ⋯      &   227  &   8    &  19    &  11    &  12    &  14    &  16    &  16    &   209  &  20   \\\\\n",
       "\tPMI0028 &  50    &  82    &  73    &  1245  &  63    &  52    &    973 &  60    &  72    &  58    & ⋯      &  1802  &  42    &  47    &  80    &  40    &  38    &  71    &  65    &  1504  &  49   \\\\\n",
       "\tPMI0029 &  30    &  22    &  65    &  6484  &  14    &  26    &   5193 &  43    &  20    &  35    & ⋯      &  4853  &  30    &  20    &  12    &  46    &  12    &  39    &  65    &  4805  &  45   \\\\\n",
       "\tPMI0030 &  13    &   8    &  15    &  3035  &  16    &   3    &   1867 &   8    &   9    &  10    & ⋯      &  1497  &   6    &   6    &   7    &  14    &   7    &  12    &  27    &  1457  &  20   \\\\\n",
       "\tPMI0031 &   2    &   4    &   9    &    41  &   6    &   2    &     49 &   2    &   6    &   2    & ⋯      &    50  &   5    &   2    &   3    &   2    &   0    &   1    &   5    &    63  &   4   \\\\\n",
       "\t⋮ & ⋮ & ⋮ & ⋮ & ⋮ & ⋮ & ⋮ & ⋮ & ⋮ & ⋮ & ⋮ & ⋱ & ⋮ & ⋮ & ⋮ & ⋮ & ⋮ & ⋮ & ⋮ & ⋮ & ⋮ & ⋮\\\\\n",
       "\tfig\\textbar{}529507.6.peg.487 &    0 &    0 &    1 & 101  &    1 &   0  & 86   &    0 &    2 &    0 & ⋯    & 128  &    1 &    1 &   0  &    0 &   1  &    0 &    0 & 113  &    1\\\\\n",
       "\tfig\\textbar{}529507.6.peg.514 &    4 &    3 &    5 &  18  &    3 &   2  & 37   &    1 &    1 &    1 & ⋯    &  25  &    2 &    2 &   5  &    1 &   0  &    6 &    9 &  17  &    1\\\\\n",
       "\tfig\\textbar{}529507.6.peg.515 &    8 &    5 &    3 &  32  &    8 &   6  & 35   &    2 &    6 &    7 & ⋯    &  38  &   11 &   12 &   4  &    4 &   8  &    2 &    7 &  89  &    5\\\\\n",
       "\tfig\\textbar{}529507.6.peg.580 &    0 &    0 &    0 &   1  &    0 &   0  &  2   &    0 &    0 &    0 & ⋯    &   4  &    0 &    0 &   0  &    0 &   0  &    0 &    3 &   0  &    0\\\\\n",
       "\tfig\\textbar{}529507.6.peg.59 &    7 &    3 &    1 &   7  &    2 &   8  &  8   &   10 &    7 &    5 & ⋯    &   0  &    1 &    0 &   6  &    6 &   4  &    7 &    7 &   0  &    4\\\\\n",
       "\tfig\\textbar{}529507.6.peg.60 &    5 &    4 &    6 &  62  &   12 &   4  & 44   &    2 &   15 &    3 & ⋯    &  75  &    3 &    4 &   9  &    9 &   3  &    3 &   12 &   6  &    6\\\\\n",
       "\tfig\\textbar{}529507.6.peg.637 &    1 &    1 &    0 &  31  &    1 &   1  & 43   &    0 &    0 &    0 & ⋯    &  84  &    0 &    0 &   0  &    0 &   0  &    0 &    0 &  53  &    0\\\\\n",
       "\tfig\\textbar{}529507.6.peg.686 &    4 &   23 &   25 &   3  &   38 &   9  &  1   &    9 &    8 &   14 & ⋯    &   0  &   13 &    9 &  19  &   12 &   8  &   13 &   27 &   0  &   13\\\\\n",
       "\tfig\\textbar{}529507.6.peg.744 &   15 &   51 &   46 &  49  &   32 &  33  & 35   &   17 &   28 &   26 & ⋯    &  32  &   25 &   31 &  25  &   19 &  15  &   64 &   44 &  16  &   38\\\\\n",
       "\tfig\\textbar{}529507.6.peg.759 &    1 &    0 &    1 &  52  &    0 &   0  & 62   &    1 &    1 &    0 & ⋯    &  70  &    0 &    0 &   0  &    0 &   0  &    1 &    2 &  19  &    4\\\\\n",
       "\tfig\\textbar{}529507.6.peg.760 &    0 &    4 &    1 &  67  &    7 &   2  & 61   &    5 &    5 &    6 & ⋯    &  83  &    4 &    4 &   6  &    4 &   2  &    1 &    7 &  83  &    6\\\\\n",
       "\tfig\\textbar{}529507.6.peg.776 &    0 &    3 &    1 &   0  &    0 &   0  &  0   &    1 &    1 &    2 & ⋯    &   5  &    0 &    1 &   1  &    1 &   0  &    1 &    0 &   0  &    1\\\\\n",
       "\tfig\\textbar{}529507.6.peg.791 &    4 &    9 &    6 &   1  &    5 &   0  &  0   &    2 &    3 &    6 & ⋯    &   8  &    3 &    4 &   6  &    2 &   2  &    2 &    5 &  30  &    3\\\\\n",
       "\tfig\\textbar{}529507.6.peg.794 &   13 &   17 &   28 &   0  &   12 &  10  &  0   &    6 &   21 &    5 & ⋯    &   0  &   20 &    7 &  26  &   11 &  14  &   28 &   15 &   0  &    9\\\\\n",
       "\tfig\\textbar{}529507.6.peg.795 &    0 &    1 &    1 &  18  &    3 &   0  &  5   &    1 &    1 &    0 & ⋯    &  17  &    2 &    1 &   0  &    2 &   1  &    0 &    2 &  35  &    0\\\\\n",
       "\tfig\\textbar{}529507.6.peg.798 &    5 &    4 &    2 &  19  &   12 &   2  & 41   &    5 &    9 &    5 & ⋯    & 103  &    6 &    3 &   1  &    6 &   2  &    5 &    9 &  91  &    3\\\\\n",
       "\tfig\\textbar{}529507.6.peg.799 &    2 &    2 &    2 &  34  &    2 &   1  & 33   &    1 &    7 &    2 & ⋯    &  47  &    3 &    1 &   4  &    3 &   1  &    0 &    1 &  50  &    2\\\\\n",
       "\tfig\\textbar{}529507.6.peg.804 & 1187 & 1150 & 1531 &  26  & 1092 & 468  & 16   & 4326 & 1101 & 3035 & ⋯    &  20  & 3016 & 2342 & 981  & 4912 & 335  & 1273 & 1262 &  34  & 5009\\\\\n",
       "\tfig\\textbar{}529507.6.peg.895 &    0 &    0 &    0 &   0  &    0 &   0  &  0   &    0 &    0 &    0 & ⋯    &   0  &    0 &    0 &   0  &    0 &   0  &    0 &    0 &   0  &    0\\\\\n",
       "\tfig\\textbar{}529507.6.peg.917 &    0 &    0 &    1 &  19  &    1 &   0  & 14   &    1 &    0 &    0 & ⋯    &   9  &    0 &    1 &   1  &    2 &   1  &    0 &    1 &  23  &    2\\\\\n",
       "\tfig\\textbar{}529507.6.peg.919 &    0 &    0 &    0 &   0  &    0 &   0  &  2   &    0 &    1 &    0 & ⋯    &   0  &    0 &    0 &   0  &    0 &   0  &    0 &    0 &   8  &    0\\\\\n",
       "\tfig\\textbar{}529507.6.peg.920 &    1 &    0 &    0 &   0  &    0 &   0  &  2   &    0 &    0 &    0 & ⋯    &   2  &    1 &    0 &   0  &    0 &   0  &    0 &    0 &   0  &    0\\\\\n",
       "\tfig\\textbar{}529507.6.peg.924 &    0 &    1 &    2 &   0  &    0 &   0  &  4   &    0 &    0 &    0 & ⋯    &   6  &    0 &    0 &   0  &    0 &   0  &    0 &    1 &   0  &    0\\\\\n",
       "\tfig\\textbar{}529507.6.peg.937 &    0 &    2 &    0 &  14  &    0 &   0  & 11   &    0 &    0 &    2 & ⋯    &  42  &    2 &    1 &   2  &    1 &   0  &    0 &    1 &  34  &    0\\\\\n",
       "\tfig\\textbar{}529507.6.peg.938 &    0 &    0 &    1 &   5  &    1 &   0  &  3   &    0 &    0 &    0 & ⋯    &   2  &    1 &    1 &   0  &    0 &   0  &    0 &    0 &   0  &    0\\\\\n",
       "\tfig\\textbar{}529507.6.peg.940 &    1 &    6 &    2 &   0  &    3 &   1  &  1   &    3 &    2 &    4 & ⋯    &   0  &    2 &    7 &   1  &    6 &   3  &    1 &    3 &   0  &    1\\\\\n",
       "\tfig\\textbar{}529507.6.peg.954 &    0 &    2 &    3 &  49  &    1 &   1  & 50   &    2 &    2 &    0 & ⋯    &  53  &    2 &    4 &   3  &    2 &   0  &    1 &    6 & 136  &    4\\\\\n",
       "\tfig\\textbar{}529507.6.peg.964 &    6 &   28 &   20 &   0  &   24 &  18  &  3   &   14 &   19 &   13 & ⋯    &   2  &   14 &   23 &  30  &   10 &  16  &   16 &   51 &   5  &   13\\\\\n",
       "\tfig\\textbar{}529507.6.peg.97 &   27 &   25 &   45 &  16  &   24 &  15  &  6   &   94 &   33 &   40 & ⋯    &   6  &   52 &   76 &  17  &   86 &  16  &   22 &   62 &  15  &   99\\\\\n",
       "\tfig\\textbar{}529507.6.peg.983 &    1 &    5 &    2 &  43  &    3 &   4  & 44   &    0 &    0 &    2 & ⋯    &  50  &    2 &    2 &   3  &    2 &   3  &    3 &    9 &  35  &    5\\\\\n",
       "\\end{tabular}\n"
      ],
      "text/markdown": [
       "\n",
       "| <!--/--> | S77464 | S76068 | S76082 | S63632 | S76076 | S77466 | S63638 | S76088 | S76074 | S76080 | ⋯ | S63639 | S76089 | S76087 | S76073 | S76079 | S77463 | S76067 | S76071 | S63635 | S76085 | \n",
       "|---|---|---|---|---|---|---|---|---|---|---|---|---|---|---|---|---|---|---|---|---|---|---|---|---|---|---|---|---|---|---|---|---|---|---|---|---|---|---|---|---|---|---|---|---|---|---|---|---|---|---|---|---|---|---|---|---|---|---|---|---|\n",
       "| PMI0001 |  42    |  51    |  90    |  9192  |  37    |  54    |   9655 |  36    |  46    |  44    | ⋯      |  9885  |  38    |  59    |  52    |  56    |  37    |  53    |  39    |  7130  |  24    | \n",
       "| PMI0002 |  17    |  27    |  57    |  5492  |  20    |  28    |   5068 |  26    |  31    |  31    | ⋯      |  5505  |  29    |  24    |  30    |  34    |  19    |  31    |  33    |  4140  |  18    | \n",
       "| PMI0003 |  96    |  50    | 118    |  8543  |  80    | 126    |   7497 |  78    |  89    |  82    | ⋯      |  7840  |  93    |  91    | 104    |  83    | 133    |  89    |  84    |  7381  |  55    | \n",
       "| PMI0004 |  71    |  82    | 105    |   247  | 120    |  57    |    170 |  78    | 112    |  54    | ⋯      |   206  |  65    |  66    |  73    |  70    |  40    |  69    | 137    |   353  |  93    | \n",
       "| PMI0005 |  12    |  25    |  26    |  1152  |  22    |  17    |    905 |   7    |  17    |  12    | ⋯      |  1920  |  18    |  23    |  22    |  12    |   6    |  19    |  24    |  1624  |  15    | \n",
       "| PMI0006 | 164    | 223    | 270    | 27659  | 204    | 169    |  31052 | 138    | 161    | 189    | ⋯      | 28434  | 156    | 174    | 192    | 173    | 115    | 215    | 177    | 21339  | 105    | \n",
       "| PMI0007 |  14    |  21    |  13    |  7766  |  11    |  17    |   6672 |  17    |  23    |  15    | ⋯      |  6466  |  14    |  17    |  16    |  21    |   4    |  21    |   9    |  5976  |  14    | \n",
       "| PMI0008 |  14    |  12    |   8    |  3069  |   7    |   6    |   2390 |   7    |   7    |  10    | ⋯      |  3385  |   7    |   7    |   1    |  10    |   9    |   8    |   8    |  3660  |  12    | \n",
       "| PMI0009 |  48    | 274    | 463    | 94391  | 137    |  62    | 115046 | 182    | 153    | 386    | ⋯      | 77298  | 138    | 217    | 149    | 329    |  98    | 331    | 148    | 37922  | 172    | \n",
       "| PMI0010 |  10    |  37    |  98    | 26743  |  19    |  14    |  27115 |  29    |  29    |  82    | ⋯      | 21866  |  32    |  40    |  21    |  79    |  10    |  74    |  36    | 13490  |  60    | \n",
       "| PMI0011 |  33    |  18    |  33    |  2019  |  13    |  35    |   1911 |  25    |  13    |  22    | ⋯      |  2072  |  17    |  34    |  11    |  29    |  13    |  23    |  16    |  1315  |  33    | \n",
       "| PMI0012 |  21    |  14    |  18    |  2321  |  15    |  12    |   2418 |  18    |  20    |  26    | ⋯      |  1702  |  19    |   9    |  15    |  33    |   9    |  13    |  19    |  1016  |  31    | \n",
       "| PMI0013 |  14    |   6    |  16    | 16332  |   8    |   3    |  16397 |   9    |  10    |  15    | ⋯      |  8982  |  11    |   6    |  12    |  21    |  10    |  10    |   9    |  5056  |  20    | \n",
       "| PMI0014 |   9    |  16    |  32    |  6923  |  15    |   9    |   5985 |  20    |  16    |  24    | ⋯      |  4041  |  23    |  15    |  10    |  26    |   3    |  21    |  21    |  2917  |  15    | \n",
       "| PMI0015 | 240    | 134    | 262    | 35676  | 159    | 216    |  36163 | 213    | 169    | 200    | ⋯      | 31944  | 199    | 220    | 141    | 252    | 141    | 199    | 195    | 23988  | 154    | \n",
       "| PMI0016 |  22    |  20    |  18    |  1615  |  13    |  15    |   1793 |  11    |  29    |  29    | ⋯      |  1208  |  14    |  27    |   8    |  37    |   6    |  15    |  12    |   744  |  22    | \n",
       "| PMI0017 |   7    |  17    |  28    |  2547  |  17    |  10    |   2291 |  16    |  18    |  18    | ⋯      |  1831  |  11    |  13    |  12    |  17    |   5    |  18    |  19    |  1733  |  18    | \n",
       "| PMI0018 |   9    |   7    |  27    |  4995  |   9    |   6    |   5273 |  12    |  12    |   9    | ⋯      |  5473  |   7    |  15    |   7    |  19    |   3    |  16    |  16    |  4297  |   9    | \n",
       "| PMI0019 |   4    |   5    |   6    |  1331  |   4    |   6    |   1733 |   4    |   7    |   4    | ⋯      |  2182  |   3    |   4    |   7    |   3    |   4    |  15    |   4    |  2598  |   6    | \n",
       "| PMI0020 |  12    |  33    |  30    | 10318  |  26    |  24    |   1713 |  30    |  19    |  23    | ⋯      |  2853  |  18    |  20    |  28    |  16    |   8    |  38    |  35    |  2253  |   8    | \n",
       "| PMI0021 |  33    |  41    |  65    | 30918  |  46    |  68    |   5171 |  40    |  51    |  38    | ⋯      |  8744  |  51    |  45    |  52    |  57    |  61    |  45    |  48    |  6512  |  24    | \n",
       "| PMI0023 | 252    | 417    | 396    |   432  | 508    | 232    |    320 | 396    | 492    | 314    | ⋯      |   262  | 363    | 346    | 429    | 341    | 234    | 386    | 541    |   347  | 420    | \n",
       "| PMI0024 |  24    |  33    |  41    |  3113  |  42    |  19    |   2814 |  16    |  33    |  20    | ⋯      |  8093  |  25    |  26    |  49    |  17    |  25    |  34    |  29    |  7822  |  12    | \n",
       "| PMI0025 |  43    |  45    |  37    |  3317  |  53    |  64    |   2769 |  30    |  32    |  18    | ⋯      |  6592  |  30    |  31    |  52    |  24    |  25    |  29    |  19    |  6451  |  19    | \n",
       "| PMI0026 |   5    |   2    |   5    |   216  |  10    |   1    |    213 |   3    |   4    |   3    | ⋯      |   533  |   3    |   4    |   3    |   5    |   4    |   0    |   6    |   554  |   4    | \n",
       "| PMI0027 |  12    |  26    |  15    |   275  |   5    |  12    |    197 |  12    |  13    |  10    | ⋯      |   227  |   8    |  19    |  11    |  12    |  14    |  16    |  16    |   209  |  20    | \n",
       "| PMI0028 |  50    |  82    |  73    |  1245  |  63    |  52    |    973 |  60    |  72    |  58    | ⋯      |  1802  |  42    |  47    |  80    |  40    |  38    |  71    |  65    |  1504  |  49    | \n",
       "| PMI0029 |  30    |  22    |  65    |  6484  |  14    |  26    |   5193 |  43    |  20    |  35    | ⋯      |  4853  |  30    |  20    |  12    |  46    |  12    |  39    |  65    |  4805  |  45    | \n",
       "| PMI0030 |  13    |   8    |  15    |  3035  |  16    |   3    |   1867 |   8    |   9    |  10    | ⋯      |  1497  |   6    |   6    |   7    |  14    |   7    |  12    |  27    |  1457  |  20    | \n",
       "| PMI0031 |   2    |   4    |   9    |    41  |   6    |   2    |     49 |   2    |   6    |   2    | ⋯      |    50  |   5    |   2    |   3    |   2    |   0    |   1    |   5    |    63  |   4    | \n",
       "| ⋮ | ⋮ | ⋮ | ⋮ | ⋮ | ⋮ | ⋮ | ⋮ | ⋮ | ⋮ | ⋮ | ⋱ | ⋮ | ⋮ | ⋮ | ⋮ | ⋮ | ⋮ | ⋮ | ⋮ | ⋮ | ⋮ | \n",
       "| fig|529507.6.peg.487 |    0 |    0 |    1 | 101  |    1 |   0  | 86   |    0 |    2 |    0 | ⋯    | 128  |    1 |    1 |   0  |    0 |   1  |    0 |    0 | 113  |    1 | \n",
       "| fig|529507.6.peg.514 |    4 |    3 |    5 |  18  |    3 |   2  | 37   |    1 |    1 |    1 | ⋯    |  25  |    2 |    2 |   5  |    1 |   0  |    6 |    9 |  17  |    1 | \n",
       "| fig|529507.6.peg.515 |    8 |    5 |    3 |  32  |    8 |   6  | 35   |    2 |    6 |    7 | ⋯    |  38  |   11 |   12 |   4  |    4 |   8  |    2 |    7 |  89  |    5 | \n",
       "| fig|529507.6.peg.580 |    0 |    0 |    0 |   1  |    0 |   0  |  2   |    0 |    0 |    0 | ⋯    |   4  |    0 |    0 |   0  |    0 |   0  |    0 |    3 |   0  |    0 | \n",
       "| fig|529507.6.peg.59 |    7 |    3 |    1 |   7  |    2 |   8  |  8   |   10 |    7 |    5 | ⋯    |   0  |    1 |    0 |   6  |    6 |   4  |    7 |    7 |   0  |    4 | \n",
       "| fig|529507.6.peg.60 |    5 |    4 |    6 |  62  |   12 |   4  | 44   |    2 |   15 |    3 | ⋯    |  75  |    3 |    4 |   9  |    9 |   3  |    3 |   12 |   6  |    6 | \n",
       "| fig|529507.6.peg.637 |    1 |    1 |    0 |  31  |    1 |   1  | 43   |    0 |    0 |    0 | ⋯    |  84  |    0 |    0 |   0  |    0 |   0  |    0 |    0 |  53  |    0 | \n",
       "| fig|529507.6.peg.686 |    4 |   23 |   25 |   3  |   38 |   9  |  1   |    9 |    8 |   14 | ⋯    |   0  |   13 |    9 |  19  |   12 |   8  |   13 |   27 |   0  |   13 | \n",
       "| fig|529507.6.peg.744 |   15 |   51 |   46 |  49  |   32 |  33  | 35   |   17 |   28 |   26 | ⋯    |  32  |   25 |   31 |  25  |   19 |  15  |   64 |   44 |  16  |   38 | \n",
       "| fig|529507.6.peg.759 |    1 |    0 |    1 |  52  |    0 |   0  | 62   |    1 |    1 |    0 | ⋯    |  70  |    0 |    0 |   0  |    0 |   0  |    1 |    2 |  19  |    4 | \n",
       "| fig|529507.6.peg.760 |    0 |    4 |    1 |  67  |    7 |   2  | 61   |    5 |    5 |    6 | ⋯    |  83  |    4 |    4 |   6  |    4 |   2  |    1 |    7 |  83  |    6 | \n",
       "| fig|529507.6.peg.776 |    0 |    3 |    1 |   0  |    0 |   0  |  0   |    1 |    1 |    2 | ⋯    |   5  |    0 |    1 |   1  |    1 |   0  |    1 |    0 |   0  |    1 | \n",
       "| fig|529507.6.peg.791 |    4 |    9 |    6 |   1  |    5 |   0  |  0   |    2 |    3 |    6 | ⋯    |   8  |    3 |    4 |   6  |    2 |   2  |    2 |    5 |  30  |    3 | \n",
       "| fig|529507.6.peg.794 |   13 |   17 |   28 |   0  |   12 |  10  |  0   |    6 |   21 |    5 | ⋯    |   0  |   20 |    7 |  26  |   11 |  14  |   28 |   15 |   0  |    9 | \n",
       "| fig|529507.6.peg.795 |    0 |    1 |    1 |  18  |    3 |   0  |  5   |    1 |    1 |    0 | ⋯    |  17  |    2 |    1 |   0  |    2 |   1  |    0 |    2 |  35  |    0 | \n",
       "| fig|529507.6.peg.798 |    5 |    4 |    2 |  19  |   12 |   2  | 41   |    5 |    9 |    5 | ⋯    | 103  |    6 |    3 |   1  |    6 |   2  |    5 |    9 |  91  |    3 | \n",
       "| fig|529507.6.peg.799 |    2 |    2 |    2 |  34  |    2 |   1  | 33   |    1 |    7 |    2 | ⋯    |  47  |    3 |    1 |   4  |    3 |   1  |    0 |    1 |  50  |    2 | \n",
       "| fig|529507.6.peg.804 | 1187 | 1150 | 1531 |  26  | 1092 | 468  | 16   | 4326 | 1101 | 3035 | ⋯    |  20  | 3016 | 2342 | 981  | 4912 | 335  | 1273 | 1262 |  34  | 5009 | \n",
       "| fig|529507.6.peg.895 |    0 |    0 |    0 |   0  |    0 |   0  |  0   |    0 |    0 |    0 | ⋯    |   0  |    0 |    0 |   0  |    0 |   0  |    0 |    0 |   0  |    0 | \n",
       "| fig|529507.6.peg.917 |    0 |    0 |    1 |  19  |    1 |   0  | 14   |    1 |    0 |    0 | ⋯    |   9  |    0 |    1 |   1  |    2 |   1  |    0 |    1 |  23  |    2 | \n",
       "| fig|529507.6.peg.919 |    0 |    0 |    0 |   0  |    0 |   0  |  2   |    0 |    1 |    0 | ⋯    |   0  |    0 |    0 |   0  |    0 |   0  |    0 |    0 |   8  |    0 | \n",
       "| fig|529507.6.peg.920 |    1 |    0 |    0 |   0  |    0 |   0  |  2   |    0 |    0 |    0 | ⋯    |   2  |    1 |    0 |   0  |    0 |   0  |    0 |    0 |   0  |    0 | \n",
       "| fig|529507.6.peg.924 |    0 |    1 |    2 |   0  |    0 |   0  |  4   |    0 |    0 |    0 | ⋯    |   6  |    0 |    0 |   0  |    0 |   0  |    0 |    1 |   0  |    0 | \n",
       "| fig|529507.6.peg.937 |    0 |    2 |    0 |  14  |    0 |   0  | 11   |    0 |    0 |    2 | ⋯    |  42  |    2 |    1 |   2  |    1 |   0  |    0 |    1 |  34  |    0 | \n",
       "| fig|529507.6.peg.938 |    0 |    0 |    1 |   5  |    1 |   0  |  3   |    0 |    0 |    0 | ⋯    |   2  |    1 |    1 |   0  |    0 |   0  |    0 |    0 |   0  |    0 | \n",
       "| fig|529507.6.peg.940 |    1 |    6 |    2 |   0  |    3 |   1  |  1   |    3 |    2 |    4 | ⋯    |   0  |    2 |    7 |   1  |    6 |   3  |    1 |    3 |   0  |    1 | \n",
       "| fig|529507.6.peg.954 |    0 |    2 |    3 |  49  |    1 |   1  | 50   |    2 |    2 |    0 | ⋯    |  53  |    2 |    4 |   3  |    2 |   0  |    1 |    6 | 136  |    4 | \n",
       "| fig|529507.6.peg.964 |    6 |   28 |   20 |   0  |   24 |  18  |  3   |   14 |   19 |   13 | ⋯    |   2  |   14 |   23 |  30  |   10 |  16  |   16 |   51 |   5  |   13 | \n",
       "| fig|529507.6.peg.97 |   27 |   25 |   45 |  16  |   24 |  15  |  6   |   94 |   33 |   40 | ⋯    |   6  |   52 |   76 |  17  |   86 |  16  |   22 |   62 |  15  |   99 | \n",
       "| fig|529507.6.peg.983 |    1 |    5 |    2 |  43  |    3 |   4  | 44   |    0 |    0 |    2 | ⋯    |  50  |    2 |    2 |   3  |    2 |   3  |    3 |    9 |  35  |    5 | \n",
       "\n",
       "\n"
      ],
      "text/plain": [
       "                     S77464 S76068 S76082 S63632 S76076 S77466 S63638 S76088\n",
       "PMI0001               42     51     90     9192   37     54      9655  36   \n",
       "PMI0002               17     27     57     5492   20     28      5068  26   \n",
       "PMI0003               96     50    118     8543   80    126      7497  78   \n",
       "PMI0004               71     82    105      247  120     57       170  78   \n",
       "PMI0005               12     25     26     1152   22     17       905   7   \n",
       "PMI0006              164    223    270    27659  204    169     31052 138   \n",
       "PMI0007               14     21     13     7766   11     17      6672  17   \n",
       "PMI0008               14     12      8     3069    7      6      2390   7   \n",
       "PMI0009               48    274    463    94391  137     62    115046 182   \n",
       "PMI0010               10     37     98    26743   19     14     27115  29   \n",
       "PMI0011               33     18     33     2019   13     35      1911  25   \n",
       "PMI0012               21     14     18     2321   15     12      2418  18   \n",
       "PMI0013               14      6     16    16332    8      3     16397   9   \n",
       "PMI0014                9     16     32     6923   15      9      5985  20   \n",
       "PMI0015              240    134    262    35676  159    216     36163 213   \n",
       "PMI0016               22     20     18     1615   13     15      1793  11   \n",
       "PMI0017                7     17     28     2547   17     10      2291  16   \n",
       "PMI0018                9      7     27     4995    9      6      5273  12   \n",
       "PMI0019                4      5      6     1331    4      6      1733   4   \n",
       "PMI0020               12     33     30    10318   26     24      1713  30   \n",
       "PMI0021               33     41     65    30918   46     68      5171  40   \n",
       "PMI0023              252    417    396      432  508    232       320 396   \n",
       "PMI0024               24     33     41     3113   42     19      2814  16   \n",
       "PMI0025               43     45     37     3317   53     64      2769  30   \n",
       "PMI0026                5      2      5      216   10      1       213   3   \n",
       "PMI0027               12     26     15      275    5     12       197  12   \n",
       "PMI0028               50     82     73     1245   63     52       973  60   \n",
       "PMI0029               30     22     65     6484   14     26      5193  43   \n",
       "PMI0030               13      8     15     3035   16      3      1867   8   \n",
       "PMI0031                2      4      9       41    6      2        49   2   \n",
       "⋮                    ⋮      ⋮      ⋮      ⋮      ⋮      ⋮      ⋮      ⋮     \n",
       "fig|529507.6.peg.487    0      0      1   101       1     0    86        0  \n",
       "fig|529507.6.peg.514    4      3      5    18       3     2    37        1  \n",
       "fig|529507.6.peg.515    8      5      3    32       8     6    35        2  \n",
       "fig|529507.6.peg.580    0      0      0     1       0     0     2        0  \n",
       "fig|529507.6.peg.59     7      3      1     7       2     8     8       10  \n",
       "fig|529507.6.peg.60     5      4      6    62      12     4    44        2  \n",
       "fig|529507.6.peg.637    1      1      0    31       1     1    43        0  \n",
       "fig|529507.6.peg.686    4     23     25     3      38     9     1        9  \n",
       "fig|529507.6.peg.744   15     51     46    49      32    33    35       17  \n",
       "fig|529507.6.peg.759    1      0      1    52       0     0    62        1  \n",
       "fig|529507.6.peg.760    0      4      1    67       7     2    61        5  \n",
       "fig|529507.6.peg.776    0      3      1     0       0     0     0        1  \n",
       "fig|529507.6.peg.791    4      9      6     1       5     0     0        2  \n",
       "fig|529507.6.peg.794   13     17     28     0      12    10     0        6  \n",
       "fig|529507.6.peg.795    0      1      1    18       3     0     5        1  \n",
       "fig|529507.6.peg.798    5      4      2    19      12     2    41        5  \n",
       "fig|529507.6.peg.799    2      2      2    34       2     1    33        1  \n",
       "fig|529507.6.peg.804 1187   1150   1531    26    1092   468    16     4326  \n",
       "fig|529507.6.peg.895    0      0      0     0       0     0     0        0  \n",
       "fig|529507.6.peg.917    0      0      1    19       1     0    14        1  \n",
       "fig|529507.6.peg.919    0      0      0     0       0     0     2        0  \n",
       "fig|529507.6.peg.920    1      0      0     0       0     0     2        0  \n",
       "fig|529507.6.peg.924    0      1      2     0       0     0     4        0  \n",
       "fig|529507.6.peg.937    0      2      0    14       0     0    11        0  \n",
       "fig|529507.6.peg.938    0      0      1     5       1     0     3        0  \n",
       "fig|529507.6.peg.940    1      6      2     0       3     1     1        3  \n",
       "fig|529507.6.peg.954    0      2      3    49       1     1    50        2  \n",
       "fig|529507.6.peg.964    6     28     20     0      24    18     3       14  \n",
       "fig|529507.6.peg.97    27     25     45    16      24    15     6       94  \n",
       "fig|529507.6.peg.983    1      5      2    43       3     4    44        0  \n",
       "                     S76074 S76080 ⋯ S63639 S76089 S76087 S76073 S76079 S77463\n",
       "PMI0001               46     44    ⋯  9885   38     59     52     56     37   \n",
       "PMI0002               31     31    ⋯  5505   29     24     30     34     19   \n",
       "PMI0003               89     82    ⋯  7840   93     91    104     83    133   \n",
       "PMI0004              112     54    ⋯   206   65     66     73     70     40   \n",
       "PMI0005               17     12    ⋯  1920   18     23     22     12      6   \n",
       "PMI0006              161    189    ⋯ 28434  156    174    192    173    115   \n",
       "PMI0007               23     15    ⋯  6466   14     17     16     21      4   \n",
       "PMI0008                7     10    ⋯  3385    7      7      1     10      9   \n",
       "PMI0009              153    386    ⋯ 77298  138    217    149    329     98   \n",
       "PMI0010               29     82    ⋯ 21866   32     40     21     79     10   \n",
       "PMI0011               13     22    ⋯  2072   17     34     11     29     13   \n",
       "PMI0012               20     26    ⋯  1702   19      9     15     33      9   \n",
       "PMI0013               10     15    ⋯  8982   11      6     12     21     10   \n",
       "PMI0014               16     24    ⋯  4041   23     15     10     26      3   \n",
       "PMI0015              169    200    ⋯ 31944  199    220    141    252    141   \n",
       "PMI0016               29     29    ⋯  1208   14     27      8     37      6   \n",
       "PMI0017               18     18    ⋯  1831   11     13     12     17      5   \n",
       "PMI0018               12      9    ⋯  5473    7     15      7     19      3   \n",
       "PMI0019                7      4    ⋯  2182    3      4      7      3      4   \n",
       "PMI0020               19     23    ⋯  2853   18     20     28     16      8   \n",
       "PMI0021               51     38    ⋯  8744   51     45     52     57     61   \n",
       "PMI0023              492    314    ⋯   262  363    346    429    341    234   \n",
       "PMI0024               33     20    ⋯  8093   25     26     49     17     25   \n",
       "PMI0025               32     18    ⋯  6592   30     31     52     24     25   \n",
       "PMI0026                4      3    ⋯   533    3      4      3      5      4   \n",
       "PMI0027               13     10    ⋯   227    8     19     11     12     14   \n",
       "PMI0028               72     58    ⋯  1802   42     47     80     40     38   \n",
       "PMI0029               20     35    ⋯  4853   30     20     12     46     12   \n",
       "PMI0030                9     10    ⋯  1497    6      6      7     14      7   \n",
       "PMI0031                6      2    ⋯    50    5      2      3      2      0   \n",
       "⋮                    ⋮      ⋮      ⋱ ⋮      ⋮      ⋮      ⋮      ⋮      ⋮     \n",
       "fig|529507.6.peg.487    2      0   ⋯ 128       1      1     0       0     1   \n",
       "fig|529507.6.peg.514    1      1   ⋯  25       2      2     5       1     0   \n",
       "fig|529507.6.peg.515    6      7   ⋯  38      11     12     4       4     8   \n",
       "fig|529507.6.peg.580    0      0   ⋯   4       0      0     0       0     0   \n",
       "fig|529507.6.peg.59     7      5   ⋯   0       1      0     6       6     4   \n",
       "fig|529507.6.peg.60    15      3   ⋯  75       3      4     9       9     3   \n",
       "fig|529507.6.peg.637    0      0   ⋯  84       0      0     0       0     0   \n",
       "fig|529507.6.peg.686    8     14   ⋯   0      13      9    19      12     8   \n",
       "fig|529507.6.peg.744   28     26   ⋯  32      25     31    25      19    15   \n",
       "fig|529507.6.peg.759    1      0   ⋯  70       0      0     0       0     0   \n",
       "fig|529507.6.peg.760    5      6   ⋯  83       4      4     6       4     2   \n",
       "fig|529507.6.peg.776    1      2   ⋯   5       0      1     1       1     0   \n",
       "fig|529507.6.peg.791    3      6   ⋯   8       3      4     6       2     2   \n",
       "fig|529507.6.peg.794   21      5   ⋯   0      20      7    26      11    14   \n",
       "fig|529507.6.peg.795    1      0   ⋯  17       2      1     0       2     1   \n",
       "fig|529507.6.peg.798    9      5   ⋯ 103       6      3     1       6     2   \n",
       "fig|529507.6.peg.799    7      2   ⋯  47       3      1     4       3     1   \n",
       "fig|529507.6.peg.804 1101   3035   ⋯  20    3016   2342   981    4912   335   \n",
       "fig|529507.6.peg.895    0      0   ⋯   0       0      0     0       0     0   \n",
       "fig|529507.6.peg.917    0      0   ⋯   9       0      1     1       2     1   \n",
       "fig|529507.6.peg.919    1      0   ⋯   0       0      0     0       0     0   \n",
       "fig|529507.6.peg.920    0      0   ⋯   2       1      0     0       0     0   \n",
       "fig|529507.6.peg.924    0      0   ⋯   6       0      0     0       0     0   \n",
       "fig|529507.6.peg.937    0      2   ⋯  42       2      1     2       1     0   \n",
       "fig|529507.6.peg.938    0      0   ⋯   2       1      1     0       0     0   \n",
       "fig|529507.6.peg.940    2      4   ⋯   0       2      7     1       6     3   \n",
       "fig|529507.6.peg.954    2      0   ⋯  53       2      4     3       2     0   \n",
       "fig|529507.6.peg.964   19     13   ⋯   2      14     23    30      10    16   \n",
       "fig|529507.6.peg.97    33     40   ⋯   6      52     76    17      86    16   \n",
       "fig|529507.6.peg.983    0      2   ⋯  50       2      2     3       2     3   \n",
       "                     S76067 S76071 S63635 S76085\n",
       "PMI0001               53     39     7130   24   \n",
       "PMI0002               31     33     4140   18   \n",
       "PMI0003               89     84     7381   55   \n",
       "PMI0004               69    137      353   93   \n",
       "PMI0005               19     24     1624   15   \n",
       "PMI0006              215    177    21339  105   \n",
       "PMI0007               21      9     5976   14   \n",
       "PMI0008                8      8     3660   12   \n",
       "PMI0009              331    148    37922  172   \n",
       "PMI0010               74     36    13490   60   \n",
       "PMI0011               23     16     1315   33   \n",
       "PMI0012               13     19     1016   31   \n",
       "PMI0013               10      9     5056   20   \n",
       "PMI0014               21     21     2917   15   \n",
       "PMI0015              199    195    23988  154   \n",
       "PMI0016               15     12      744   22   \n",
       "PMI0017               18     19     1733   18   \n",
       "PMI0018               16     16     4297    9   \n",
       "PMI0019               15      4     2598    6   \n",
       "PMI0020               38     35     2253    8   \n",
       "PMI0021               45     48     6512   24   \n",
       "PMI0023              386    541      347  420   \n",
       "PMI0024               34     29     7822   12   \n",
       "PMI0025               29     19     6451   19   \n",
       "PMI0026                0      6      554    4   \n",
       "PMI0027               16     16      209   20   \n",
       "PMI0028               71     65     1504   49   \n",
       "PMI0029               39     65     4805   45   \n",
       "PMI0030               12     27     1457   20   \n",
       "PMI0031                1      5       63    4   \n",
       "⋮                    ⋮      ⋮      ⋮      ⋮     \n",
       "fig|529507.6.peg.487    0      0   113       1  \n",
       "fig|529507.6.peg.514    6      9    17       1  \n",
       "fig|529507.6.peg.515    2      7    89       5  \n",
       "fig|529507.6.peg.580    0      3     0       0  \n",
       "fig|529507.6.peg.59     7      7     0       4  \n",
       "fig|529507.6.peg.60     3     12     6       6  \n",
       "fig|529507.6.peg.637    0      0    53       0  \n",
       "fig|529507.6.peg.686   13     27     0      13  \n",
       "fig|529507.6.peg.744   64     44    16      38  \n",
       "fig|529507.6.peg.759    1      2    19       4  \n",
       "fig|529507.6.peg.760    1      7    83       6  \n",
       "fig|529507.6.peg.776    1      0     0       1  \n",
       "fig|529507.6.peg.791    2      5    30       3  \n",
       "fig|529507.6.peg.794   28     15     0       9  \n",
       "fig|529507.6.peg.795    0      2    35       0  \n",
       "fig|529507.6.peg.798    5      9    91       3  \n",
       "fig|529507.6.peg.799    0      1    50       2  \n",
       "fig|529507.6.peg.804 1273   1262    34    5009  \n",
       "fig|529507.6.peg.895    0      0     0       0  \n",
       "fig|529507.6.peg.917    0      1    23       2  \n",
       "fig|529507.6.peg.919    0      0     8       0  \n",
       "fig|529507.6.peg.920    0      0     0       0  \n",
       "fig|529507.6.peg.924    0      1     0       0  \n",
       "fig|529507.6.peg.937    0      1    34       0  \n",
       "fig|529507.6.peg.938    0      0     0       0  \n",
       "fig|529507.6.peg.940    1      3     0       1  \n",
       "fig|529507.6.peg.954    1      6   136       4  \n",
       "fig|529507.6.peg.964   16     51     5      13  \n",
       "fig|529507.6.peg.97    22     62    15      99  \n",
       "fig|529507.6.peg.983    3      9    35       5  "
      ]
     },
     "metadata": {},
     "output_type": "display_data"
    }
   ],
   "source": [
    "counts_file = paste(\"/Users/annasintsova/git_repos/spatial_dynamics_of_gene_expression_in_response_to_T6SS_attack\",\n",
    "                     \"/data/counts/reverse/2018-04-25_counts.csv\", sep = \"\")\n",
    "counts <- read.table(counts_file, row.names =1, sep = \",\", header = TRUE)\n",
    "s_names <- c()\n",
    "for (c in colnames(counts)){\n",
    "    x <- gsub(\"X\", \"S\", unlist(strsplit(c, \"_\"))[[1]])\n",
    "    s_names <-c(s_names,x)\n",
    "}\n",
    "colnames(counts) <- s_names\n",
    "counts"
   ]
  },
  {
   "cell_type": "code",
   "execution_count": 35,
   "metadata": {
    "collapsed": false
   },
   "outputs": [
    {
     "data": {
      "text/html": [
       "<table>\n",
       "<thead><tr><th></th><th scope=col>lane.ID</th><th scope=col>group.ID</th><th scope=col>time.point</th><th scope=col>strain.ID</th><th scope=col>position</th><th scope=col>RIN</th></tr></thead>\n",
       "<tbody>\n",
       "\t<tr><th scope=row>S63630</th><td>L1   </td><td>Case1</td><td>0''  </td><td>HI   </td><td>L-HI </td><td>NA   </td></tr>\n",
       "\t<tr><th scope=row>S63631</th><td>L1   </td><td>Case1</td><td>0''  </td><td>HI   </td><td>L-HI </td><td>NA   </td></tr>\n",
       "\t<tr><th scope=row>S63632</th><td>L1   </td><td>Case1</td><td>0''  </td><td>HI   </td><td>L-HI </td><td>NA   </td></tr>\n",
       "\t<tr><th scope=row>S63633</th><td>L1   </td><td>Case2</td><td>4'   </td><td>HI   </td><td>L-HI </td><td>NA   </td></tr>\n",
       "\t<tr><th scope=row>S63634</th><td>L1   </td><td>Case2</td><td>4'   </td><td>HI   </td><td>L-HI </td><td>NA   </td></tr>\n",
       "\t<tr><th scope=row>S63635</th><td>L1   </td><td>Case2</td><td>4'   </td><td>HI   </td><td>L-HI </td><td>NA   </td></tr>\n",
       "</tbody>\n",
       "</table>\n"
      ],
      "text/latex": [
       "\\begin{tabular}{r|llllll}\n",
       "  & lane.ID & group.ID & time.point & strain.ID & position & RIN\\\\\n",
       "\\hline\n",
       "\tS63630 & L1    & Case1 & 0''   & HI    & L-HI  & NA   \\\\\n",
       "\tS63631 & L1    & Case1 & 0''   & HI    & L-HI  & NA   \\\\\n",
       "\tS63632 & L1    & Case1 & 0''   & HI    & L-HI  & NA   \\\\\n",
       "\tS63633 & L1    & Case2 & 4'    & HI    & L-HI  & NA   \\\\\n",
       "\tS63634 & L1    & Case2 & 4'    & HI    & L-HI  & NA   \\\\\n",
       "\tS63635 & L1    & Case2 & 4'    & HI    & L-HI  & NA   \\\\\n",
       "\\end{tabular}\n"
      ],
      "text/markdown": [
       "\n",
       "| <!--/--> | lane.ID | group.ID | time.point | strain.ID | position | RIN | \n",
       "|---|---|---|---|---|---|\n",
       "| S63630 | L1    | Case1 | 0''   | HI    | L-HI  | NA    | \n",
       "| S63631 | L1    | Case1 | 0''   | HI    | L-HI  | NA    | \n",
       "| S63632 | L1    | Case1 | 0''   | HI    | L-HI  | NA    | \n",
       "| S63633 | L1    | Case2 | 4'    | HI    | L-HI  | NA    | \n",
       "| S63634 | L1    | Case2 | 4'    | HI    | L-HI  | NA    | \n",
       "| S63635 | L1    | Case2 | 4'    | HI    | L-HI  | NA    | \n",
       "\n",
       "\n"
      ],
      "text/plain": [
       "       lane.ID group.ID time.point strain.ID position RIN\n",
       "S63630 L1      Case1    0''        HI        L-HI     NA \n",
       "S63631 L1      Case1    0''        HI        L-HI     NA \n",
       "S63632 L1      Case1    0''        HI        L-HI     NA \n",
       "S63633 L1      Case2    4'         HI        L-HI     NA \n",
       "S63634 L1      Case2    4'         HI        L-HI     NA \n",
       "S63635 L1      Case2    4'         HI        L-HI     NA "
      ]
     },
     "metadata": {},
     "output_type": "display_data"
    }
   ],
   "source": [
    "Swarm_line_samples <- filter(exp_info_sample_names, lane.ID != \"L2\" & position == \"L-HI\")[,1]\n",
    "Swarm_counts <- counts[,Swarm_line_samples]\n",
    "Swarm_exp_info <- experiment_info[Swarm_line_samples,]\n",
    "Swarm_exp_info"
   ]
  },
  {
   "cell_type": "code",
   "execution_count": 36,
   "metadata": {
    "collapsed": false
   },
   "outputs": [
    {
     "name": "stderr",
     "output_type": "stream",
     "text": [
      "factor levels were dropped which had no samples\n",
      "estimating size factors\n",
      "estimating dispersions\n",
      "gene-wise dispersion estimates\n",
      "mean-dispersion relationship\n",
      "final dispersion estimates\n",
      "fitting model and testing\n"
     ]
    },
    {
     "data": {
      "text/plain": [
       "log2 fold change (MAP): time.point 4' vs 0'' \n",
       "Wald test p-value: time.point 4' vs 0'' \n",
       "DataFrame with 1117 rows and 6 columns\n",
       "          baseMean log2FoldChange     lfcSE       stat        pvalue\n",
       "         <numeric>      <numeric> <numeric>  <numeric>     <numeric>\n",
       "PMI1956  1201.5699       6.350921 0.2401233  26.448580 3.788618e-154\n",
       "PMI3226 13610.7365       6.048924 0.2222813  27.212929 4.566639e-163\n",
       "PMI2662 29614.6336       5.713470 0.6489596   8.804045  1.319710e-18\n",
       "PMI0781  3204.5043       5.619931 0.2612521  21.511524 1.214474e-102\n",
       "PMI2442   351.6271       5.613313 0.7590562   7.395122  1.412785e-13\n",
       "...            ...            ...       ...        ...           ...\n",
       "PMI2246  1809.6040      -3.510083 0.2927591 -11.989664  4.025339e-33\n",
       "PMI2250  2682.1117      -3.537755 0.5075118  -6.970784  3.151803e-12\n",
       "PMI2149 10419.3361      -3.672390 0.2281109 -16.099147  2.586461e-58\n",
       "PMI2899   654.0655      -3.708357 0.2567857 -14.441448  2.838166e-47\n",
       "PMI2898 10997.9384      -4.284880 0.5460703  -7.846754  4.269433e-15\n",
       "                 padj\n",
       "            <numeric>\n",
       "PMI1956 3.471322e-151\n",
       "PMI3226 5.578911e-160\n",
       "PMI2662  1.703076e-17\n",
       "PMI0781 6.358641e-100\n",
       "PMI2442  1.052410e-12\n",
       "...               ...\n",
       "PMI2246  1.586330e-31\n",
       "PMI2250  2.019468e-11\n",
       "PMI2149  3.510882e-56\n",
       "PMI2899  2.364064e-45\n",
       "PMI2898  3.743414e-14"
      ]
     },
     "metadata": {},
     "output_type": "display_data"
    }
   ],
   "source": [
    "Swarm_time <- TimeAnalysisDE(Swarm_counts, Swarm_exp_info, \"2018-06-27-Swarm-line-4-hours-time.csv\")\n",
    "Swarm_time$results"
   ]
  },
  {
   "cell_type": "code",
   "execution_count": 37,
   "metadata": {
    "collapsed": false
   },
   "outputs": [
    {
     "data": {
      "text/html": [
       "<table>\n",
       "<thead><tr><th></th><th scope=col>lane.ID</th><th scope=col>group.ID</th><th scope=col>time.point</th><th scope=col>strain.ID</th><th scope=col>position</th><th scope=col>RIN</th></tr></thead>\n",
       "<tbody>\n",
       "\t<tr><th scope=row>S63636</th><td>L1   </td><td>Case3</td><td>0''  </td><td>Mix  </td><td>L-9C </td><td>NA   </td></tr>\n",
       "\t<tr><th scope=row>S63638</th><td>L1   </td><td>Case3</td><td>0''  </td><td>Mix  </td><td>L-9C </td><td>NA   </td></tr>\n",
       "\t<tr><th scope=row>S63639</th><td>L1   </td><td>Case4</td><td>4'   </td><td>Mix  </td><td>L-9C </td><td>NA   </td></tr>\n",
       "\t<tr><th scope=row>S63641</th><td>L1   </td><td>Case4</td><td>4'   </td><td>Mix  </td><td>L-9C </td><td>NA   </td></tr>\n",
       "</tbody>\n",
       "</table>\n"
      ],
      "text/latex": [
       "\\begin{tabular}{r|llllll}\n",
       "  & lane.ID & group.ID & time.point & strain.ID & position & RIN\\\\\n",
       "\\hline\n",
       "\tS63636 & L1    & Case3 & 0''   & Mix   & L-9C  & NA   \\\\\n",
       "\tS63638 & L1    & Case3 & 0''   & Mix   & L-9C  & NA   \\\\\n",
       "\tS63639 & L1    & Case4 & 4'    & Mix   & L-9C  & NA   \\\\\n",
       "\tS63641 & L1    & Case4 & 4'    & Mix   & L-9C  & NA   \\\\\n",
       "\\end{tabular}\n"
      ],
      "text/markdown": [
       "\n",
       "| <!--/--> | lane.ID | group.ID | time.point | strain.ID | position | RIN | \n",
       "|---|---|---|---|\n",
       "| S63636 | L1    | Case3 | 0''   | Mix   | L-9C  | NA    | \n",
       "| S63638 | L1    | Case3 | 0''   | Mix   | L-9C  | NA    | \n",
       "| S63639 | L1    | Case4 | 4'    | Mix   | L-9C  | NA    | \n",
       "| S63641 | L1    | Case4 | 4'    | Mix   | L-9C  | NA    | \n",
       "\n",
       "\n"
      ],
      "text/plain": [
       "       lane.ID group.ID time.point strain.ID position RIN\n",
       "S63636 L1      Case3    0''        Mix       L-9C     NA \n",
       "S63638 L1      Case3    0''        Mix       L-9C     NA \n",
       "S63639 L1      Case4    4'         Mix       L-9C     NA \n",
       "S63641 L1      Case4    4'         Mix       L-9C     NA "
      ]
     },
     "metadata": {},
     "output_type": "display_data"
    }
   ],
   "source": [
    "Dienes_line_samples <- filter(exp_info_sample_names, lane.ID != \"L2\" & position == \"L-9C\")[,1]\n",
    "Dienes_counts <- counts[,Dienes_line_samples]\n",
    "Dienes_exp_info <- experiment_info[Dienes_line_samples,]\n",
    "Dienes_exp_info"
   ]
  },
  {
   "cell_type": "code",
   "execution_count": 39,
   "metadata": {
    "collapsed": false
   },
   "outputs": [
    {
     "name": "stderr",
     "output_type": "stream",
     "text": [
      "factor levels were dropped which had no samples\n",
      "estimating size factors\n",
      "estimating dispersions\n",
      "gene-wise dispersion estimates\n",
      "mean-dispersion relationship\n",
      "final dispersion estimates\n",
      "fitting model and testing\n"
     ]
    },
    {
     "data": {
      "text/plain": [
       "log2 fold change (MAP): time.point 4' vs 0'' \n",
       "Wald test p-value: time.point 4' vs 0'' \n",
       "DataFrame with 899 rows and 6 columns\n",
       "         baseMean log2FoldChange     lfcSE      stat       pvalue         padj\n",
       "        <numeric>      <numeric> <numeric> <numeric>    <numeric>    <numeric>\n",
       "PMI1956   962.718       5.881001 0.7169367  8.202958 2.345440e-16 2.064574e-13\n",
       "PMI3002   909.312       5.026773 0.5122344  9.813423 9.856694e-23 3.470542e-19\n",
       "PMI1804  7415.958       4.865792 0.7069502  6.882793 5.869045e-12 1.589608e-09\n",
       "PMI3226 10516.382       4.752490 0.7147730  6.648950 2.951919e-11 6.496066e-09\n",
       "PMI3699 10944.861       4.743317 0.5057246  9.379250 6.644347e-21 1.169737e-17\n",
       "...           ...            ...       ...       ...          ...          ...\n",
       "PMI3705  576.2815      -3.759796 0.8725690 -4.308881 1.640826e-05 5.146401e-04\n",
       "PMI0807  475.2360      -3.817443 0.8811474 -4.332354 1.475232e-05 4.722083e-04\n",
       "PMI3706 3155.8502      -3.881818 0.8698797 -4.462476 8.101784e-06 2.971498e-04\n",
       "PMI0175  581.5115      -4.020041 0.8946185 -4.493582 7.003514e-06 2.680367e-04\n",
       "PMI0913 1551.1266      -4.571130 0.8984829 -5.087609 3.626053e-07 2.279881e-05"
      ]
     },
     "metadata": {},
     "output_type": "display_data"
    }
   ],
   "source": [
    "Dienes_time <- TimeAnalysisDE(Dienes_counts, Dienes_exp_info, \"2018-06-27-Dienes-line-4-hours-time.csv\")\n",
    "Dienes_time$results"
   ]
  },
  {
   "cell_type": "code",
   "execution_count": null,
   "metadata": {
    "collapsed": true
   },
   "outputs": [],
   "source": []
  }
 ],
 "metadata": {
  "kernelspec": {
   "display_name": "R",
   "language": "R",
   "name": "ir"
  },
  "language_info": {
   "codemirror_mode": "r",
   "file_extension": ".r",
   "mimetype": "text/x-r-source",
   "name": "R",
   "pygments_lexer": "r",
   "version": "3.3.3"
  }
 },
 "nbformat": 4,
 "nbformat_minor": 2
}
