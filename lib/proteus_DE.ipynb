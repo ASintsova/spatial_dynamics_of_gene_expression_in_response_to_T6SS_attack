{
 "cells": [
  {
   "cell_type": "code",
   "execution_count": 2,
   "metadata": {},
   "outputs": [],
   "source": [
    "# Differential expression analysis\n",
    "library(DESeq2)\n"
   ]
  },
  {
   "cell_type": "code",
   "execution_count": 3,
   "metadata": {},
   "outputs": [],
   "source": [
    "# Function to analyze differential gene expression based on TIME POINT\n",
    "\n",
    "TimeAnalysisDE <- function (counts, exp_info, filename){\n",
    "dds <- DESeqDataSetFromMatrix(countData = as.matrix(counts), colData = exp_info,\n",
    "                                    design = ~time.point)\n",
    "dds <- DESeq(dds)\n",
    "res <- results(dds)\n",
    "\n",
    "resSig <- subset(res, (padj < 0.05)& (log2FoldChange > 1 | log2FoldChange < -1))\n",
    "write.csv(resSig[order(resSig$log2FoldChange, decreasing = TRUE),], paste0(DATA, filename),\n",
    "            row.names = TRUE, quote = FALSE)\n",
    "\n",
    "output <-  list(\"results\" = resSig[order(resSig$log2FoldChange, decreasing = TRUE),], \"dds\"= dds)\n",
    "return (output)\n",
    "}"
   ]
  },
  {
   "cell_type": "code",
   "execution_count": 4,
   "metadata": {},
   "outputs": [],
   "source": [
    "TimeAnalysis_subset <- function(exp_info_sample_names, counts, experiment_info, lane, pos, file_out){\n",
    "    samples <- filter(exp_info_sample_names, lane.ID != lane & position == pos)[,1]\n",
    "    counts <- counts[,samples]\n",
    "    info <- experiment_info[samples,]\n",
    "    print(info)\n",
    "    analysis <- TimeAnalysisDE(counts, info, file_out)\n",
    "    dds <- analysis$dds\n",
    "    dds <- estimateSizeFactors(dds)\n",
    "    norm_counts <- counts(dds, normalized=TRUE)\n",
    "    write.csv(norm_counts, paste0(DATA, unlist(strsplit(file_out, \"\\\\.\"))[1], \"_deseq_norm_counts.csv\"), quote = FALSE)\n",
    "    return(analysis)\n",
    "}"
   ]
  },
  {
   "cell_type": "code",
   "execution_count": 5,
   "metadata": {},
   "outputs": [],
   "source": [
    "root=\"/Users/annasintsova/git_repos/spatial_dynamics_of_gene_expression_in_response_to_T6SS_attack/\"\n",
    "DATA=paste0(root, \"tables/\")\n",
    "FIG=paste0(root, \"figures/\")"
   ]
  },
  {
   "cell_type": "markdown",
   "metadata": {},
   "source": [
    "### Analyzing Differential Gene Expression between 0 and  30 min on the Dienes Line"
   ]
  },
  {
   "cell_type": "code",
   "execution_count": 5,
   "metadata": {},
   "outputs": [],
   "source": [
    "counts_file = paste(\"/Users/annasintsova/git_repos/spatial_dynamics_of_gene_expression_in_response_to_T6SS_attack\",\n",
    "                     \"/data/counts/stranded/2018-04-23_counts.csv\", sep = \"\")\n",
    "counts <- read.table(counts_file, row.names =1, sep = \",\", header = TRUE)\n",
    "experiment_info <- read.csv(paste0(root, \"data/ref/study_design.csv\"),\n",
    "                                header = TRUE, row.names =1)\n",
    "s_names <- c()\n",
    "for (c in colnames(counts)){\n",
    "    x <- gsub(\"X\", \"S\", unlist(strsplit(c, \"_\"))[[1]])\n",
    "    s_names <-c(s_names,x)\n",
    "}\n",
    "colnames(counts) <- s_names\n",
    "exp_info_sample_names <- tibble::rownames_to_column(experiment_info, var = \"rownames\")"
   ]
  },
  {
   "cell_type": "code",
   "execution_count": 6,
   "metadata": {},
   "outputs": [
    {
     "name": "stdout",
     "output_type": "stream",
     "text": [
      "       lane.ID group.ID time.point strain.ID position RIN\n",
      "S76079      L2    Case9        0''       Mix     L-9C 7.4\n",
      "S76080      L2    Case9        0''       Mix     L-9C 7.3\n",
      "S76081      L2    Case9        0''       Mix     L-9C 6.8\n",
      "S76082      L2   Case10       30''       Mix     L-9C 6.2\n",
      "S76083      L2   Case10       30''       Mix     L-9C 6.1\n",
      "S76084      L2   Case10       30''       Mix     L-9C 5.5\n"
     ]
    },
    {
     "name": "stderr",
     "output_type": "stream",
     "text": [
      "factor levels were dropped which had no samples\n",
      "estimating size factors\n",
      "estimating dispersions\n",
      "gene-wise dispersion estimates\n",
      "mean-dispersion relationship\n",
      "final dispersion estimates\n",
      "fitting model and testing\n"
     ]
    },
    {
     "data": {
      "text/plain": [
       "log2 fold change (MAP): time.point 30'' vs 0'' \n",
       "Wald test p-value: time.point 30'' vs 0'' \n",
       "DataFrame with 24 rows and 6 columns\n",
       "                         baseMean log2FoldChange     lfcSE      stat\n",
       "                        <numeric>      <numeric> <numeric> <numeric>\n",
       "PMI1426                 2603.3788       2.536457 0.2963109  8.560121\n",
       "PMI1425                 1440.3558       2.219405 0.3207280  6.919898\n",
       "PMI2396                 2135.7921       2.217305 0.3405866  6.510251\n",
       "PMI2397                  485.5849       1.802089 0.3317039  5.432823\n",
       "PMI1427                 2649.0044       1.598964 0.3061397  5.222987\n",
       "...                           ...            ...       ...       ...\n",
       "PMI0648                1809.69278      -1.071900 0.2003107 -5.351189\n",
       "PMI3401                 187.37700      -1.079391 0.2975396 -3.627722\n",
       "PMI0729                 619.92438      -1.084232 0.3113269 -3.482616\n",
       "PMI0861               12880.30164      -1.134173 0.2627818 -4.316025\n",
       "fig|529507.6.peg.3417    40.27845      -1.375656 0.2900474 -4.742865\n",
       "                            pvalue         padj\n",
       "                         <numeric>    <numeric>\n",
       "PMI1426               1.127492e-17 3.902250e-14\n",
       "PMI1425               4.519701e-12 7.821342e-09\n",
       "PMI2396               7.502518e-11 8.655405e-08\n",
       "PMI2397               5.546949e-08 4.799498e-05\n",
       "PMI1427               1.760594e-07 8.704882e-05\n",
       "...                            ...          ...\n",
       "PMI0648               8.737818e-08 5.040265e-05\n",
       "PMI3401               2.859330e-04 3.298714e-02\n",
       "PMI0729               4.965405e-04 4.644666e-02\n",
       "PMI0861               1.588643e-05 3.665528e-03\n",
       "fig|529507.6.peg.3417 2.107163e-06 8.103211e-04"
      ]
     },
     "metadata": {},
     "output_type": "display_data"
    }
   ],
   "source": [
    "dienes_line_results <- TimeAnalysis_subset(exp_info_sample_names, counts, \n",
    "                                          experiment_info, \"L1\", \"L-9C\", \"2018-06-28-dienes-line-0-30.csv\")\n",
    "#dienes_line_results$results"
   ]
  },
  {
   "cell_type": "markdown",
   "metadata": {},
   "source": [
    "### Analyzing Differential Gene Expression Behind the Merge at 0 and 30 min"
   ]
  },
  {
   "cell_type": "code",
   "execution_count": 7,
   "metadata": {},
   "outputs": [
    {
     "name": "stdout",
     "output_type": "stream",
     "text": [
      "       lane.ID group.ID time.point strain.ID position RIN\n",
      "S76073      L2    Case7       30''       Mix       BH 6.2\n",
      "S76074      L2    Case7       30''       Mix       BH 6.3\n",
      "S76075      L2    Case7       30''       Mix       BH 6.9\n",
      "S76088      L2   Case12        0''       Mix       BH 7.3\n",
      "S76089      L2   Case12        0''       Mix       BH 7.4\n",
      "S76090      L2   Case12        0''       Mix       BH 7.4\n"
     ]
    },
    {
     "name": "stderr",
     "output_type": "stream",
     "text": [
      "factor levels were dropped which had no samples\n",
      "estimating size factors\n",
      "estimating dispersions\n",
      "gene-wise dispersion estimates\n",
      "mean-dispersion relationship\n",
      "final dispersion estimates\n",
      "fitting model and testing\n"
     ]
    },
    {
     "data": {
      "text/plain": [
       "log2 fold change (MAP): time.point 30'' vs 0'' \n",
       "Wald test p-value: time.point 30'' vs 0'' \n",
       "DataFrame with 367 rows and 6 columns\n",
       "                        baseMean log2FoldChange     lfcSE      stat\n",
       "                       <numeric>      <numeric> <numeric> <numeric>\n",
       "PMI0348                 788.2452       3.448874 0.3217504 10.719097\n",
       "PMI0781                 412.3377       3.304738 0.3562953  9.275278\n",
       "PMI3226                4790.0397       2.899292 0.3588041  8.080432\n",
       "PMI1956                 167.1570       2.421253 0.3667462  6.601985\n",
       "PMI1807                 883.3477       2.371982 0.2431928  9.753506\n",
       "...                          ...            ...       ...       ...\n",
       "PMI1343                588.78235      -1.883057 0.4193148 -4.490796\n",
       "PMI3376               3370.81078      -2.038360 0.2292795 -8.890286\n",
       "fig|529507.6.peg.1291   22.94104      -2.058813 0.4613959 -4.462141\n",
       "PMI3598                 45.51311      -2.283743 0.3572940 -6.391776\n",
       "PMI2149               1170.61275      -2.363668 0.3540151 -6.676744\n",
       "                            pvalue         padj\n",
       "                         <numeric>    <numeric>\n",
       "PMI0348               8.280791e-27 3.043191e-23\n",
       "PMI0781               1.771556e-20 1.302094e-17\n",
       "PMI3226               6.453794e-16 2.156154e-13\n",
       "PMI1956               4.056877e-11 3.549767e-09\n",
       "PMI1807               1.782060e-22 1.637267e-19\n",
       "...                            ...          ...\n",
       "PMI1343               7.095749e-06 8.606230e-05\n",
       "PMI3376               6.095199e-19 3.733309e-16\n",
       "fig|529507.6.peg.1291 8.114499e-06 9.713610e-05\n",
       "PMI3598               1.639701e-10 1.115908e-08\n",
       "PMI2149               2.443091e-11 2.493989e-09"
      ]
     },
     "metadata": {},
     "output_type": "display_data"
    }
   ],
   "source": [
    "WT_periphery_results <- TimeAnalysis_subset(exp_info_sample_names, counts, \n",
    "                                          experiment_info, \"L1\", \"BH\", \"2018-06-28-wt-bh-0-30.csv\")\n",
    "WT_periphery_results$results"
   ]
  },
  {
   "cell_type": "code",
   "execution_count": 8,
   "metadata": {},
   "outputs": [
    {
     "name": "stdout",
     "output_type": "stream",
     "text": [
      "       lane.ID group.ID time.point strain.ID position RIN\n",
      "S76076      L2    Case8       30''       Mix       B9 5.5\n",
      "S76077      L2    Case8       30''       Mix       B9 6.6\n",
      "S76078      L2    Case8       30''       Mix       B9 5.7\n",
      "S76085      L2   Case11        0''       Mix       B9 7.5\n",
      "S76086      L2   Case11        0''       Mix       B9 6.4\n",
      "S76087      L2   Case11        0''       Mix       B9 6.7\n"
     ]
    },
    {
     "name": "stderr",
     "output_type": "stream",
     "text": [
      "factor levels were dropped which had no samples\n",
      "estimating size factors\n",
      "estimating dispersions\n",
      "gene-wise dispersion estimates\n",
      "mean-dispersion relationship\n",
      "final dispersion estimates\n",
      "fitting model and testing\n"
     ]
    },
    {
     "data": {
      "text/plain": [
       "log2 fold change (MAP): time.point 30'' vs 0'' \n",
       "Wald test p-value: time.point 30'' vs 0'' \n",
       "DataFrame with 707 rows and 6 columns\n",
       "          baseMean log2FoldChange     lfcSE      stat       pvalue         padj\n",
       "         <numeric>      <numeric> <numeric> <numeric>    <numeric>    <numeric>\n",
       "PMI1031  1118.3504       4.916655 0.3302088 14.889532 3.854608e-50 1.388815e-46\n",
       "PMI0781   550.5741       4.700586 0.3798781 12.373931 3.616777e-35 6.515624e-32\n",
       "PMI0348  1505.6800       4.600672 0.5028233  9.149680 5.710249e-20 2.571753e-17\n",
       "PMI2408   120.5018       3.746797 0.4964789  7.546740 4.462876e-14 5.955459e-12\n",
       "PMI1956   159.9439       3.744966 0.3915971  9.563313 1.140459e-21 8.218148e-19\n",
       "...            ...            ...       ...       ...          ...          ...\n",
       "PMI0913 3785.43253      -3.023720 0.7010666 -4.313029 1.610333e-05 1.534928e-04\n",
       "PMI3598   50.08999      -3.272011 0.4342601 -7.534681 4.895316e-14 6.299223e-12\n",
       "PMI0807 2977.62767      -3.285358 0.4683805 -7.014293 2.311142e-12 1.982630e-10\n",
       "PMI0972  567.51523      -3.489978 0.5474981 -6.374411 1.836674e-10 1.033990e-08\n",
       "PMI2149 1967.55590      -3.925734 0.3974602 -9.877049 5.235167e-23 6.287435e-20"
      ]
     },
     "metadata": {},
     "output_type": "display_data"
    }
   ],
   "source": [
    "MUT_periphery_results <- TimeAnalysis_subset(exp_info_sample_names, counts, \n",
    "                                          experiment_info, \"L1\", \"B9\", \"2018-06-28-wt-b9-0-30.csv\")\n",
    "MUT_periphery_results$results"
   ]
  },
  {
   "cell_type": "code",
   "execution_count": 9,
   "metadata": {},
   "outputs": [
    {
     "name": "stdout",
     "output_type": "stream",
     "text": [
      "       lane.ID group.ID time.point strain.ID position RIN\n",
      "S77462      L3   Case13        0''        HI        B  NA\n",
      "S77463      L3   Case13        0''        HI        B  NA\n",
      "S77464      L3   Case13        0''        HI        B  NA\n",
      "S77465      L3   Case14       30''        HI        B  NA\n",
      "S77466      L3   Case14       30''        HI        B  NA\n",
      "S77467      L3   Case14       30''        HI        B  NA\n"
     ]
    },
    {
     "name": "stderr",
     "output_type": "stream",
     "text": [
      "factor levels were dropped which had no samples\n",
      "estimating size factors\n",
      "estimating dispersions\n",
      "gene-wise dispersion estimates\n",
      "mean-dispersion relationship\n",
      "final dispersion estimates\n",
      "fitting model and testing\n"
     ]
    },
    {
     "data": {
      "text/plain": [
       "log2 fold change (MAP): time.point 30'' vs 0'' \n",
       "Wald test p-value: time.point 30'' vs 0'' \n",
       "DataFrame with 0 rows and 6 columns"
      ]
     },
     "metadata": {},
     "output_type": "display_data"
    }
   ],
   "source": [
    "swarm_front_periphery_results <- TimeAnalysis_subset(exp_info_sample_names, counts, \n",
    "                                          experiment_info, \"L1\", \"B\", \"2018-06-28-wt-b-0-30.csv\")\n",
    "swarm_front_periphery_results$results"
   ]
  },
  {
   "cell_type": "markdown",
   "metadata": {},
   "source": [
    "### Analysis of Differential Gene Expression at the Swarm Front between 0 and 30 min"
   ]
  },
  {
   "cell_type": "code",
   "execution_count": 10,
   "metadata": {},
   "outputs": [
    {
     "name": "stdout",
     "output_type": "stream",
     "text": [
      "       lane.ID group.ID time.point strain.ID position RIN\n",
      "S76067      L2    Case5       30''        HI     L-HI 6.8\n",
      "S76068      L2    Case5       30''        HI     L-HI 6.1\n",
      "S76069      L2    Case5       30''        HI     L-HI 6.1\n",
      "S76070      L2    Case6        0''        HI     L-HI 6.4\n",
      "S76071      L2    Case6        0''        HI     L-HI 4.5\n",
      "S76072      L2    Case6        0''        HI     L-HI 6.1\n"
     ]
    },
    {
     "name": "stderr",
     "output_type": "stream",
     "text": [
      "factor levels were dropped which had no samples\n",
      "estimating size factors\n",
      "estimating dispersions\n",
      "gene-wise dispersion estimates\n",
      "mean-dispersion relationship\n",
      "final dispersion estimates\n",
      "fitting model and testing\n"
     ]
    },
    {
     "data": {
      "text/plain": [
       "log2 fold change (MAP): time.point 30'' vs 0'' \n",
       "Wald test p-value: time.point 30'' vs 0'' \n",
       "DataFrame with 121 rows and 6 columns\n",
       "         baseMean log2FoldChange     lfcSE      stat       pvalue         padj\n",
       "        <numeric>      <numeric> <numeric> <numeric>    <numeric>    <numeric>\n",
       "PMI1031  1003.517       2.775656 0.2312591 12.002363 3.452952e-33 1.196448e-29\n",
       "PMI0437  5635.458       2.063356 0.2094392  9.851812 6.731923e-23 5.831528e-20\n",
       "PMI3038  1196.089       2.044178 0.2278525  8.971497 2.925126e-19 1.013556e-16\n",
       "PMI2847  4752.583       1.912011 0.1969639  9.707418 2.803483e-22 1.825954e-19\n",
       "PMI2254 10780.565       1.862599 0.1613418 11.544432 7.875990e-31 1.364515e-27\n",
       "...           ...            ...       ...       ...          ...          ...\n",
       "PMI1426 1939.4264      -1.631109 0.2685475 -6.073820 1.249028e-09 6.658279e-08\n",
       "PMI0176  219.7845      -1.854880 0.2793990 -6.638824 3.161964e-11 2.235960e-09\n",
       "PMI1425 1318.4807      -1.966218 0.2666194 -7.374625 1.648088e-13 1.730492e-11\n",
       "PMI1551  375.1962      -2.045847 0.2364141 -8.653656 4.987534e-18 1.152120e-15\n",
       "PMI0175  143.9836      -2.106429 0.2974217 -7.082297 1.417847e-12 1.364678e-10"
      ]
     },
     "metadata": {},
     "output_type": "display_data"
    }
   ],
   "source": [
    "swarm_front_results <- TimeAnalysis_subset(exp_info_sample_names, counts, \n",
    "                                          experiment_info, \"L1\", \"L-HI\", \"2018-06-28-wt-swarm-front-0-30.csv\")\n",
    "swarm_front_results$results"
   ]
  },
  {
   "cell_type": "markdown",
   "metadata": {
    "collapsed": true
   },
   "source": [
    "### Analysis of Differential Gene Expression at the Dienes Line/Swarm Front at 0 and 4 hours"
   ]
  },
  {
   "cell_type": "code",
   "execution_count": 18,
   "metadata": {},
   "outputs": [],
   "source": [
    "counts_file = paste(\"/Users/annasintsova/git_repos/spatial_dynamics_of_gene_expression_in_response_to_T6SS_attack\",\n",
    "                     \"/data/counts/reverse/2018-04-25_counts.csv\", sep = \"\")\n",
    "counts <- read.table(counts_file, row.names =1, sep = \",\", header = TRUE)\n",
    "s_names <- c()\n",
    "for (c in colnames(counts)){\n",
    "    x <- gsub(\"X\", \"S\", unlist(strsplit(c, \"_\"))[[1]])\n",
    "    s_names <-c(s_names,x)\n",
    "}\n",
    "colnames(counts) <- s_names\n"
   ]
  },
  {
   "cell_type": "code",
   "execution_count": 13,
   "metadata": {},
   "outputs": [
    {
     "name": "stdout",
     "output_type": "stream",
     "text": [
      "       lane.ID group.ID time.point strain.ID position RIN\n",
      "S63630      L1    Case1        0''        HI     L-HI  NA\n",
      "S63631      L1    Case1        0''        HI     L-HI  NA\n",
      "S63632      L1    Case1        0''        HI     L-HI  NA\n",
      "S63633      L1    Case2         4'        HI     L-HI  NA\n",
      "S63634      L1    Case2         4'        HI     L-HI  NA\n",
      "S63635      L1    Case2         4'        HI     L-HI  NA\n"
     ]
    },
    {
     "name": "stderr",
     "output_type": "stream",
     "text": [
      "factor levels were dropped which had no samples\n",
      "estimating size factors\n",
      "estimating dispersions\n",
      "gene-wise dispersion estimates\n",
      "mean-dispersion relationship\n",
      "final dispersion estimates\n",
      "fitting model and testing\n"
     ]
    },
    {
     "data": {
      "text/plain": [
       "log2 fold change (MAP): time.point 4' vs 0'' \n",
       "Wald test p-value: time.point 4' vs 0'' \n",
       "DataFrame with 215 rows and 6 columns\n",
       "                        baseMean log2FoldChange     lfcSE      stat\n",
       "                       <numeric>      <numeric> <numeric> <numeric>\n",
       "PMI0474               144.426100       3.950637 0.3824828 10.328926\n",
       "PMI1283                12.183354       3.401635 0.7749701  4.389376\n",
       "PMI0235                 7.113928       3.188586 0.8576869  3.717657\n",
       "PMI1709               233.867685       2.727142 0.3754651  7.263370\n",
       "fig|529507.6.peg.2778  10.644931       2.726832 0.8104134  3.364741\n",
       "...                          ...            ...       ...       ...\n",
       "PMI0013                 6.505418      -3.088101 0.8645297 -3.572001\n",
       "PMI2148                10.078518      -3.178758 0.8130289 -3.909773\n",
       "PMI3267                57.163982      -3.188819 0.5768765 -5.527733\n",
       "PMI2435                 6.697351      -3.280723 0.8576114 -3.825420\n",
       "PMI2285                21.573583      -3.706715 0.7578696 -4.890967\n",
       "                            pvalue         padj\n",
       "                         <numeric>    <numeric>\n",
       "PMI0474               5.214109e-25 4.897787e-22\n",
       "PMI1283               1.136763e-05 4.294868e-04\n",
       "PMI0235               2.010787e-04 4.632461e-03\n",
       "PMI1709               3.775622e-13 7.599788e-11\n",
       "fig|529507.6.peg.2778 7.661544e-04 1.349389e-02\n",
       "...                            ...          ...\n",
       "PMI0013               3.542636e-04 7.286970e-03\n",
       "PMI2148               9.238298e-05 2.433040e-03\n",
       "PMI3267               3.243960e-08 2.539299e-06\n",
       "PMI2435               1.305496e-04 3.199032e-03\n",
       "PMI2285               1.003419e-06 5.049347e-05"
      ]
     },
     "metadata": {},
     "output_type": "display_data"
    }
   ],
   "source": [
    "swarm_front_4_results <- TimeAnalysis_subset(exp_info_sample_names, counts, \n",
    "                                          experiment_info, \"L2\", \"L-HI\", \"2018-06-28-wt-swarm-front-0-4.csv\")\n",
    "swarm_front_4_results$results"
   ]
  },
  {
   "cell_type": "code",
   "execution_count": 14,
   "metadata": {},
   "outputs": [
    {
     "name": "stdout",
     "output_type": "stream",
     "text": [
      "       lane.ID group.ID time.point strain.ID position RIN\n",
      "S63636      L1    Case3        0''       Mix     L-9C  NA\n",
      "S63638      L1    Case3        0''       Mix     L-9C  NA\n",
      "S63639      L1    Case4         4'       Mix     L-9C  NA\n",
      "S63641      L1    Case4         4'       Mix     L-9C  NA\n"
     ]
    },
    {
     "name": "stderr",
     "output_type": "stream",
     "text": [
      "factor levels were dropped which had no samples\n",
      "estimating size factors\n",
      "estimating dispersions\n",
      "gene-wise dispersion estimates\n",
      "mean-dispersion relationship\n",
      "final dispersion estimates\n",
      "fitting model and testing\n"
     ]
    },
    {
     "data": {
      "text/plain": [
       "log2 fold change (MAP): time.point 4' vs 0'' \n",
       "Wald test p-value: time.point 4' vs 0'' \n",
       "DataFrame with 90 rows and 6 columns\n",
       "                       baseMean log2FoldChange     lfcSE      stat       pvalue\n",
       "                      <numeric>      <numeric> <numeric> <numeric>    <numeric>\n",
       "PMI0474                62.01907       3.382885 0.6408443  5.278795 1.300365e-07\n",
       "fig|529507.6.peg.2778  15.33429       3.070472 0.8719521  3.521376 4.293127e-04\n",
       "PMIP19                 54.91956       2.994731 0.6923662  4.325357 1.522847e-05\n",
       "fig|529507.6.peg.2392  13.31491       2.858944 0.8818635  3.241935 1.187210e-03\n",
       "fig|529507.6.peg.1026  68.34178       2.858905 0.5879001  4.862909 1.156733e-06\n",
       "...                         ...            ...       ...       ...          ...\n",
       "PMI3279               110.98739      -3.548970 0.6426570 -5.522340 3.345152e-08\n",
       "PMI2794                45.19923      -3.674224 0.6866013 -5.351321 8.731456e-08\n",
       "PMI2824                68.89319      -3.678898 0.7681170 -4.789502 1.671958e-06\n",
       "PMI1864                13.01919      -3.717153 0.9263657 -4.012619 6.004875e-05\n",
       "PMI3267                75.65468      -3.981900 0.6226175 -6.395418 1.601086e-10\n",
       "                              padj\n",
       "                         <numeric>\n",
       "PMI0474               3.585735e-05\n",
       "fig|529507.6.peg.2778 1.280673e-02\n",
       "PMIP19                1.230333e-03\n",
       "fig|529507.6.peg.2392 3.069335e-02\n",
       "fig|529507.6.peg.1026 1.602075e-04\n",
       "...                            ...\n",
       "PMI3279               1.490245e-05\n",
       "PMI2794               2.821716e-05\n",
       "PMI2824               2.026205e-04\n",
       "PMI1864               3.326701e-03\n",
       "PMI3267               3.104505e-07"
      ]
     },
     "metadata": {},
     "output_type": "display_data"
    }
   ],
   "source": [
    "dienes_line_4_results <- TimeAnalysis_subset(exp_info_sample_names, counts, \n",
    "                                          experiment_info, \"L2\", \"L-9C\", \"2018-06-28-wt-dienes-line-0-4.csv\")\n",
    "dienes_line_4_results$results"
   ]
  },
  {
   "cell_type": "code",
   "execution_count": null,
   "metadata": {
    "collapsed": true
   },
   "outputs": [],
   "source": []
  }
 ],
 "metadata": {
  "kernelspec": {
   "display_name": "R",
   "language": "R",
   "name": "ir"
  },
  "language_info": {
   "codemirror_mode": "r",
   "file_extension": ".r",
   "mimetype": "text/x-r-source",
   "name": "R",
   "pygments_lexer": "r",
   "version": "3.5.1"
  }
 },
 "nbformat": 4,
 "nbformat_minor": 2
}
